{
 "cells": [
  {
   "cell_type": "markdown",
   "id": "875c52cc",
   "metadata": {
    "papermill": {
     "duration": 0.004225,
     "end_time": "2025-03-21T14:43:33.537312",
     "exception": false,
     "start_time": "2025-03-21T14:43:33.533087",
     "status": "completed"
    },
    "tags": []
   },
   "source": [
    "# Introduction\n",
    "\n",
    "Après le rendez-vous du 18/03 avec Thomas, il nous a été conseillé de se concentrer maintenant sur la temporalité dans les données et la création d'une variable target. \n",
    "\n",
    "On se concentrera ici sur la target  \n",
    "Contrairement aux précédents notebooks (top10), l'exploration ici se fait sur l'ensemble des données : les indicateurs financiers fondamentaux de 100 entreprises au Nasdaq de 2020 à 2024\n",
    "\n"
   ]
  },
  {
   "cell_type": "markdown",
   "id": "605b94df",
   "metadata": {
    "papermill": {
     "duration": 0.003397,
     "end_time": "2025-03-21T14:43:33.544773",
     "exception": false,
     "start_time": "2025-03-21T14:43:33.541376",
     "status": "completed"
    },
    "tags": []
   },
   "source": [
    "# Préparation des données et import"
   ]
  },
  {
   "cell_type": "code",
   "execution_count": 62,
   "id": "8b7888d1",
   "metadata": {
    "_cell_guid": "b1076dfc-b9ad-4769-8c92-a6c4dae69d19",
    "_uuid": "8f2839f25d086af736a60e9eeb907d3b93b6e0e5",
    "execution": {
     "iopub.execute_input": "2025-03-21T14:43:33.553293Z",
     "iopub.status.busy": "2025-03-21T14:43:33.552930Z",
     "iopub.status.idle": "2025-03-21T14:43:35.573852Z",
     "shell.execute_reply": "2025-03-21T14:43:35.572441Z"
    },
    "papermill": {
     "duration": 2.027484,
     "end_time": "2025-03-21T14:43:35.575792",
     "exception": false,
     "start_time": "2025-03-21T14:43:33.548308",
     "status": "completed"
    },
    "tags": []
   },
   "outputs": [
    {
     "name": "stdout",
     "output_type": "stream",
     "text": [
      "['ADBE' 'AMD' 'ABNB' 'GOOGL' 'GOOG' 'AMZN' 'AEP' 'AMGN' 'ADI' 'ANSS'\n",
      " 'AAPL' 'AMAT' 'APP' 'ARM' 'ASML' 'AZN' 'TEAM' 'ADSK' 'ADP' 'AXON' 'BKR'\n",
      " 'BIIB' 'BKNG' 'AVGO' 'CDNS' 'CDW' 'CHTR' 'CTAS' 'CSCO' 'CCEP' 'CTSH'\n",
      " 'CMCSA' 'CEG' 'CPRT' 'CSGP' 'COST' 'CRWD' 'CSX' 'DDOG' 'DXCM' 'FANG'\n",
      " 'DASH' 'EA' 'EXC' 'FAST' 'FTNT' 'GEHC' 'GILD' 'GFS' 'HON' 'IDXX' 'INTC'\n",
      " 'INTU' 'ISRG' 'KDP' 'KLAC' 'KHC' 'LRCX' 'LIN' 'LULU' 'MAR' 'MRVL' 'MELI'\n",
      " 'META' 'MCHP' 'MU' 'MSFT' 'MSTR' 'MDLZ' 'MDB' 'MNST' 'NFLX' 'NVDA' 'NXPI'\n",
      " 'ORLY' 'ODFL' 'ON' 'PCAR' 'PLTR' 'PANW' 'PAYX' 'PYPL' 'PDD' 'PEP' 'QCOM'\n",
      " 'REGN' 'ROP' 'ROST' 'SBUX' 'SNPS' 'TTWO' 'TMUS' 'TSLA' 'TXN' 'TTD' 'VRSK'\n",
      " 'VRTX' 'WBD' 'WDAY' 'XEL' 'ZS']\n"
     ]
    }
   ],
   "source": [
    "import numpy as np\n",
    "import pandas as pd\n",
    "import plotly.express as px\n",
    "import plotly.graph_objects as go \n",
    "from plotly.subplots import make_subplots\n",
    "\n",
    "# Import du csv précédemment utilisé\n",
    "df = pd.read_csv('../csv/nasdaq100_fundamentals_fpm.csv')\n",
    "\n",
    "print(df.symbol.unique())\n",
    "df = df.drop(15) # Un index de google"
   ]
  },
  {
   "cell_type": "markdown",
   "id": "478416fd",
   "metadata": {
    "papermill": {
     "duration": 0.003561,
     "end_time": "2025-03-21T14:43:35.583311",
     "exception": false,
     "start_time": "2025-03-21T14:43:35.579750",
     "status": "completed"
    },
    "tags": []
   },
   "source": [
    "Google est en double sous deux tickers différents, avec les mêmes valeurs  \n",
    "On supprime donc un des doublons"
   ]
  },
  {
   "cell_type": "code",
   "execution_count": 63,
   "id": "515d1bb4",
   "metadata": {
    "execution": {
     "iopub.execute_input": "2025-03-21T14:43:35.592537Z",
     "iopub.status.busy": "2025-03-21T14:43:35.592179Z",
     "iopub.status.idle": "2025-03-21T14:43:35.599682Z",
     "shell.execute_reply": "2025-03-21T14:43:35.598534Z"
    },
    "papermill": {
     "duration": 0.014327,
     "end_time": "2025-03-21T14:43:35.601386",
     "exception": false,
     "start_time": "2025-03-21T14:43:35.587059",
     "status": "completed"
    },
    "tags": []
   },
   "outputs": [],
   "source": [
    "# Filtrer les données de 2024 pour comparaison et calculer la marge de profit\n",
    "df['marginProfit'] = df.netIncomePerShare / df.revenuePerShare\n",
    "nsdq24 = df[df.calendarYear == 2024].copy()"
   ]
  },
  {
   "cell_type": "markdown",
   "id": "5ad21761",
   "metadata": {
    "papermill": {
     "duration": 0.003507,
     "end_time": "2025-03-21T14:43:35.609438",
     "exception": false,
     "start_time": "2025-03-21T14:43:35.605931",
     "status": "completed"
    },
    "tags": []
   },
   "source": [
    "La **marge de profit** fait partie de nos indicateurs, on la crée donc ici   \n",
    "\n",
    "Bénéfice net par action : netIncomePerShare  \n",
    "Revenu par action : revenuePerShare  \n",
    "Formule : **netMargin = (netIncomePerShare / revenuePerShare)**\n",
    "\n",
    "Par rapport aux autres notebooks, on rajoute ici un indicateur **debtToEquity** afin de mesurer la solidité d'une entreprise.  \n",
    "L'indicateur mesure les **fonds propres (Actifs - Dettes)**"
   ]
  },
  {
   "cell_type": "code",
   "execution_count": 64,
   "id": "b4e005d5",
   "metadata": {
    "execution": {
     "iopub.execute_input": "2025-03-21T14:43:35.618495Z",
     "iopub.status.busy": "2025-03-21T14:43:35.618112Z",
     "iopub.status.idle": "2025-03-21T14:43:37.992156Z",
     "shell.execute_reply": "2025-03-21T14:43:37.991139Z"
    },
    "papermill": {
     "duration": 2.49262,
     "end_time": "2025-03-21T14:43:38.105795",
     "exception": false,
     "start_time": "2025-03-21T14:43:35.613175",
     "status": "completed"
    },
    "tags": []
   },
   "outputs": [
    {
     "data": {
      "application/vnd.plotly.v1+json": {
       "config": {
        "plotlyServerURL": "https://plot.ly"
       },
       "data": [
        {
         "alignmentgroup": "True",
         "boxpoints": "all",
         "fillcolor": "rgba(255,255,255,0)",
         "hoveron": "points",
         "hovertemplate": "<b>%{hovertext}</b><br><br>variable=%{x}<br>value=%{y}<extra></extra>",
         "hovertext": [
          "ADBE",
          "ADBE",
          "ADBE",
          "ADBE",
          "ADBE",
          "AMD",
          "AMD",
          "AMD",
          "AMD",
          "AMD",
          "ABNB",
          "ABNB",
          "ABNB",
          "ABNB",
          "ABNB",
          "GOOGL",
          "GOOGL",
          "GOOGL",
          "GOOGL",
          "GOOG",
          "GOOG",
          "GOOG",
          "GOOG",
          "GOOG",
          "AMZN",
          "AMZN",
          "AMZN",
          "AMZN",
          "AMZN",
          "AEP",
          "AEP",
          "AEP",
          "AEP",
          "AEP",
          "AMGN",
          "AMGN",
          "AMGN",
          "AMGN",
          "AMGN",
          "ADI",
          "ADI",
          "ADI",
          "ADI",
          "ADI",
          "ANSS",
          "ANSS",
          "ANSS",
          "ANSS",
          "ANSS",
          "AAPL",
          "AAPL",
          "AAPL",
          "AAPL",
          "AAPL",
          "AMAT",
          "AMAT",
          "AMAT",
          "AMAT",
          "AMAT",
          "APP",
          "APP",
          "APP",
          "APP",
          "APP",
          "ARM",
          "ARM",
          "ARM",
          "ARM",
          "ASML",
          "ASML",
          "ASML",
          "ASML",
          "ASML",
          "AZN",
          "AZN",
          "AZN",
          "AZN",
          "AZN",
          "TEAM",
          "TEAM",
          "TEAM",
          "TEAM",
          "TEAM",
          "ADSK",
          "ADSK",
          "ADSK",
          "ADSK",
          "ADSK",
          "ADP",
          "ADP",
          "ADP",
          "ADP",
          "ADP",
          "AXON",
          "AXON",
          "AXON",
          "AXON",
          "AXON",
          "BKR",
          "BKR",
          "BKR",
          "BKR",
          "BKR",
          "BIIB",
          "BIIB",
          "BIIB",
          "BIIB",
          "BIIB",
          "BKNG",
          "BKNG",
          "BKNG",
          "BKNG",
          "BKNG",
          "AVGO",
          "AVGO",
          "AVGO",
          "AVGO",
          "AVGO",
          "CDNS",
          "CDNS",
          "CDNS",
          "CDNS",
          "CDNS",
          "CDW",
          "CDW",
          "CDW",
          "CDW",
          "CDW",
          "CHTR",
          "CHTR",
          "CHTR",
          "CHTR",
          "CHTR",
          "CTAS",
          "CTAS",
          "CTAS",
          "CTAS",
          "CTAS",
          "CSCO",
          "CSCO",
          "CSCO",
          "CSCO",
          "CSCO",
          "CCEP",
          "CCEP",
          "CCEP",
          "CCEP",
          "CCEP",
          "CTSH",
          "CTSH",
          "CTSH",
          "CTSH",
          "CTSH",
          "CMCSA",
          "CMCSA",
          "CMCSA",
          "CMCSA",
          "CMCSA",
          "CEG",
          "CEG",
          "CEG",
          "CEG",
          "CEG",
          "CPRT",
          "CPRT",
          "CPRT",
          "CPRT",
          "CPRT",
          "CSGP",
          "CSGP",
          "CSGP",
          "CSGP",
          "CSGP",
          "COST",
          "COST",
          "COST",
          "COST",
          "COST",
          "CRWD",
          "CRWD",
          "CRWD",
          "CRWD",
          "CRWD",
          "CSX",
          "CSX",
          "CSX",
          "CSX",
          "CSX",
          "DDOG",
          "DDOG",
          "DDOG",
          "DDOG",
          "DDOG",
          "DXCM",
          "DXCM",
          "DXCM",
          "DXCM",
          "DXCM",
          "FANG",
          "FANG",
          "FANG",
          "FANG",
          "FANG",
          "DASH",
          "DASH",
          "DASH",
          "DASH",
          "DASH",
          "EA",
          "EA",
          "EA",
          "EA",
          "EA",
          "EXC",
          "EXC",
          "EXC",
          "EXC",
          "EXC",
          "FAST",
          "FAST",
          "FAST",
          "FAST",
          "FAST",
          "FTNT",
          "FTNT",
          "FTNT",
          "FTNT",
          "FTNT",
          "GEHC",
          "GEHC",
          "GEHC",
          "GEHC",
          "GEHC",
          "GILD",
          "GILD",
          "GILD",
          "GILD",
          "GILD",
          "GFS",
          "GFS",
          "GFS",
          "GFS",
          "GFS",
          "HON",
          "HON",
          "HON",
          "HON",
          "HON",
          "IDXX",
          "IDXX",
          "IDXX",
          "IDXX",
          "IDXX",
          "INTC",
          "INTC",
          "INTC",
          "INTC",
          "INTC",
          "INTU",
          "INTU",
          "INTU",
          "INTU",
          "INTU",
          "ISRG",
          "ISRG",
          "ISRG",
          "ISRG",
          "ISRG",
          "KDP",
          "KDP",
          "KDP",
          "KDP",
          "KDP",
          "KLAC",
          "KLAC",
          "KLAC",
          "KLAC",
          "KLAC",
          "KHC",
          "KHC",
          "KHC",
          "KHC",
          "KHC",
          "LRCX",
          "LRCX",
          "LRCX",
          "LRCX",
          "LRCX",
          "LIN",
          "LIN",
          "LIN",
          "LIN",
          "LIN",
          "LULU",
          "LULU",
          "LULU",
          "LULU",
          "LULU",
          "MAR",
          "MAR",
          "MAR",
          "MAR",
          "MAR",
          "MRVL",
          "MRVL",
          "MRVL",
          "MRVL",
          "MRVL",
          "MELI",
          "MELI",
          "MELI",
          "MELI",
          "MELI",
          "META",
          "META",
          "META",
          "META",
          "META",
          "MCHP",
          "MCHP",
          "MCHP",
          "MCHP",
          "MCHP",
          "MU",
          "MU",
          "MU",
          "MU",
          "MU",
          "MSFT",
          "MSFT",
          "MSFT",
          "MSFT",
          "MSFT",
          "MSTR",
          "MSTR",
          "MSTR",
          "MSTR",
          "MSTR",
          "MDLZ",
          "MDLZ",
          "MDLZ",
          "MDLZ",
          "MDLZ",
          "MDB",
          "MDB",
          "MDB",
          "MDB",
          "MDB",
          "MNST",
          "MNST",
          "MNST",
          "MNST",
          "MNST",
          "NFLX",
          "NFLX",
          "NFLX",
          "NFLX",
          "NFLX",
          "NVDA",
          "NVDA",
          "NVDA",
          "NVDA",
          "NVDA",
          "NXPI",
          "NXPI",
          "NXPI",
          "NXPI",
          "NXPI",
          "ORLY",
          "ORLY",
          "ORLY",
          "ORLY",
          "ORLY",
          "ODFL",
          "ODFL",
          "ODFL",
          "ODFL",
          "ODFL",
          "ON",
          "ON",
          "ON",
          "ON",
          "ON",
          "PCAR",
          "PCAR",
          "PCAR",
          "PCAR",
          "PCAR",
          "PLTR",
          "PLTR",
          "PLTR",
          "PLTR",
          "PLTR",
          "PANW",
          "PANW",
          "PANW",
          "PANW",
          "PANW",
          "PAYX",
          "PAYX",
          "PAYX",
          "PAYX",
          "PAYX",
          "PYPL",
          "PYPL",
          "PYPL",
          "PYPL",
          "PYPL",
          "PDD",
          "PDD",
          "PDD",
          "PDD",
          "PDD",
          "PEP",
          "PEP",
          "PEP",
          "PEP",
          "PEP",
          "QCOM",
          "QCOM",
          "QCOM",
          "QCOM",
          "QCOM",
          "REGN",
          "REGN",
          "REGN",
          "REGN",
          "REGN",
          "ROP",
          "ROP",
          "ROP",
          "ROP",
          "ROP",
          "ROST",
          "ROST",
          "ROST",
          "ROST",
          "ROST",
          "SBUX",
          "SBUX",
          "SBUX",
          "SBUX",
          "SBUX",
          "SNPS",
          "SNPS",
          "SNPS",
          "SNPS",
          "SNPS",
          "TTWO",
          "TTWO",
          "TTWO",
          "TTWO",
          "TTWO",
          "TMUS",
          "TMUS",
          "TMUS",
          "TMUS",
          "TMUS",
          "TSLA",
          "TSLA",
          "TSLA",
          "TSLA",
          "TSLA",
          "TXN",
          "TXN",
          "TXN",
          "TXN",
          "TXN",
          "TTD",
          "TTD",
          "TTD",
          "TTD",
          "TTD",
          "VRSK",
          "VRSK",
          "VRSK",
          "VRSK",
          "VRSK",
          "VRTX",
          "VRTX",
          "VRTX",
          "VRTX",
          "VRTX",
          "WBD",
          "WBD",
          "WBD",
          "WBD",
          "WBD",
          "WDAY",
          "WDAY",
          "WDAY",
          "WDAY",
          "WDAY",
          "XEL",
          "XEL",
          "XEL",
          "XEL",
          "XEL",
          "ZS",
          "ZS",
          "ZS",
          "ZS",
          "ZS"
         ],
         "legendgroup": "",
         "line": {
          "color": "rgba(255,255,255,0)"
         },
         "marker": {
          "color": "#636efa"
         },
         "name": "",
         "offsetgroup": "",
         "orientation": "v",
         "pointpos": 0,
         "showlegend": false,
         "type": "box",
         "x": [
          "peRatio",
          "peRatio",
          "peRatio",
          "peRatio",
          "peRatio",
          "peRatio",
          "peRatio",
          "peRatio",
          "peRatio",
          "peRatio",
          "peRatio",
          "peRatio",
          "peRatio",
          "peRatio",
          "peRatio",
          "peRatio",
          "peRatio",
          "peRatio",
          "peRatio",
          "peRatio",
          "peRatio",
          "peRatio",
          "peRatio",
          "peRatio",
          "peRatio",
          "peRatio",
          "peRatio",
          "peRatio",
          "peRatio",
          "peRatio",
          "peRatio",
          "peRatio",
          "peRatio",
          "peRatio",
          "peRatio",
          "peRatio",
          "peRatio",
          "peRatio",
          "peRatio",
          "peRatio",
          "peRatio",
          "peRatio",
          "peRatio",
          "peRatio",
          "peRatio",
          "peRatio",
          "peRatio",
          "peRatio",
          "peRatio",
          "peRatio",
          "peRatio",
          "peRatio",
          "peRatio",
          "peRatio",
          "peRatio",
          "peRatio",
          "peRatio",
          "peRatio",
          "peRatio",
          "peRatio",
          "peRatio",
          "peRatio",
          "peRatio",
          "peRatio",
          "peRatio",
          "peRatio",
          "peRatio",
          "peRatio",
          "peRatio",
          "peRatio",
          "peRatio",
          "peRatio",
          "peRatio",
          "peRatio",
          "peRatio",
          "peRatio",
          "peRatio",
          "peRatio",
          "peRatio",
          "peRatio",
          "peRatio",
          "peRatio",
          "peRatio",
          "peRatio",
          "peRatio",
          "peRatio",
          "peRatio",
          "peRatio",
          "peRatio",
          "peRatio",
          "peRatio",
          "peRatio",
          "peRatio",
          "peRatio",
          "peRatio",
          "peRatio",
          "peRatio",
          "peRatio",
          "peRatio",
          "peRatio",
          "peRatio",
          "peRatio",
          "peRatio",
          "peRatio",
          "peRatio",
          "peRatio",
          "peRatio",
          "peRatio",
          "peRatio",
          "peRatio",
          "peRatio",
          "peRatio",
          "peRatio",
          "peRatio",
          "peRatio",
          "peRatio",
          "peRatio",
          "peRatio",
          "peRatio",
          "peRatio",
          "peRatio",
          "peRatio",
          "peRatio",
          "peRatio",
          "peRatio",
          "peRatio",
          "peRatio",
          "peRatio",
          "peRatio",
          "peRatio",
          "peRatio",
          "peRatio",
          "peRatio",
          "peRatio",
          "peRatio",
          "peRatio",
          "peRatio",
          "peRatio",
          "peRatio",
          "peRatio",
          "peRatio",
          "peRatio",
          "peRatio",
          "peRatio",
          "peRatio",
          "peRatio",
          "peRatio",
          "peRatio",
          "peRatio",
          "peRatio",
          "peRatio",
          "peRatio",
          "peRatio",
          "peRatio",
          "peRatio",
          "peRatio",
          "peRatio",
          "peRatio",
          "peRatio",
          "peRatio",
          "peRatio",
          "peRatio",
          "peRatio",
          "peRatio",
          "peRatio",
          "peRatio",
          "peRatio",
          "peRatio",
          "peRatio",
          "peRatio",
          "peRatio",
          "peRatio",
          "peRatio",
          "peRatio",
          "peRatio",
          "peRatio",
          "peRatio",
          "peRatio",
          "peRatio",
          "peRatio",
          "peRatio",
          "peRatio",
          "peRatio",
          "peRatio",
          "peRatio",
          "peRatio",
          "peRatio",
          "peRatio",
          "peRatio",
          "peRatio",
          "peRatio",
          "peRatio",
          "peRatio",
          "peRatio",
          "peRatio",
          "peRatio",
          "peRatio",
          "peRatio",
          "peRatio",
          "peRatio",
          "peRatio",
          "peRatio",
          "peRatio",
          "peRatio",
          "peRatio",
          "peRatio",
          "peRatio",
          "peRatio",
          "peRatio",
          "peRatio",
          "peRatio",
          "peRatio",
          "peRatio",
          "peRatio",
          "peRatio",
          "peRatio",
          "peRatio",
          "peRatio",
          "peRatio",
          "peRatio",
          "peRatio",
          "peRatio",
          "peRatio",
          "peRatio",
          "peRatio",
          "peRatio",
          "peRatio",
          "peRatio",
          "peRatio",
          "peRatio",
          "peRatio",
          "peRatio",
          "peRatio",
          "peRatio",
          "peRatio",
          "peRatio",
          "peRatio",
          "peRatio",
          "peRatio",
          "peRatio",
          "peRatio",
          "peRatio",
          "peRatio",
          "peRatio",
          "peRatio",
          "peRatio",
          "peRatio",
          "peRatio",
          "peRatio",
          "peRatio",
          "peRatio",
          "peRatio",
          "peRatio",
          "peRatio",
          "peRatio",
          "peRatio",
          "peRatio",
          "peRatio",
          "peRatio",
          "peRatio",
          "peRatio",
          "peRatio",
          "peRatio",
          "peRatio",
          "peRatio",
          "peRatio",
          "peRatio",
          "peRatio",
          "peRatio",
          "peRatio",
          "peRatio",
          "peRatio",
          "peRatio",
          "peRatio",
          "peRatio",
          "peRatio",
          "peRatio",
          "peRatio",
          "peRatio",
          "peRatio",
          "peRatio",
          "peRatio",
          "peRatio",
          "peRatio",
          "peRatio",
          "peRatio",
          "peRatio",
          "peRatio",
          "peRatio",
          "peRatio",
          "peRatio",
          "peRatio",
          "peRatio",
          "peRatio",
          "peRatio",
          "peRatio",
          "peRatio",
          "peRatio",
          "peRatio",
          "peRatio",
          "peRatio",
          "peRatio",
          "peRatio",
          "peRatio",
          "peRatio",
          "peRatio",
          "peRatio",
          "peRatio",
          "peRatio",
          "peRatio",
          "peRatio",
          "peRatio",
          "peRatio",
          "peRatio",
          "peRatio",
          "peRatio",
          "peRatio",
          "peRatio",
          "peRatio",
          "peRatio",
          "peRatio",
          "peRatio",
          "peRatio",
          "peRatio",
          "peRatio",
          "peRatio",
          "peRatio",
          "peRatio",
          "peRatio",
          "peRatio",
          "peRatio",
          "peRatio",
          "peRatio",
          "peRatio",
          "peRatio",
          "peRatio",
          "peRatio",
          "peRatio",
          "peRatio",
          "peRatio",
          "peRatio",
          "peRatio",
          "peRatio",
          "peRatio",
          "peRatio",
          "peRatio",
          "peRatio",
          "peRatio",
          "peRatio",
          "peRatio",
          "peRatio",
          "peRatio",
          "peRatio",
          "peRatio",
          "peRatio",
          "peRatio",
          "peRatio",
          "peRatio",
          "peRatio",
          "peRatio",
          "peRatio",
          "peRatio",
          "peRatio",
          "peRatio",
          "peRatio",
          "peRatio",
          "peRatio",
          "peRatio",
          "peRatio",
          "peRatio",
          "peRatio",
          "peRatio",
          "peRatio",
          "peRatio",
          "peRatio",
          "peRatio",
          "peRatio",
          "peRatio",
          "peRatio",
          "peRatio",
          "peRatio",
          "peRatio",
          "peRatio",
          "peRatio",
          "peRatio",
          "peRatio",
          "peRatio",
          "peRatio",
          "peRatio",
          "peRatio",
          "peRatio",
          "peRatio",
          "peRatio",
          "peRatio",
          "peRatio",
          "peRatio",
          "peRatio",
          "peRatio",
          "peRatio",
          "peRatio",
          "peRatio",
          "peRatio",
          "peRatio",
          "peRatio",
          "peRatio",
          "peRatio",
          "peRatio",
          "peRatio",
          "peRatio",
          "peRatio",
          "peRatio",
          "peRatio",
          "peRatio",
          "peRatio",
          "peRatio",
          "peRatio",
          "peRatio",
          "peRatio",
          "peRatio",
          "peRatio",
          "peRatio",
          "peRatio",
          "peRatio",
          "peRatio",
          "peRatio",
          "peRatio",
          "peRatio",
          "peRatio",
          "peRatio",
          "peRatio",
          "peRatio",
          "peRatio",
          "peRatio",
          "peRatio",
          "peRatio",
          "peRatio",
          "peRatio",
          "peRatio",
          "peRatio",
          "peRatio",
          "peRatio",
          "peRatio",
          "peRatio",
          "peRatio",
          "peRatio",
          "peRatio",
          "peRatio",
          "peRatio",
          "peRatio",
          "peRatio",
          "peRatio",
          "peRatio",
          "peRatio",
          "peRatio",
          "peRatio",
          "peRatio",
          "peRatio",
          "peRatio",
          "peRatio",
          "peRatio",
          "peRatio",
          "peRatio",
          "peRatio",
          "peRatio",
          "peRatio",
          "peRatio",
          "peRatio",
          "peRatio",
          "peRatio",
          "peRatio",
          "peRatio",
          "peRatio",
          "peRatio",
          "peRatio",
          "peRatio",
          "peRatio",
          "peRatio",
          "peRatio",
          "peRatio",
          "peRatio",
          "peRatio",
          "peRatio",
          "peRatio",
          "peRatio",
          "peRatio",
          "peRatio",
          "peRatio",
          "peRatio",
          "peRatio",
          "peRatio",
          "peRatio",
          "peRatio",
          "peRatio",
          "peRatio",
          "peRatio",
          "peRatio",
          "peRatio",
          "peRatio",
          "peRatio",
          "peRatio",
          "peRatio",
          "peRatio",
          "peRatio"
         ],
         "x0": " ",
         "xaxis": "x",
         "y": {
          "bdata": "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",
          "dtype": "f8"
         },
         "y0": " ",
         "yaxis": "y"
        },
        {
         "alignmentgroup": "True",
         "boxpoints": "all",
         "fillcolor": "rgba(255,255,255,0)",
         "hoveron": "points",
         "hovertemplate": "<b>%{hovertext}</b><br><br>variable=%{x}<br>value=%{y}<extra></extra>",
         "hovertext": [
          "ADBE",
          "ADBE",
          "ADBE",
          "ADBE",
          "ADBE",
          "AMD",
          "AMD",
          "AMD",
          "AMD",
          "AMD",
          "ABNB",
          "ABNB",
          "ABNB",
          "ABNB",
          "ABNB",
          "GOOGL",
          "GOOGL",
          "GOOGL",
          "GOOGL",
          "GOOG",
          "GOOG",
          "GOOG",
          "GOOG",
          "GOOG",
          "AMZN",
          "AMZN",
          "AMZN",
          "AMZN",
          "AMZN",
          "AEP",
          "AEP",
          "AEP",
          "AEP",
          "AEP",
          "AMGN",
          "AMGN",
          "AMGN",
          "AMGN",
          "AMGN",
          "ADI",
          "ADI",
          "ADI",
          "ADI",
          "ADI",
          "ANSS",
          "ANSS",
          "ANSS",
          "ANSS",
          "ANSS",
          "AAPL",
          "AAPL",
          "AAPL",
          "AAPL",
          "AAPL",
          "AMAT",
          "AMAT",
          "AMAT",
          "AMAT",
          "AMAT",
          "APP",
          "APP",
          "APP",
          "APP",
          "APP",
          "ARM",
          "ARM",
          "ARM",
          "ARM",
          "ASML",
          "ASML",
          "ASML",
          "ASML",
          "ASML",
          "AZN",
          "AZN",
          "AZN",
          "AZN",
          "AZN",
          "TEAM",
          "TEAM",
          "TEAM",
          "TEAM",
          "TEAM",
          "ADSK",
          "ADSK",
          "ADSK",
          "ADSK",
          "ADSK",
          "ADP",
          "ADP",
          "ADP",
          "ADP",
          "ADP",
          "AXON",
          "AXON",
          "AXON",
          "AXON",
          "AXON",
          "BKR",
          "BKR",
          "BKR",
          "BKR",
          "BKR",
          "BIIB",
          "BIIB",
          "BIIB",
          "BIIB",
          "BIIB",
          "BKNG",
          "BKNG",
          "BKNG",
          "BKNG",
          "BKNG",
          "AVGO",
          "AVGO",
          "AVGO",
          "AVGO",
          "AVGO",
          "CDNS",
          "CDNS",
          "CDNS",
          "CDNS",
          "CDNS",
          "CDW",
          "CDW",
          "CDW",
          "CDW",
          "CDW",
          "CHTR",
          "CHTR",
          "CHTR",
          "CHTR",
          "CHTR",
          "CTAS",
          "CTAS",
          "CTAS",
          "CTAS",
          "CTAS",
          "CSCO",
          "CSCO",
          "CSCO",
          "CSCO",
          "CSCO",
          "CCEP",
          "CCEP",
          "CCEP",
          "CCEP",
          "CCEP",
          "CTSH",
          "CTSH",
          "CTSH",
          "CTSH",
          "CTSH",
          "CMCSA",
          "CMCSA",
          "CMCSA",
          "CMCSA",
          "CMCSA",
          "CEG",
          "CEG",
          "CEG",
          "CEG",
          "CEG",
          "CPRT",
          "CPRT",
          "CPRT",
          "CPRT",
          "CPRT",
          "CSGP",
          "CSGP",
          "CSGP",
          "CSGP",
          "CSGP",
          "COST",
          "COST",
          "COST",
          "COST",
          "COST",
          "CRWD",
          "CRWD",
          "CRWD",
          "CRWD",
          "CRWD",
          "CSX",
          "CSX",
          "CSX",
          "CSX",
          "CSX",
          "DDOG",
          "DDOG",
          "DDOG",
          "DDOG",
          "DDOG",
          "DXCM",
          "DXCM",
          "DXCM",
          "DXCM",
          "DXCM",
          "FANG",
          "FANG",
          "FANG",
          "FANG",
          "FANG",
          "DASH",
          "DASH",
          "DASH",
          "DASH",
          "DASH",
          "EA",
          "EA",
          "EA",
          "EA",
          "EA",
          "EXC",
          "EXC",
          "EXC",
          "EXC",
          "EXC",
          "FAST",
          "FAST",
          "FAST",
          "FAST",
          "FAST",
          "FTNT",
          "FTNT",
          "FTNT",
          "FTNT",
          "FTNT",
          "GEHC",
          "GEHC",
          "GEHC",
          "GEHC",
          "GEHC",
          "GILD",
          "GILD",
          "GILD",
          "GILD",
          "GILD",
          "GFS",
          "GFS",
          "GFS",
          "GFS",
          "GFS",
          "HON",
          "HON",
          "HON",
          "HON",
          "HON",
          "IDXX",
          "IDXX",
          "IDXX",
          "IDXX",
          "IDXX",
          "INTC",
          "INTC",
          "INTC",
          "INTC",
          "INTC",
          "INTU",
          "INTU",
          "INTU",
          "INTU",
          "INTU",
          "ISRG",
          "ISRG",
          "ISRG",
          "ISRG",
          "ISRG",
          "KDP",
          "KDP",
          "KDP",
          "KDP",
          "KDP",
          "KLAC",
          "KLAC",
          "KLAC",
          "KLAC",
          "KLAC",
          "KHC",
          "KHC",
          "KHC",
          "KHC",
          "KHC",
          "LRCX",
          "LRCX",
          "LRCX",
          "LRCX",
          "LRCX",
          "LIN",
          "LIN",
          "LIN",
          "LIN",
          "LIN",
          "LULU",
          "LULU",
          "LULU",
          "LULU",
          "LULU",
          "MAR",
          "MAR",
          "MAR",
          "MAR",
          "MAR",
          "MRVL",
          "MRVL",
          "MRVL",
          "MRVL",
          "MRVL",
          "MELI",
          "MELI",
          "MELI",
          "MELI",
          "MELI",
          "META",
          "META",
          "META",
          "META",
          "META",
          "MCHP",
          "MCHP",
          "MCHP",
          "MCHP",
          "MCHP",
          "MU",
          "MU",
          "MU",
          "MU",
          "MU",
          "MSFT",
          "MSFT",
          "MSFT",
          "MSFT",
          "MSFT",
          "MSTR",
          "MSTR",
          "MSTR",
          "MSTR",
          "MSTR",
          "MDLZ",
          "MDLZ",
          "MDLZ",
          "MDLZ",
          "MDLZ",
          "MDB",
          "MDB",
          "MDB",
          "MDB",
          "MDB",
          "MNST",
          "MNST",
          "MNST",
          "MNST",
          "MNST",
          "NFLX",
          "NFLX",
          "NFLX",
          "NFLX",
          "NFLX",
          "NVDA",
          "NVDA",
          "NVDA",
          "NVDA",
          "NVDA",
          "NXPI",
          "NXPI",
          "NXPI",
          "NXPI",
          "NXPI",
          "ORLY",
          "ORLY",
          "ORLY",
          "ORLY",
          "ORLY",
          "ODFL",
          "ODFL",
          "ODFL",
          "ODFL",
          "ODFL",
          "ON",
          "ON",
          "ON",
          "ON",
          "ON",
          "PCAR",
          "PCAR",
          "PCAR",
          "PCAR",
          "PCAR",
          "PLTR",
          "PLTR",
          "PLTR",
          "PLTR",
          "PLTR",
          "PANW",
          "PANW",
          "PANW",
          "PANW",
          "PANW",
          "PAYX",
          "PAYX",
          "PAYX",
          "PAYX",
          "PAYX",
          "PYPL",
          "PYPL",
          "PYPL",
          "PYPL",
          "PYPL",
          "PDD",
          "PDD",
          "PDD",
          "PDD",
          "PDD",
          "PEP",
          "PEP",
          "PEP",
          "PEP",
          "PEP",
          "QCOM",
          "QCOM",
          "QCOM",
          "QCOM",
          "QCOM",
          "REGN",
          "REGN",
          "REGN",
          "REGN",
          "REGN",
          "ROP",
          "ROP",
          "ROP",
          "ROP",
          "ROP",
          "ROST",
          "ROST",
          "ROST",
          "ROST",
          "ROST",
          "SBUX",
          "SBUX",
          "SBUX",
          "SBUX",
          "SBUX",
          "SNPS",
          "SNPS",
          "SNPS",
          "SNPS",
          "SNPS",
          "TTWO",
          "TTWO",
          "TTWO",
          "TTWO",
          "TTWO",
          "TMUS",
          "TMUS",
          "TMUS",
          "TMUS",
          "TMUS",
          "TSLA",
          "TSLA",
          "TSLA",
          "TSLA",
          "TSLA",
          "TXN",
          "TXN",
          "TXN",
          "TXN",
          "TXN",
          "TTD",
          "TTD",
          "TTD",
          "TTD",
          "TTD",
          "VRSK",
          "VRSK",
          "VRSK",
          "VRSK",
          "VRSK",
          "VRTX",
          "VRTX",
          "VRTX",
          "VRTX",
          "VRTX",
          "WBD",
          "WBD",
          "WBD",
          "WBD",
          "WBD",
          "WDAY",
          "WDAY",
          "WDAY",
          "WDAY",
          "WDAY",
          "XEL",
          "XEL",
          "XEL",
          "XEL",
          "XEL",
          "ZS",
          "ZS",
          "ZS",
          "ZS",
          "ZS"
         ],
         "legendgroup": "",
         "line": {
          "color": "rgba(255,255,255,0)"
         },
         "marker": {
          "color": "#636efa"
         },
         "name": "",
         "offsetgroup": "",
         "orientation": "v",
         "pointpos": 0,
         "showlegend": false,
         "type": "box",
         "x": [
          "pbRatio",
          "pbRatio",
          "pbRatio",
          "pbRatio",
          "pbRatio",
          "pbRatio",
          "pbRatio",
          "pbRatio",
          "pbRatio",
          "pbRatio",
          "pbRatio",
          "pbRatio",
          "pbRatio",
          "pbRatio",
          "pbRatio",
          "pbRatio",
          "pbRatio",
          "pbRatio",
          "pbRatio",
          "pbRatio",
          "pbRatio",
          "pbRatio",
          "pbRatio",
          "pbRatio",
          "pbRatio",
          "pbRatio",
          "pbRatio",
          "pbRatio",
          "pbRatio",
          "pbRatio",
          "pbRatio",
          "pbRatio",
          "pbRatio",
          "pbRatio",
          "pbRatio",
          "pbRatio",
          "pbRatio",
          "pbRatio",
          "pbRatio",
          "pbRatio",
          "pbRatio",
          "pbRatio",
          "pbRatio",
          "pbRatio",
          "pbRatio",
          "pbRatio",
          "pbRatio",
          "pbRatio",
          "pbRatio",
          "pbRatio",
          "pbRatio",
          "pbRatio",
          "pbRatio",
          "pbRatio",
          "pbRatio",
          "pbRatio",
          "pbRatio",
          "pbRatio",
          "pbRatio",
          "pbRatio",
          "pbRatio",
          "pbRatio",
          "pbRatio",
          "pbRatio",
          "pbRatio",
          "pbRatio",
          "pbRatio",
          "pbRatio",
          "pbRatio",
          "pbRatio",
          "pbRatio",
          "pbRatio",
          "pbRatio",
          "pbRatio",
          "pbRatio",
          "pbRatio",
          "pbRatio",
          "pbRatio",
          "pbRatio",
          "pbRatio",
          "pbRatio",
          "pbRatio",
          "pbRatio",
          "pbRatio",
          "pbRatio",
          "pbRatio",
          "pbRatio",
          "pbRatio",
          "pbRatio",
          "pbRatio",
          "pbRatio",
          "pbRatio",
          "pbRatio",
          "pbRatio",
          "pbRatio",
          "pbRatio",
          "pbRatio",
          "pbRatio",
          "pbRatio",
          "pbRatio",
          "pbRatio",
          "pbRatio",
          "pbRatio",
          "pbRatio",
          "pbRatio",
          "pbRatio",
          "pbRatio",
          "pbRatio",
          "pbRatio",
          "pbRatio",
          "pbRatio",
          "pbRatio",
          "pbRatio",
          "pbRatio",
          "pbRatio",
          "pbRatio",
          "pbRatio",
          "pbRatio",
          "pbRatio",
          "pbRatio",
          "pbRatio",
          "pbRatio",
          "pbRatio",
          "pbRatio",
          "pbRatio",
          "pbRatio",
          "pbRatio",
          "pbRatio",
          "pbRatio",
          "pbRatio",
          "pbRatio",
          "pbRatio",
          "pbRatio",
          "pbRatio",
          "pbRatio",
          "pbRatio",
          "pbRatio",
          "pbRatio",
          "pbRatio",
          "pbRatio",
          "pbRatio",
          "pbRatio",
          "pbRatio",
          "pbRatio",
          "pbRatio",
          "pbRatio",
          "pbRatio",
          "pbRatio",
          "pbRatio",
          "pbRatio",
          "pbRatio",
          "pbRatio",
          "pbRatio",
          "pbRatio",
          "pbRatio",
          "pbRatio",
          "pbRatio",
          "pbRatio",
          "pbRatio",
          "pbRatio",
          "pbRatio",
          "pbRatio",
          "pbRatio",
          "pbRatio",
          "pbRatio",
          "pbRatio",
          "pbRatio",
          "pbRatio",
          "pbRatio",
          "pbRatio",
          "pbRatio",
          "pbRatio",
          "pbRatio",
          "pbRatio",
          "pbRatio",
          "pbRatio",
          "pbRatio",
          "pbRatio",
          "pbRatio",
          "pbRatio",
          "pbRatio",
          "pbRatio",
          "pbRatio",
          "pbRatio",
          "pbRatio",
          "pbRatio",
          "pbRatio",
          "pbRatio",
          "pbRatio",
          "pbRatio",
          "pbRatio",
          "pbRatio",
          "pbRatio",
          "pbRatio",
          "pbRatio",
          "pbRatio",
          "pbRatio",
          "pbRatio",
          "pbRatio",
          "pbRatio",
          "pbRatio",
          "pbRatio",
          "pbRatio",
          "pbRatio",
          "pbRatio",
          "pbRatio",
          "pbRatio",
          "pbRatio",
          "pbRatio",
          "pbRatio",
          "pbRatio",
          "pbRatio",
          "pbRatio",
          "pbRatio",
          "pbRatio",
          "pbRatio",
          "pbRatio",
          "pbRatio",
          "pbRatio",
          "pbRatio",
          "pbRatio",
          "pbRatio",
          "pbRatio",
          "pbRatio",
          "pbRatio",
          "pbRatio",
          "pbRatio",
          "pbRatio",
          "pbRatio",
          "pbRatio",
          "pbRatio",
          "pbRatio",
          "pbRatio",
          "pbRatio",
          "pbRatio",
          "pbRatio",
          "pbRatio",
          "pbRatio",
          "pbRatio",
          "pbRatio",
          "pbRatio",
          "pbRatio",
          "pbRatio",
          "pbRatio",
          "pbRatio",
          "pbRatio",
          "pbRatio",
          "pbRatio",
          "pbRatio",
          "pbRatio",
          "pbRatio",
          "pbRatio",
          "pbRatio",
          "pbRatio",
          "pbRatio",
          "pbRatio",
          "pbRatio",
          "pbRatio",
          "pbRatio",
          "pbRatio",
          "pbRatio",
          "pbRatio",
          "pbRatio",
          "pbRatio",
          "pbRatio",
          "pbRatio",
          "pbRatio",
          "pbRatio",
          "pbRatio",
          "pbRatio",
          "pbRatio",
          "pbRatio",
          "pbRatio",
          "pbRatio",
          "pbRatio",
          "pbRatio",
          "pbRatio",
          "pbRatio",
          "pbRatio",
          "pbRatio",
          "pbRatio",
          "pbRatio",
          "pbRatio",
          "pbRatio",
          "pbRatio",
          "pbRatio",
          "pbRatio",
          "pbRatio",
          "pbRatio",
          "pbRatio",
          "pbRatio",
          "pbRatio",
          "pbRatio",
          "pbRatio",
          "pbRatio",
          "pbRatio",
          "pbRatio",
          "pbRatio",
          "pbRatio",
          "pbRatio",
          "pbRatio",
          "pbRatio",
          "pbRatio",
          "pbRatio",
          "pbRatio",
          "pbRatio",
          "pbRatio",
          "pbRatio",
          "pbRatio",
          "pbRatio",
          "pbRatio",
          "pbRatio",
          "pbRatio",
          "pbRatio",
          "pbRatio",
          "pbRatio",
          "pbRatio",
          "pbRatio",
          "pbRatio",
          "pbRatio",
          "pbRatio",
          "pbRatio",
          "pbRatio",
          "pbRatio",
          "pbRatio",
          "pbRatio",
          "pbRatio",
          "pbRatio",
          "pbRatio",
          "pbRatio",
          "pbRatio",
          "pbRatio",
          "pbRatio",
          "pbRatio",
          "pbRatio",
          "pbRatio",
          "pbRatio",
          "pbRatio",
          "pbRatio",
          "pbRatio",
          "pbRatio",
          "pbRatio",
          "pbRatio",
          "pbRatio",
          "pbRatio",
          "pbRatio",
          "pbRatio",
          "pbRatio",
          "pbRatio",
          "pbRatio",
          "pbRatio",
          "pbRatio",
          "pbRatio",
          "pbRatio",
          "pbRatio",
          "pbRatio",
          "pbRatio",
          "pbRatio",
          "pbRatio",
          "pbRatio",
          "pbRatio",
          "pbRatio",
          "pbRatio",
          "pbRatio",
          "pbRatio",
          "pbRatio",
          "pbRatio",
          "pbRatio",
          "pbRatio",
          "pbRatio",
          "pbRatio",
          "pbRatio",
          "pbRatio",
          "pbRatio",
          "pbRatio",
          "pbRatio",
          "pbRatio",
          "pbRatio",
          "pbRatio",
          "pbRatio",
          "pbRatio",
          "pbRatio",
          "pbRatio",
          "pbRatio",
          "pbRatio",
          "pbRatio",
          "pbRatio",
          "pbRatio",
          "pbRatio",
          "pbRatio",
          "pbRatio",
          "pbRatio",
          "pbRatio",
          "pbRatio",
          "pbRatio",
          "pbRatio",
          "pbRatio",
          "pbRatio",
          "pbRatio",
          "pbRatio",
          "pbRatio",
          "pbRatio",
          "pbRatio",
          "pbRatio",
          "pbRatio",
          "pbRatio",
          "pbRatio",
          "pbRatio",
          "pbRatio",
          "pbRatio",
          "pbRatio",
          "pbRatio",
          "pbRatio",
          "pbRatio",
          "pbRatio",
          "pbRatio",
          "pbRatio",
          "pbRatio",
          "pbRatio",
          "pbRatio",
          "pbRatio",
          "pbRatio",
          "pbRatio",
          "pbRatio",
          "pbRatio",
          "pbRatio",
          "pbRatio",
          "pbRatio",
          "pbRatio",
          "pbRatio",
          "pbRatio",
          "pbRatio",
          "pbRatio",
          "pbRatio",
          "pbRatio",
          "pbRatio",
          "pbRatio",
          "pbRatio",
          "pbRatio",
          "pbRatio",
          "pbRatio",
          "pbRatio",
          "pbRatio",
          "pbRatio",
          "pbRatio",
          "pbRatio",
          "pbRatio",
          "pbRatio",
          "pbRatio",
          "pbRatio",
          "pbRatio",
          "pbRatio",
          "pbRatio",
          "pbRatio",
          "pbRatio",
          "pbRatio",
          "pbRatio",
          "pbRatio",
          "pbRatio",
          "pbRatio",
          "pbRatio",
          "pbRatio",
          "pbRatio",
          "pbRatio",
          "pbRatio",
          "pbRatio",
          "pbRatio",
          "pbRatio",
          "pbRatio",
          "pbRatio",
          "pbRatio",
          "pbRatio",
          "pbRatio",
          "pbRatio",
          "pbRatio",
          "pbRatio",
          "pbRatio",
          "pbRatio",
          "pbRatio",
          "pbRatio",
          "pbRatio",
          "pbRatio",
          "pbRatio",
          "pbRatio",
          "pbRatio",
          "pbRatio",
          "pbRatio",
          "pbRatio",
          "pbRatio",
          "pbRatio",
          "pbRatio",
          "pbRatio",
          "pbRatio",
          "pbRatio",
          "pbRatio",
          "pbRatio",
          "pbRatio",
          "pbRatio",
          "pbRatio",
          "pbRatio",
          "pbRatio",
          "pbRatio",
          "pbRatio"
         ],
         "x0": " ",
         "xaxis": "x2",
         "y": {
          "bdata": "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",
          "dtype": "f8"
         },
         "y0": " ",
         "yaxis": "y2"
        },
        {
         "alignmentgroup": "True",
         "boxpoints": "all",
         "fillcolor": "rgba(255,255,255,0)",
         "hoveron": "points",
         "hovertemplate": "<b>%{hovertext}</b><br><br>variable=%{x}<br>value=%{y}<extra></extra>",
         "hovertext": [
          "ADBE",
          "ADBE",
          "ADBE",
          "ADBE",
          "ADBE",
          "AMD",
          "AMD",
          "AMD",
          "AMD",
          "AMD",
          "ABNB",
          "ABNB",
          "ABNB",
          "ABNB",
          "ABNB",
          "GOOGL",
          "GOOGL",
          "GOOGL",
          "GOOGL",
          "GOOG",
          "GOOG",
          "GOOG",
          "GOOG",
          "GOOG",
          "AMZN",
          "AMZN",
          "AMZN",
          "AMZN",
          "AMZN",
          "AEP",
          "AEP",
          "AEP",
          "AEP",
          "AEP",
          "AMGN",
          "AMGN",
          "AMGN",
          "AMGN",
          "AMGN",
          "ADI",
          "ADI",
          "ADI",
          "ADI",
          "ADI",
          "ANSS",
          "ANSS",
          "ANSS",
          "ANSS",
          "ANSS",
          "AAPL",
          "AAPL",
          "AAPL",
          "AAPL",
          "AAPL",
          "AMAT",
          "AMAT",
          "AMAT",
          "AMAT",
          "AMAT",
          "APP",
          "APP",
          "APP",
          "APP",
          "APP",
          "ARM",
          "ARM",
          "ARM",
          "ARM",
          "ASML",
          "ASML",
          "ASML",
          "ASML",
          "ASML",
          "AZN",
          "AZN",
          "AZN",
          "AZN",
          "AZN",
          "TEAM",
          "TEAM",
          "TEAM",
          "TEAM",
          "TEAM",
          "ADSK",
          "ADSK",
          "ADSK",
          "ADSK",
          "ADSK",
          "ADP",
          "ADP",
          "ADP",
          "ADP",
          "ADP",
          "AXON",
          "AXON",
          "AXON",
          "AXON",
          "AXON",
          "BKR",
          "BKR",
          "BKR",
          "BKR",
          "BKR",
          "BIIB",
          "BIIB",
          "BIIB",
          "BIIB",
          "BIIB",
          "BKNG",
          "BKNG",
          "BKNG",
          "BKNG",
          "BKNG",
          "AVGO",
          "AVGO",
          "AVGO",
          "AVGO",
          "AVGO",
          "CDNS",
          "CDNS",
          "CDNS",
          "CDNS",
          "CDNS",
          "CDW",
          "CDW",
          "CDW",
          "CDW",
          "CDW",
          "CHTR",
          "CHTR",
          "CHTR",
          "CHTR",
          "CHTR",
          "CTAS",
          "CTAS",
          "CTAS",
          "CTAS",
          "CTAS",
          "CSCO",
          "CSCO",
          "CSCO",
          "CSCO",
          "CSCO",
          "CCEP",
          "CCEP",
          "CCEP",
          "CCEP",
          "CCEP",
          "CTSH",
          "CTSH",
          "CTSH",
          "CTSH",
          "CTSH",
          "CMCSA",
          "CMCSA",
          "CMCSA",
          "CMCSA",
          "CMCSA",
          "CEG",
          "CEG",
          "CEG",
          "CEG",
          "CEG",
          "CPRT",
          "CPRT",
          "CPRT",
          "CPRT",
          "CPRT",
          "CSGP",
          "CSGP",
          "CSGP",
          "CSGP",
          "CSGP",
          "COST",
          "COST",
          "COST",
          "COST",
          "COST",
          "CRWD",
          "CRWD",
          "CRWD",
          "CRWD",
          "CRWD",
          "CSX",
          "CSX",
          "CSX",
          "CSX",
          "CSX",
          "DDOG",
          "DDOG",
          "DDOG",
          "DDOG",
          "DDOG",
          "DXCM",
          "DXCM",
          "DXCM",
          "DXCM",
          "DXCM",
          "FANG",
          "FANG",
          "FANG",
          "FANG",
          "FANG",
          "DASH",
          "DASH",
          "DASH",
          "DASH",
          "DASH",
          "EA",
          "EA",
          "EA",
          "EA",
          "EA",
          "EXC",
          "EXC",
          "EXC",
          "EXC",
          "EXC",
          "FAST",
          "FAST",
          "FAST",
          "FAST",
          "FAST",
          "FTNT",
          "FTNT",
          "FTNT",
          "FTNT",
          "FTNT",
          "GEHC",
          "GEHC",
          "GEHC",
          "GEHC",
          "GEHC",
          "GILD",
          "GILD",
          "GILD",
          "GILD",
          "GILD",
          "GFS",
          "GFS",
          "GFS",
          "GFS",
          "GFS",
          "HON",
          "HON",
          "HON",
          "HON",
          "HON",
          "IDXX",
          "IDXX",
          "IDXX",
          "IDXX",
          "IDXX",
          "INTC",
          "INTC",
          "INTC",
          "INTC",
          "INTC",
          "INTU",
          "INTU",
          "INTU",
          "INTU",
          "INTU",
          "ISRG",
          "ISRG",
          "ISRG",
          "ISRG",
          "ISRG",
          "KDP",
          "KDP",
          "KDP",
          "KDP",
          "KDP",
          "KLAC",
          "KLAC",
          "KLAC",
          "KLAC",
          "KLAC",
          "KHC",
          "KHC",
          "KHC",
          "KHC",
          "KHC",
          "LRCX",
          "LRCX",
          "LRCX",
          "LRCX",
          "LRCX",
          "LIN",
          "LIN",
          "LIN",
          "LIN",
          "LIN",
          "LULU",
          "LULU",
          "LULU",
          "LULU",
          "LULU",
          "MAR",
          "MAR",
          "MAR",
          "MAR",
          "MAR",
          "MRVL",
          "MRVL",
          "MRVL",
          "MRVL",
          "MRVL",
          "MELI",
          "MELI",
          "MELI",
          "MELI",
          "MELI",
          "META",
          "META",
          "META",
          "META",
          "META",
          "MCHP",
          "MCHP",
          "MCHP",
          "MCHP",
          "MCHP",
          "MU",
          "MU",
          "MU",
          "MU",
          "MU",
          "MSFT",
          "MSFT",
          "MSFT",
          "MSFT",
          "MSFT",
          "MSTR",
          "MSTR",
          "MSTR",
          "MSTR",
          "MSTR",
          "MDLZ",
          "MDLZ",
          "MDLZ",
          "MDLZ",
          "MDLZ",
          "MDB",
          "MDB",
          "MDB",
          "MDB",
          "MDB",
          "MNST",
          "MNST",
          "MNST",
          "MNST",
          "MNST",
          "NFLX",
          "NFLX",
          "NFLX",
          "NFLX",
          "NFLX",
          "NVDA",
          "NVDA",
          "NVDA",
          "NVDA",
          "NVDA",
          "NXPI",
          "NXPI",
          "NXPI",
          "NXPI",
          "NXPI",
          "ORLY",
          "ORLY",
          "ORLY",
          "ORLY",
          "ORLY",
          "ODFL",
          "ODFL",
          "ODFL",
          "ODFL",
          "ODFL",
          "ON",
          "ON",
          "ON",
          "ON",
          "ON",
          "PCAR",
          "PCAR",
          "PCAR",
          "PCAR",
          "PCAR",
          "PLTR",
          "PLTR",
          "PLTR",
          "PLTR",
          "PLTR",
          "PANW",
          "PANW",
          "PANW",
          "PANW",
          "PANW",
          "PAYX",
          "PAYX",
          "PAYX",
          "PAYX",
          "PAYX",
          "PYPL",
          "PYPL",
          "PYPL",
          "PYPL",
          "PYPL",
          "PDD",
          "PDD",
          "PDD",
          "PDD",
          "PDD",
          "PEP",
          "PEP",
          "PEP",
          "PEP",
          "PEP",
          "QCOM",
          "QCOM",
          "QCOM",
          "QCOM",
          "QCOM",
          "REGN",
          "REGN",
          "REGN",
          "REGN",
          "REGN",
          "ROP",
          "ROP",
          "ROP",
          "ROP",
          "ROP",
          "ROST",
          "ROST",
          "ROST",
          "ROST",
          "ROST",
          "SBUX",
          "SBUX",
          "SBUX",
          "SBUX",
          "SBUX",
          "SNPS",
          "SNPS",
          "SNPS",
          "SNPS",
          "SNPS",
          "TTWO",
          "TTWO",
          "TTWO",
          "TTWO",
          "TTWO",
          "TMUS",
          "TMUS",
          "TMUS",
          "TMUS",
          "TMUS",
          "TSLA",
          "TSLA",
          "TSLA",
          "TSLA",
          "TSLA",
          "TXN",
          "TXN",
          "TXN",
          "TXN",
          "TXN",
          "TTD",
          "TTD",
          "TTD",
          "TTD",
          "TTD",
          "VRSK",
          "VRSK",
          "VRSK",
          "VRSK",
          "VRSK",
          "VRTX",
          "VRTX",
          "VRTX",
          "VRTX",
          "VRTX",
          "WBD",
          "WBD",
          "WBD",
          "WBD",
          "WBD",
          "WDAY",
          "WDAY",
          "WDAY",
          "WDAY",
          "WDAY",
          "XEL",
          "XEL",
          "XEL",
          "XEL",
          "XEL",
          "ZS",
          "ZS",
          "ZS",
          "ZS",
          "ZS"
         ],
         "legendgroup": "",
         "line": {
          "color": "rgba(255,255,255,0)"
         },
         "marker": {
          "color": "#636efa"
         },
         "name": "",
         "offsetgroup": "",
         "orientation": "v",
         "pointpos": 0,
         "showlegend": false,
         "type": "box",
         "x": [
          "marginProfit",
          "marginProfit",
          "marginProfit",
          "marginProfit",
          "marginProfit",
          "marginProfit",
          "marginProfit",
          "marginProfit",
          "marginProfit",
          "marginProfit",
          "marginProfit",
          "marginProfit",
          "marginProfit",
          "marginProfit",
          "marginProfit",
          "marginProfit",
          "marginProfit",
          "marginProfit",
          "marginProfit",
          "marginProfit",
          "marginProfit",
          "marginProfit",
          "marginProfit",
          "marginProfit",
          "marginProfit",
          "marginProfit",
          "marginProfit",
          "marginProfit",
          "marginProfit",
          "marginProfit",
          "marginProfit",
          "marginProfit",
          "marginProfit",
          "marginProfit",
          "marginProfit",
          "marginProfit",
          "marginProfit",
          "marginProfit",
          "marginProfit",
          "marginProfit",
          "marginProfit",
          "marginProfit",
          "marginProfit",
          "marginProfit",
          "marginProfit",
          "marginProfit",
          "marginProfit",
          "marginProfit",
          "marginProfit",
          "marginProfit",
          "marginProfit",
          "marginProfit",
          "marginProfit",
          "marginProfit",
          "marginProfit",
          "marginProfit",
          "marginProfit",
          "marginProfit",
          "marginProfit",
          "marginProfit",
          "marginProfit",
          "marginProfit",
          "marginProfit",
          "marginProfit",
          "marginProfit",
          "marginProfit",
          "marginProfit",
          "marginProfit",
          "marginProfit",
          "marginProfit",
          "marginProfit",
          "marginProfit",
          "marginProfit",
          "marginProfit",
          "marginProfit",
          "marginProfit",
          "marginProfit",
          "marginProfit",
          "marginProfit",
          "marginProfit",
          "marginProfit",
          "marginProfit",
          "marginProfit",
          "marginProfit",
          "marginProfit",
          "marginProfit",
          "marginProfit",
          "marginProfit",
          "marginProfit",
          "marginProfit",
          "marginProfit",
          "marginProfit",
          "marginProfit",
          "marginProfit",
          "marginProfit",
          "marginProfit",
          "marginProfit",
          "marginProfit",
          "marginProfit",
          "marginProfit",
          "marginProfit",
          "marginProfit",
          "marginProfit",
          "marginProfit",
          "marginProfit",
          "marginProfit",
          "marginProfit",
          "marginProfit",
          "marginProfit",
          "marginProfit",
          "marginProfit",
          "marginProfit",
          "marginProfit",
          "marginProfit",
          "marginProfit",
          "marginProfit",
          "marginProfit",
          "marginProfit",
          "marginProfit",
          "marginProfit",
          "marginProfit",
          "marginProfit",
          "marginProfit",
          "marginProfit",
          "marginProfit",
          "marginProfit",
          "marginProfit",
          "marginProfit",
          "marginProfit",
          "marginProfit",
          "marginProfit",
          "marginProfit",
          "marginProfit",
          "marginProfit",
          "marginProfit",
          "marginProfit",
          "marginProfit",
          "marginProfit",
          "marginProfit",
          "marginProfit",
          "marginProfit",
          "marginProfit",
          "marginProfit",
          "marginProfit",
          "marginProfit",
          "marginProfit",
          "marginProfit",
          "marginProfit",
          "marginProfit",
          "marginProfit",
          "marginProfit",
          "marginProfit",
          "marginProfit",
          "marginProfit",
          "marginProfit",
          "marginProfit",
          "marginProfit",
          "marginProfit",
          "marginProfit",
          "marginProfit",
          "marginProfit",
          "marginProfit",
          "marginProfit",
          "marginProfit",
          "marginProfit",
          "marginProfit",
          "marginProfit",
          "marginProfit",
          "marginProfit",
          "marginProfit",
          "marginProfit",
          "marginProfit",
          "marginProfit",
          "marginProfit",
          "marginProfit",
          "marginProfit",
          "marginProfit",
          "marginProfit",
          "marginProfit",
          "marginProfit",
          "marginProfit",
          "marginProfit",
          "marginProfit",
          "marginProfit",
          "marginProfit",
          "marginProfit",
          "marginProfit",
          "marginProfit",
          "marginProfit",
          "marginProfit",
          "marginProfit",
          "marginProfit",
          "marginProfit",
          "marginProfit",
          "marginProfit",
          "marginProfit",
          "marginProfit",
          "marginProfit",
          "marginProfit",
          "marginProfit",
          "marginProfit",
          "marginProfit",
          "marginProfit",
          "marginProfit",
          "marginProfit",
          "marginProfit",
          "marginProfit",
          "marginProfit",
          "marginProfit",
          "marginProfit",
          "marginProfit",
          "marginProfit",
          "marginProfit",
          "marginProfit",
          "marginProfit",
          "marginProfit",
          "marginProfit",
          "marginProfit",
          "marginProfit",
          "marginProfit",
          "marginProfit",
          "marginProfit",
          "marginProfit",
          "marginProfit",
          "marginProfit",
          "marginProfit",
          "marginProfit",
          "marginProfit",
          "marginProfit",
          "marginProfit",
          "marginProfit",
          "marginProfit",
          "marginProfit",
          "marginProfit",
          "marginProfit",
          "marginProfit",
          "marginProfit",
          "marginProfit",
          "marginProfit",
          "marginProfit",
          "marginProfit",
          "marginProfit",
          "marginProfit",
          "marginProfit",
          "marginProfit",
          "marginProfit",
          "marginProfit",
          "marginProfit",
          "marginProfit",
          "marginProfit",
          "marginProfit",
          "marginProfit",
          "marginProfit",
          "marginProfit",
          "marginProfit",
          "marginProfit",
          "marginProfit",
          "marginProfit",
          "marginProfit",
          "marginProfit",
          "marginProfit",
          "marginProfit",
          "marginProfit",
          "marginProfit",
          "marginProfit",
          "marginProfit",
          "marginProfit",
          "marginProfit",
          "marginProfit",
          "marginProfit",
          "marginProfit",
          "marginProfit",
          "marginProfit",
          "marginProfit",
          "marginProfit",
          "marginProfit",
          "marginProfit",
          "marginProfit",
          "marginProfit",
          "marginProfit",
          "marginProfit",
          "marginProfit",
          "marginProfit",
          "marginProfit",
          "marginProfit",
          "marginProfit",
          "marginProfit",
          "marginProfit",
          "marginProfit",
          "marginProfit",
          "marginProfit",
          "marginProfit",
          "marginProfit",
          "marginProfit",
          "marginProfit",
          "marginProfit",
          "marginProfit",
          "marginProfit",
          "marginProfit",
          "marginProfit",
          "marginProfit",
          "marginProfit",
          "marginProfit",
          "marginProfit",
          "marginProfit",
          "marginProfit",
          "marginProfit",
          "marginProfit",
          "marginProfit",
          "marginProfit",
          "marginProfit",
          "marginProfit",
          "marginProfit",
          "marginProfit",
          "marginProfit",
          "marginProfit",
          "marginProfit",
          "marginProfit",
          "marginProfit",
          "marginProfit",
          "marginProfit",
          "marginProfit",
          "marginProfit",
          "marginProfit",
          "marginProfit",
          "marginProfit",
          "marginProfit",
          "marginProfit",
          "marginProfit",
          "marginProfit",
          "marginProfit",
          "marginProfit",
          "marginProfit",
          "marginProfit",
          "marginProfit",
          "marginProfit",
          "marginProfit",
          "marginProfit",
          "marginProfit",
          "marginProfit",
          "marginProfit",
          "marginProfit",
          "marginProfit",
          "marginProfit",
          "marginProfit",
          "marginProfit",
          "marginProfit",
          "marginProfit",
          "marginProfit",
          "marginProfit",
          "marginProfit",
          "marginProfit",
          "marginProfit",
          "marginProfit",
          "marginProfit",
          "marginProfit",
          "marginProfit",
          "marginProfit",
          "marginProfit",
          "marginProfit",
          "marginProfit",
          "marginProfit",
          "marginProfit",
          "marginProfit",
          "marginProfit",
          "marginProfit",
          "marginProfit",
          "marginProfit",
          "marginProfit",
          "marginProfit",
          "marginProfit",
          "marginProfit",
          "marginProfit",
          "marginProfit",
          "marginProfit",
          "marginProfit",
          "marginProfit",
          "marginProfit",
          "marginProfit",
          "marginProfit",
          "marginProfit",
          "marginProfit",
          "marginProfit",
          "marginProfit",
          "marginProfit",
          "marginProfit",
          "marginProfit",
          "marginProfit",
          "marginProfit",
          "marginProfit",
          "marginProfit",
          "marginProfit",
          "marginProfit",
          "marginProfit",
          "marginProfit",
          "marginProfit",
          "marginProfit",
          "marginProfit",
          "marginProfit",
          "marginProfit",
          "marginProfit",
          "marginProfit",
          "marginProfit",
          "marginProfit",
          "marginProfit",
          "marginProfit",
          "marginProfit",
          "marginProfit",
          "marginProfit",
          "marginProfit",
          "marginProfit",
          "marginProfit",
          "marginProfit",
          "marginProfit",
          "marginProfit",
          "marginProfit",
          "marginProfit",
          "marginProfit",
          "marginProfit",
          "marginProfit",
          "marginProfit",
          "marginProfit",
          "marginProfit",
          "marginProfit",
          "marginProfit",
          "marginProfit",
          "marginProfit",
          "marginProfit",
          "marginProfit",
          "marginProfit",
          "marginProfit",
          "marginProfit",
          "marginProfit",
          "marginProfit",
          "marginProfit",
          "marginProfit",
          "marginProfit",
          "marginProfit",
          "marginProfit",
          "marginProfit",
          "marginProfit",
          "marginProfit",
          "marginProfit",
          "marginProfit",
          "marginProfit",
          "marginProfit",
          "marginProfit",
          "marginProfit",
          "marginProfit",
          "marginProfit",
          "marginProfit",
          "marginProfit",
          "marginProfit",
          "marginProfit",
          "marginProfit",
          "marginProfit",
          "marginProfit",
          "marginProfit",
          "marginProfit",
          "marginProfit",
          "marginProfit",
          "marginProfit",
          "marginProfit",
          "marginProfit",
          "marginProfit",
          "marginProfit",
          "marginProfit",
          "marginProfit",
          "marginProfit",
          "marginProfit",
          "marginProfit",
          "marginProfit",
          "marginProfit",
          "marginProfit",
          "marginProfit",
          "marginProfit",
          "marginProfit",
          "marginProfit",
          "marginProfit",
          "marginProfit",
          "marginProfit",
          "marginProfit",
          "marginProfit",
          "marginProfit",
          "marginProfit",
          "marginProfit",
          "marginProfit",
          "marginProfit",
          "marginProfit",
          "marginProfit",
          "marginProfit",
          "marginProfit",
          "marginProfit",
          "marginProfit",
          "marginProfit",
          "marginProfit",
          "marginProfit",
          "marginProfit",
          "marginProfit",
          "marginProfit",
          "marginProfit",
          "marginProfit",
          "marginProfit"
         ],
         "x0": " ",
         "xaxis": "x3",
         "y": {
          "bdata": "l2laVf6L0D8E1j4kBObRP4/1LBLlSdE/aUr0gfuM0z8P/VSUOCnaP0l5iL7RSrA/Id9jWm1Hoz+MQlnL1aKsPw2oHmjCoMg/jFK8ZqZS0D/cBc+5rYfOP6Ut+Frs7N4/XxJLz2HZzD+ZrEPi0hOuv0Gk7tDgtvW/TJtMt3+6zj9CqF5DECTLP03e8XUx49I/JimYykE9zD+WqG/zbE7SP0ybTLd/us4/QqheQxAkyz9N3vF1MePSPyYpmMpBPcw/dUBctmfGtz/0tek8AxqrPyMNR/0lsXW/H6qOYPstsj/MBDwnDkqsPzJ6xwL/QcM/n9DFd2vHvT8sSTTwARO+P8k95bZK98I/WjvktXLgwj+im/pLdFO/PxovMdTTf84/D+fG9DXczz/Cq54u/wjNP5IkSZIkSdI/X9viEBI0xj8CWX3BIz3RP+7Z0eevSM0/q8tthq9RyD9SiyW+TOPLP0bRHmbY9Mw/bUMeE7s3zD8w5HiEEzrQP6lq9CUHhc4/v6ACxSqE0D+jOuGt5q7OP+QbYGUsMtA/6n/BRbsy0D8etA8YeZDQP3ojZ974xMo/numUqOfm0D/7RTP9GYzQP1BmN9QJMtA/sbo7vdhW0D8Snulv0O3KP0T1MJw3eNU/ojbu5o7Quz9dedzpwMGzv4mcTop//Yk/rxrwDJw3tr/ly1GX6Tq4P7W2uOVECck/jFGthm7/yT8G9izUUIDIP29bV3RBJdE/km29cGs00j8dUF8YAwDRP89JTb42O9Q/f76+rz1F0D9ZaknVLafAP93pHU2Io8A/7dn6g5H6sj+5HxJPY4VoPx7kqlglvb4/M/2wV5umsb8zOBuChqDBv36lnpWdC8y/VyMmMNhU1b82SKG6Vs7Lv4dHNew9N8c/UVFRUVFRxT8JaMZ9OQzFP4nbZm+KAb0/jbFVJ5Rl1D+BuL/biwLJP/Veij0mP8g/VNHGq/Dgxj/CxCWRdyrGP8QaQWiko8U/t4t28Ycsxz+Ugg8Acoe8P/g+jKG4p78/e7e7hr3Lsb86rzL2EL1kv90yKwhoZ7s/BzjJWGmAsz8dCheE//mbv/vgUEN7dJC/gpVE9eNb6L/7rW5hipfFP+MjbQGTOL4/kdKrUfQq0z9WDpN9NCPCPyWWstdAC9M/0guo0y+3zz/nUCC7I7LJPy4VXf1X58Y/4Og4EnY3uz8acAiYpceBP0vT1KbhQr0/WbUmiEIp2T9uCWNhMyjWP5U/ux3+aM8/ESyDd6u4vz+vUz/t3hvNP1NSJB6zStA/varJnGeCzj/LzEYTl8/NPxuSm2TxLcw/gKxZ5IdHqj9VjVHSRnOqPxQakxAQB6g/BHzgOXpPqD9eIT4kVdylP3aoCD1fn7c/DmQPwwhdtT/d8Zs+ZvS3P2nObfSPDbc/lJYdaTsmsT/y1UJwQvbEP29bVEKFksM/AMwOrnMjxD8NKgE5lPvDP2sVYZEsp78/EFBPKUKNyD/44MkyLlPMP5qLKX1VU80/Dz13ZkY2yz/adr7YZx3NP2aDGZBfWLc/LGhzcAVKtj9l4KB9CkSyPyJM4WNtCqg/pY3Jmm44tz9/y71pNw69P13gF2tgH7w/R+YnI80svj94eyYmbo+9P/1jYkBjZrU/oR3VTCvAwD/AgXS4nTPAPwg/Mp2KpKY/nkI0keIkvz8GDhKK/Am6P7VuQ3x1XMQ/QUyDHpmssD+GyMnoOs95v6wcJ8ZXb26/v8nwMbIhoT/138tL3ZbUPxULOie+eNQ/T0N3N7bt0z+ZOv67mELWP8ABNkM0T9Q/eHxE9CL0qT9Ady6ESonDP35dWKHrq8U/cBcVp7ZDwz//NsFlGobBP5sqIRKspZ0/EofZDZaXmj993EvhIV6aPxBCxc0iK5o/VKLlfgqTmD/4hZPLCPdzv1Vh0miY750/ZEMEeTLStL+rTVLap33Evw+qKFI2Hru/LDW/ByaMzj87eSPRujjQP04RBARr89E/JSTcGCBT0z+8b5O3nbjQPxbRwokehrE/zmXm8Ptdlz9rqhkZxKmevzCJIDwGppS/BszzQpPTpL+ZJJltm0nCP4vlX4GCIsM/V/CRMq4Evj9F8sxWqiywP/n3c/hnZdA/m1Tr5Wxh0z9raVL9menXP28xLpwPHN0/plUWK6iL1D+ovLM94pL6v/9j8ux+foc/Slg68PuKsL+OtAvFc5nKv2NyBTG5gri/JEfFOEByxL8sMl+aOIzFP/lXBEHRpbs/nQTeX1rkvD9SWeTfaQjDP12/tYU0kOE/1DYbzPpYuz+Ez0yXCW67P4gF5pdMHr0/UMhmN9NYuD9iasIzmGuuPw4zrktnhMM/V0eY8ZEfxD9NUCT/Eu7DP/Ty0pmSssM/xs9mqNt4wz/fF10h7cDSP8qdj8gDsss/C9Us/GXXyD+aqbf9Qj3HP/n4Cl/kGcg/lOPCEI3vuT/J9nFQwIe0Py0sp6s+vro/MU6V8BJbwD/JMzTH57G+PyQ+LmMOGJE/zZUz3sy9yj8a/WSWlYvFP0zn0rl0Ls0/84/iBuiHbT832yolyhmkvzumBvaOqcE/anH6gwHcxj8D6DDGxr+jv8is68js0tG/5Fgkw9/3wj+hEv49C8HDP+t8F+E47ME/JnbAIE6gxD/3kbujLr7CP9FrR3SuKM0/CnF5ObKLzT/pJ6p9VNDJP0ROEO7Gps0/UhPR4D6Dyz/yw6yUDZvWvxlKfOLO5J8/f7GbVrpEwD+pwJGMOBfQP54BPBxcLdE/mTIRggZKxz8pNuG1AT3FP7gUB/C2x8Q/iiz0nC5myz/E3ziq8m/OP39RYy0ozNE/svT5AQon0D8LTaJsojPLP0GBagQDG9M/+8TUuvclzz9srx8M3we4P4saANNJ2MI/NApQDd0muj/O7nuMcKjFP0nbkPkxMr0/91TKDq0D0j/agcW2bafUPxuQtu0SFNc/VjTq6IY50z+dLLhhz9LKP46edLPHLbs/+LZasnhvuz/5jSB4JNe2Px0UdWF/5aM/pMaSg/7Xiz+bSfqlfG/QP4bd45yVkNA/6rb00uob0T9ZS5iaMhrRPytw4L2uscw/w2kRx9t1yT+BuwDzxSbIP8UrNu/W0b8/pjFMm8jOvz9Z9Id0bYC3P80hvfu1oMQ/jLcYChr7uj9Y43SSFvTDP8sOVHDsH8E/dRbiQT3ExD82ceOTHTm4PxcPSrREpMA/3AlgoysPvT/Ncnqcqk20PziFqfgs3Zm/B6a9Q0ukw7+JSXfAQLHFvxkEfStySJy/2TAKBnEnuL/oXkZ1H+m3v5NmAwzJi7c/qyidM0p1sT89Rq2Es2unP4Zdhq6FC4g/sXx3B1pSJ7+1ldJC8ULYP42IzwV/jNI/7cHyj193yT907nMrt13VP/Ay8KHpstU/rXpFDrT4zz9d7tGFkPjQPxt6iuCdH8g/cMcYEXtysD9Mi1EQJbK7PygoazfcuZ8/XIB0eMwF2L8dsdC9VxPSPwQyszcUFMs/UvEWDagLwD8/DbrPBgPXPyBAbAWF2tU/GzMPfrB61z/760jFQFTXP4Beys7k0NM/r/ip0HEjBMDHRoG3sKvrP3D9PdcpjQfAPGgKKjnG8L+0OMoi0waQv5Izi0E+MsA/z5syacmfwT+uwg49dRW2P+0pnjkkVrw/GW+tCA/LtD91WF6V2XewvwKc0cfB3Lq/VBpbKS830b/WZ5Ge8XnWv+SuGrgg8Ny/8no6BYzHyT8oPwPlJz3NP4SA4yEbK8g/A9Xf1YDRzz8Rw1vUF57TP3aG4jBgl8w//X6fjMuGxD/YVlHiqS/CP03U+3UkDcY/b/ZxNvlHvD9+UbwEEt/hP1Yz9Ct6Q98/pLXCcj66xD8nkRIwkTDXP/O8JK1moNA/XuUvTFl4yT/JBM63l/fKPy/Igo7lA8s/Jp3PrMylxT/1reEm0fmDP6d/1EepSMI/iYfVStz+wj+0UYpTmkzDP/zxCrI7ysQ/+ao31ghUwz9z9EMt1hvKP0MzsxvKC8s/PPSSHqgozD/uFiDITTDJP5CcC9PYccU/UMysBfJszD/mEByUHu/QP8R0TbQpPs0/XkDtC4oswz+WWFQFf9GmP98Iv5634MA/+mUtQcfDwD+OiuPtYMC6P/F9+sKCTbQ/BuMVpD7JsT9zq3PQSqXEP730An07JLg/MrwGPi4Zyb8b0z9ggpnVv5ukhPZWFPG/3ESCNdeM1D9LZhZPrlSwPwr0ZQY32ai/xrYNGCECvr/S9NPp0Q20v8n5zkMNf9Q/rnunhrnn0z8cZVJhNFTTPzpRmW1rUNE/7H3m0btk0T81zLyOo7HAP0qCcCxwQcI/1hBJlwOBtj87E4pkfAjFP0BtMmn4Eck/q8859M0Gzz+gcN3SlOvOP4H2FvsiK7U/20Ec1QqLv7+mQSyH0dnLv77yJVi2sbo/8b3c6TlluT84jCudBme6P1Q/ajT4ibg/9B65vrXmuT+wa4Xv1ajQP8BxT1/O18k/beaHnxm70j+3mg9vAT7RP/9AfkF0Rsw/qJkRp43i0z8Q7WCAO0rTPzqOUYQ6z9Y/giLguBsU4D9fMtOEG3baP55hO1kbLMw/ECVIZwKuzD+yHT/mKXzHPy9/cBHQiMk/i6SNvWX+xT9QnZSVxFS5P9oCFVDNjLc/dwiVjEe0tD+Qp1mJ+E+3P8bSpwhS6Hs/GDZ0sSmduj+gz7D+g1m9P0WuRmKODLo/vGrdWgZ/wj/RkY36qDWkP87TQ/f+o9c/9HlB9sHxyj+3kmF6F83IP4vJ9mAsEMc/G3SciRkTxz9sEaeMmmXmv7n+MDPC6Mq/PsDezCaIvj9jO4LMbVnGPxH5AjCHwsA/uHWHCJPUwT8p3zGkWRq7P1fTQo9VqqA/VowodTlToz/mtlaAq++mP5cZoaYLlbI/N1PTl8PWwz8BNQp4f8XDP1KF/ggjRro/lnZV2lVplz+IErT296LTPx/a3+c8yNc/c3qLKCn12z9SWhv/5xrbPxYj6o4Dw9g/qn+A6mKUxD88C0iU14m3PwB50bfYUqE/j333uNt5vT9gyGYRw4zSP1K739Tml2A/wXeASLVWzT/exHNKnXXYPwRdqbErccw/cGBhcGBh0D96qk/aX+Kov4lTrR/zeNc/+z2+k3HO1z+92NSwI8rTP3wA6tdS99s/kgw9t+dh0r+jO3ZU512zvyHC9NSlnsu/k7I4DAYgtT/UC92efj69P6aeufbm4q8/lHUOEgBayD+q1QRylDWuv20juV15HXc/ufAZRZK+sL8m1ckbzW/CP93o/UUW6r8/cZw2iR8HvT8a1pmPfnC+PyXoMoKvW8A/TqpP+kNCm79ANeWWYATAv+iNHcNB5da/cPBMhhPq2L9mubfyRxXRvw==",
          "dtype": "f8"
         },
         "y0": " ",
         "yaxis": "y3"
        },
        {
         "alignmentgroup": "True",
         "boxpoints": "all",
         "fillcolor": "rgba(255,255,255,0)",
         "hoveron": "points",
         "hovertemplate": "<b>%{hovertext}</b><br><br>variable=%{x}<br>value=%{y}<extra></extra>",
         "hovertext": [
          "ADBE",
          "ADBE",
          "ADBE",
          "ADBE",
          "ADBE",
          "AMD",
          "AMD",
          "AMD",
          "AMD",
          "AMD",
          "ABNB",
          "ABNB",
          "ABNB",
          "ABNB",
          "ABNB",
          "GOOGL",
          "GOOGL",
          "GOOGL",
          "GOOGL",
          "GOOG",
          "GOOG",
          "GOOG",
          "GOOG",
          "GOOG",
          "AMZN",
          "AMZN",
          "AMZN",
          "AMZN",
          "AMZN",
          "AEP",
          "AEP",
          "AEP",
          "AEP",
          "AEP",
          "AMGN",
          "AMGN",
          "AMGN",
          "AMGN",
          "AMGN",
          "ADI",
          "ADI",
          "ADI",
          "ADI",
          "ADI",
          "ANSS",
          "ANSS",
          "ANSS",
          "ANSS",
          "ANSS",
          "AAPL",
          "AAPL",
          "AAPL",
          "AAPL",
          "AAPL",
          "AMAT",
          "AMAT",
          "AMAT",
          "AMAT",
          "AMAT",
          "APP",
          "APP",
          "APP",
          "APP",
          "APP",
          "ARM",
          "ARM",
          "ARM",
          "ARM",
          "ASML",
          "ASML",
          "ASML",
          "ASML",
          "ASML",
          "AZN",
          "AZN",
          "AZN",
          "AZN",
          "AZN",
          "TEAM",
          "TEAM",
          "TEAM",
          "TEAM",
          "TEAM",
          "ADSK",
          "ADSK",
          "ADSK",
          "ADSK",
          "ADSK",
          "ADP",
          "ADP",
          "ADP",
          "ADP",
          "ADP",
          "AXON",
          "AXON",
          "AXON",
          "AXON",
          "AXON",
          "BKR",
          "BKR",
          "BKR",
          "BKR",
          "BKR",
          "BIIB",
          "BIIB",
          "BIIB",
          "BIIB",
          "BIIB",
          "BKNG",
          "BKNG",
          "BKNG",
          "BKNG",
          "BKNG",
          "AVGO",
          "AVGO",
          "AVGO",
          "AVGO",
          "AVGO",
          "CDNS",
          "CDNS",
          "CDNS",
          "CDNS",
          "CDNS",
          "CDW",
          "CDW",
          "CDW",
          "CDW",
          "CDW",
          "CHTR",
          "CHTR",
          "CHTR",
          "CHTR",
          "CHTR",
          "CTAS",
          "CTAS",
          "CTAS",
          "CTAS",
          "CTAS",
          "CSCO",
          "CSCO",
          "CSCO",
          "CSCO",
          "CSCO",
          "CCEP",
          "CCEP",
          "CCEP",
          "CCEP",
          "CCEP",
          "CTSH",
          "CTSH",
          "CTSH",
          "CTSH",
          "CTSH",
          "CMCSA",
          "CMCSA",
          "CMCSA",
          "CMCSA",
          "CMCSA",
          "CEG",
          "CEG",
          "CEG",
          "CEG",
          "CEG",
          "CPRT",
          "CPRT",
          "CPRT",
          "CPRT",
          "CPRT",
          "CSGP",
          "CSGP",
          "CSGP",
          "CSGP",
          "CSGP",
          "COST",
          "COST",
          "COST",
          "COST",
          "COST",
          "CRWD",
          "CRWD",
          "CRWD",
          "CRWD",
          "CRWD",
          "CSX",
          "CSX",
          "CSX",
          "CSX",
          "CSX",
          "DDOG",
          "DDOG",
          "DDOG",
          "DDOG",
          "DDOG",
          "DXCM",
          "DXCM",
          "DXCM",
          "DXCM",
          "DXCM",
          "FANG",
          "FANG",
          "FANG",
          "FANG",
          "FANG",
          "DASH",
          "DASH",
          "DASH",
          "DASH",
          "DASH",
          "EA",
          "EA",
          "EA",
          "EA",
          "EA",
          "EXC",
          "EXC",
          "EXC",
          "EXC",
          "EXC",
          "FAST",
          "FAST",
          "FAST",
          "FAST",
          "FAST",
          "FTNT",
          "FTNT",
          "FTNT",
          "FTNT",
          "FTNT",
          "GEHC",
          "GEHC",
          "GEHC",
          "GEHC",
          "GEHC",
          "GILD",
          "GILD",
          "GILD",
          "GILD",
          "GILD",
          "GFS",
          "GFS",
          "GFS",
          "GFS",
          "GFS",
          "HON",
          "HON",
          "HON",
          "HON",
          "HON",
          "IDXX",
          "IDXX",
          "IDXX",
          "IDXX",
          "IDXX",
          "INTC",
          "INTC",
          "INTC",
          "INTC",
          "INTC",
          "INTU",
          "INTU",
          "INTU",
          "INTU",
          "INTU",
          "ISRG",
          "ISRG",
          "ISRG",
          "ISRG",
          "ISRG",
          "KDP",
          "KDP",
          "KDP",
          "KDP",
          "KDP",
          "KLAC",
          "KLAC",
          "KLAC",
          "KLAC",
          "KLAC",
          "KHC",
          "KHC",
          "KHC",
          "KHC",
          "KHC",
          "LRCX",
          "LRCX",
          "LRCX",
          "LRCX",
          "LRCX",
          "LIN",
          "LIN",
          "LIN",
          "LIN",
          "LIN",
          "LULU",
          "LULU",
          "LULU",
          "LULU",
          "LULU",
          "MAR",
          "MAR",
          "MAR",
          "MAR",
          "MAR",
          "MRVL",
          "MRVL",
          "MRVL",
          "MRVL",
          "MRVL",
          "MELI",
          "MELI",
          "MELI",
          "MELI",
          "MELI",
          "META",
          "META",
          "META",
          "META",
          "META",
          "MCHP",
          "MCHP",
          "MCHP",
          "MCHP",
          "MCHP",
          "MU",
          "MU",
          "MU",
          "MU",
          "MU",
          "MSFT",
          "MSFT",
          "MSFT",
          "MSFT",
          "MSFT",
          "MSTR",
          "MSTR",
          "MSTR",
          "MSTR",
          "MSTR",
          "MDLZ",
          "MDLZ",
          "MDLZ",
          "MDLZ",
          "MDLZ",
          "MDB",
          "MDB",
          "MDB",
          "MDB",
          "MDB",
          "MNST",
          "MNST",
          "MNST",
          "MNST",
          "MNST",
          "NFLX",
          "NFLX",
          "NFLX",
          "NFLX",
          "NFLX",
          "NVDA",
          "NVDA",
          "NVDA",
          "NVDA",
          "NVDA",
          "NXPI",
          "NXPI",
          "NXPI",
          "NXPI",
          "NXPI",
          "ORLY",
          "ORLY",
          "ORLY",
          "ORLY",
          "ORLY",
          "ODFL",
          "ODFL",
          "ODFL",
          "ODFL",
          "ODFL",
          "ON",
          "ON",
          "ON",
          "ON",
          "ON",
          "PCAR",
          "PCAR",
          "PCAR",
          "PCAR",
          "PCAR",
          "PLTR",
          "PLTR",
          "PLTR",
          "PLTR",
          "PLTR",
          "PANW",
          "PANW",
          "PANW",
          "PANW",
          "PANW",
          "PAYX",
          "PAYX",
          "PAYX",
          "PAYX",
          "PAYX",
          "PYPL",
          "PYPL",
          "PYPL",
          "PYPL",
          "PYPL",
          "PDD",
          "PDD",
          "PDD",
          "PDD",
          "PDD",
          "PEP",
          "PEP",
          "PEP",
          "PEP",
          "PEP",
          "QCOM",
          "QCOM",
          "QCOM",
          "QCOM",
          "QCOM",
          "REGN",
          "REGN",
          "REGN",
          "REGN",
          "REGN",
          "ROP",
          "ROP",
          "ROP",
          "ROP",
          "ROP",
          "ROST",
          "ROST",
          "ROST",
          "ROST",
          "ROST",
          "SBUX",
          "SBUX",
          "SBUX",
          "SBUX",
          "SBUX",
          "SNPS",
          "SNPS",
          "SNPS",
          "SNPS",
          "SNPS",
          "TTWO",
          "TTWO",
          "TTWO",
          "TTWO",
          "TTWO",
          "TMUS",
          "TMUS",
          "TMUS",
          "TMUS",
          "TMUS",
          "TSLA",
          "TSLA",
          "TSLA",
          "TSLA",
          "TSLA",
          "TXN",
          "TXN",
          "TXN",
          "TXN",
          "TXN",
          "TTD",
          "TTD",
          "TTD",
          "TTD",
          "TTD",
          "VRSK",
          "VRSK",
          "VRSK",
          "VRSK",
          "VRSK",
          "VRTX",
          "VRTX",
          "VRTX",
          "VRTX",
          "VRTX",
          "WBD",
          "WBD",
          "WBD",
          "WBD",
          "WBD",
          "WDAY",
          "WDAY",
          "WDAY",
          "WDAY",
          "WDAY",
          "XEL",
          "XEL",
          "XEL",
          "XEL",
          "XEL",
          "ZS",
          "ZS",
          "ZS",
          "ZS",
          "ZS"
         ],
         "legendgroup": "",
         "line": {
          "color": "rgba(255,255,255,0)"
         },
         "marker": {
          "color": "#636efa"
         },
         "name": "",
         "offsetgroup": "",
         "orientation": "v",
         "pointpos": 0,
         "showlegend": false,
         "type": "box",
         "x": [
          "roe",
          "roe",
          "roe",
          "roe",
          "roe",
          "roe",
          "roe",
          "roe",
          "roe",
          "roe",
          "roe",
          "roe",
          "roe",
          "roe",
          "roe",
          "roe",
          "roe",
          "roe",
          "roe",
          "roe",
          "roe",
          "roe",
          "roe",
          "roe",
          "roe",
          "roe",
          "roe",
          "roe",
          "roe",
          "roe",
          "roe",
          "roe",
          "roe",
          "roe",
          "roe",
          "roe",
          "roe",
          "roe",
          "roe",
          "roe",
          "roe",
          "roe",
          "roe",
          "roe",
          "roe",
          "roe",
          "roe",
          "roe",
          "roe",
          "roe",
          "roe",
          "roe",
          "roe",
          "roe",
          "roe",
          "roe",
          "roe",
          "roe",
          "roe",
          "roe",
          "roe",
          "roe",
          "roe",
          "roe",
          "roe",
          "roe",
          "roe",
          "roe",
          "roe",
          "roe",
          "roe",
          "roe",
          "roe",
          "roe",
          "roe",
          "roe",
          "roe",
          "roe",
          "roe",
          "roe",
          "roe",
          "roe",
          "roe",
          "roe",
          "roe",
          "roe",
          "roe",
          "roe",
          "roe",
          "roe",
          "roe",
          "roe",
          "roe",
          "roe",
          "roe",
          "roe",
          "roe",
          "roe",
          "roe",
          "roe",
          "roe",
          "roe",
          "roe",
          "roe",
          "roe",
          "roe",
          "roe",
          "roe",
          "roe",
          "roe",
          "roe",
          "roe",
          "roe",
          "roe",
          "roe",
          "roe",
          "roe",
          "roe",
          "roe",
          "roe",
          "roe",
          "roe",
          "roe",
          "roe",
          "roe",
          "roe",
          "roe",
          "roe",
          "roe",
          "roe",
          "roe",
          "roe",
          "roe",
          "roe",
          "roe",
          "roe",
          "roe",
          "roe",
          "roe",
          "roe",
          "roe",
          "roe",
          "roe",
          "roe",
          "roe",
          "roe",
          "roe",
          "roe",
          "roe",
          "roe",
          "roe",
          "roe",
          "roe",
          "roe",
          "roe",
          "roe",
          "roe",
          "roe",
          "roe",
          "roe",
          "roe",
          "roe",
          "roe",
          "roe",
          "roe",
          "roe",
          "roe",
          "roe",
          "roe",
          "roe",
          "roe",
          "roe",
          "roe",
          "roe",
          "roe",
          "roe",
          "roe",
          "roe",
          "roe",
          "roe",
          "roe",
          "roe",
          "roe",
          "roe",
          "roe",
          "roe",
          "roe",
          "roe",
          "roe",
          "roe",
          "roe",
          "roe",
          "roe",
          "roe",
          "roe",
          "roe",
          "roe",
          "roe",
          "roe",
          "roe",
          "roe",
          "roe",
          "roe",
          "roe",
          "roe",
          "roe",
          "roe",
          "roe",
          "roe",
          "roe",
          "roe",
          "roe",
          "roe",
          "roe",
          "roe",
          "roe",
          "roe",
          "roe",
          "roe",
          "roe",
          "roe",
          "roe",
          "roe",
          "roe",
          "roe",
          "roe",
          "roe",
          "roe",
          "roe",
          "roe",
          "roe",
          "roe",
          "roe",
          "roe",
          "roe",
          "roe",
          "roe",
          "roe",
          "roe",
          "roe",
          "roe",
          "roe",
          "roe",
          "roe",
          "roe",
          "roe",
          "roe",
          "roe",
          "roe",
          "roe",
          "roe",
          "roe",
          "roe",
          "roe",
          "roe",
          "roe",
          "roe",
          "roe",
          "roe",
          "roe",
          "roe",
          "roe",
          "roe",
          "roe",
          "roe",
          "roe",
          "roe",
          "roe",
          "roe",
          "roe",
          "roe",
          "roe",
          "roe",
          "roe",
          "roe",
          "roe",
          "roe",
          "roe",
          "roe",
          "roe",
          "roe",
          "roe",
          "roe",
          "roe",
          "roe",
          "roe",
          "roe",
          "roe",
          "roe",
          "roe",
          "roe",
          "roe",
          "roe",
          "roe",
          "roe",
          "roe",
          "roe",
          "roe",
          "roe",
          "roe",
          "roe",
          "roe",
          "roe",
          "roe",
          "roe",
          "roe",
          "roe",
          "roe",
          "roe",
          "roe",
          "roe",
          "roe",
          "roe",
          "roe",
          "roe",
          "roe",
          "roe",
          "roe",
          "roe",
          "roe",
          "roe",
          "roe",
          "roe",
          "roe",
          "roe",
          "roe",
          "roe",
          "roe",
          "roe",
          "roe",
          "roe",
          "roe",
          "roe",
          "roe",
          "roe",
          "roe",
          "roe",
          "roe",
          "roe",
          "roe",
          "roe",
          "roe",
          "roe",
          "roe",
          "roe",
          "roe",
          "roe",
          "roe",
          "roe",
          "roe",
          "roe",
          "roe",
          "roe",
          "roe",
          "roe",
          "roe",
          "roe",
          "roe",
          "roe",
          "roe",
          "roe",
          "roe",
          "roe",
          "roe",
          "roe",
          "roe",
          "roe",
          "roe",
          "roe",
          "roe",
          "roe",
          "roe",
          "roe",
          "roe",
          "roe",
          "roe",
          "roe",
          "roe",
          "roe",
          "roe",
          "roe",
          "roe",
          "roe",
          "roe",
          "roe",
          "roe",
          "roe",
          "roe",
          "roe",
          "roe",
          "roe",
          "roe",
          "roe",
          "roe",
          "roe",
          "roe",
          "roe",
          "roe",
          "roe",
          "roe",
          "roe",
          "roe",
          "roe",
          "roe",
          "roe",
          "roe",
          "roe",
          "roe",
          "roe",
          "roe",
          "roe",
          "roe",
          "roe",
          "roe",
          "roe",
          "roe",
          "roe",
          "roe",
          "roe",
          "roe",
          "roe",
          "roe",
          "roe",
          "roe",
          "roe",
          "roe",
          "roe",
          "roe",
          "roe",
          "roe",
          "roe",
          "roe",
          "roe",
          "roe",
          "roe",
          "roe",
          "roe",
          "roe",
          "roe",
          "roe",
          "roe",
          "roe",
          "roe",
          "roe",
          "roe",
          "roe",
          "roe",
          "roe",
          "roe",
          "roe",
          "roe",
          "roe",
          "roe",
          "roe",
          "roe",
          "roe",
          "roe",
          "roe",
          "roe",
          "roe",
          "roe",
          "roe",
          "roe",
          "roe",
          "roe",
          "roe",
          "roe",
          "roe",
          "roe",
          "roe",
          "roe",
          "roe",
          "roe",
          "roe",
          "roe",
          "roe",
          "roe",
          "roe",
          "roe",
          "roe",
          "roe",
          "roe",
          "roe",
          "roe",
          "roe",
          "roe",
          "roe",
          "roe",
          "roe",
          "roe",
          "roe",
          "roe",
          "roe",
          "roe",
          "roe",
          "roe",
          "roe",
          "roe",
          "roe",
          "roe",
          "roe",
          "roe",
          "roe"
         ],
         "x0": " ",
         "xaxis": "x4",
         "y": {
          "bdata": "ttUp11k62T/48ytS9wfVP8bpaz+tqdU/yN5/pSrb1D9+c1IZRmHZPyqeGFWGMJ0/76s7a9dKjz+2V84hL7CYP8BmRy1C/to/9fo+9DtN2z9SkiI8fiXUPwj3xZ7Yx+I/FmOluTjK1T892fSvIt+yv3iCUIiJR/m/YkHnxJKq0D/gTaq2GfjNPzLXo7OFVtM/lN0V7FEpxz8UV9UQ4LXTP2JB58SSqtA/4E2qthn4zT8y16OzhVbTP5TdFexRKcc/dn+oYPWEyj/cah+DiErDPyq9Nz7uFZO/9zFSuTfkzj9ihc/pVzvNP/OUS9QWUeg/c+GZAddjtj8yP1hmTbi4P+yhtUuyZLw/bR9i9gdouz/nbhbpFUXmP4Lcw4TEPvE/iKHiM4Ki/D95cpm8SiXsP+GoAYNxtOg/gbks+kLNpz8QdIvmydu3P94Knc3AS7M/Kc6mcd+8oj/s1pDpHwy6Pxui5LbJNrg/vGA4PwHEtz8CSfxvno27P7XRhSuK9Lk/a49dSQUbuz8GIYX4v1X6P9euWqHf+Pg/OhYzeG+D/z9WpBbq6wL4PzvDYRgDHuw/R7AExIMs2D8RPNRmrdbaP7gsJ2uIH+E/thrO5PLE3j+MYizzYOXVPzBc9oJ4Mfc/6oUYxO0r0j9ZdOuIY0C9v6BVUhnq+ZA/TcIDaP5q6T9P8YD7spatP4G3uPeQjsA/8olux1vOwz8AAAAAAAAAAEB0lwz+Odo/fiYhI6el4j8zoa81teTfP7bsU86xkOI/V8cPgTdn0D+kv5WPAhTGP0oUzoYkecM/ssj1nQe6tj+s/HyffF1nP2ClbvDIL8o/6f7LbBmf0r9305Uh6Mrnv3HkmvBRR/2/5j868HzjAsCEkEpYGIHjvyyD1a4qJ9s/vFTmxRpC3z//I5c8OQDnP7RdlNX8uuI/eZbTzMUE9D8kg0B30GbqP89S0+NRHe8/tEFyafdB7T/p9KJ/elTdP2zrR/BVcds/3pSwe767xD+cFPF9EKu7P2UV/kfesb0/h3f9f3RTrb+8Eowb2+5cv3/UbbWXW8Y/TbLGreguwD9Rzr7uzl+kv0fGQpjcLZS/EdYVNtml67/61/1PIf+4P2YMJ02vFbQ/PPlMUEMhzT9kr5yNhizCP9oecCa/9dc/zbGetTNp9793oH8zPQL5v7O5YWNclvE/IAWijSMjyD+7v9ED47GIP1R5xotsTLY/KlXpfg/J4j/btYwGrzLgPzxZDb1yQNE/BM2CvEC0vz8Pju/fWOjMP3SLiXXLktM/D6GD8OfK0z9nMrQte0DQP6+tNd5eU84/VAS+z7RR3T/n1tYzGE3hP6E0IL9+PuY/wSIio/9p9j/k3Ng833PjP5DZi9/n3tQ//ahDYcpO2j+IIo4nIb3hP8W1xIogM9U/bFnUtiNTwT9+e6IDa03XP+NhEm/OU9Y/xbGmYyXo1z9w5Ky7skfTP/a9806BVNE/dNZeuD4PzT+goV0iPjPSP/xvnQTPAdM/cSusoxFs0D8NIQd/NO3SP12vsVzLyMo/oWBDaHHryT9bx7MdUN/BP6y39eHqKLU/9yMlDzKZxj8ENfMJaubDP0cvX17cksQ/Vyrcjj/Qxz/u2eCE0M/GPxmE4ldmccA/NhiUg0E5yD+wkWnJ7NDHP52mbora+7A/F0i+wE/cwj8opu+yMdu9PxTkoStSOdI/LgiPyPUDwz9d971oCqCMvwkgb97kpnq/p+XDEGxSqD80B+L2HjDHP7D9oG3ldco/oykUmooqzj+lNrkimPvQPygFGCk6/tE/W4KEWpTNkj9fyvaHYCSqP4XxZ+6Gias/fQMk75w6qj98WlfeQaKlP2Epec6u9dM/8+coDvsR0D+v+004gh7SPw3MjIedPtI/Zgheo0EEzD8AAAAAAAAAABihn/XS2aM/mMwelv7hv7+7haflTv/Mv/6JMF0GPbu/YPQnIKfB0T8wqOVErprTP1umtENlHtU/o8Imz7vs0T+fQKsNBv/KPw3ibk9kVLE/w3AE7TaOmD+NzgSzJTWivxl0L5z5ZpS/mIPfLPJAmr+XV8MK5onRPypJbC/cwNA/Eeyp/5l8xD+b2BxN9paxPxzy9vWrS9E/z7xtQhiltj82Wu1q4DLIPzPUBxXPs9I//B1ZPvAaxz9IyNC2LADhv3d0YEw4JJA/kCoe7RD9tL/Tg0VbDO3Jv2sBUuvaq7m/JbsjBBscub+gENizMrDFP1zNyafkJrw/H6QvTV19uj9rfgsBo1S7PyEWH75/Edo/MLOSdZRktz+NyGor0CO3PxxQWMFgc7Y/X0TYaZRlqT9nYKzzGNiuP8QmNNPnXNQ/RJP8C9YS1j/CqWlQq/3VP/nOYnOoddM/WfRmhNId1D+QMQLAVrHyP9hCbxW20APAo4suuuhaCMCiTPyoGNfoP7uWg5v9QuI/XpdBOkE0zj/esfT2KyPMPwWkKcbJNco/49sCWuBEwT/jAAsBHOPBP+1JVWyGbZk/dHu8Ze7Bzz+whwYbqbbLP+xdaurt6dI/3yGR/r0BdD+oQzQPkC6Zv1CDSsEOhLc/8mAG0XKywj8EE+qvcDCgvxtm/HAnGMi/MRJs3GjYF0C3Y0LhaNbWP0KS/5rmWdI/Hasd0dlu0j8rbvTtTDHRP6vHdhg8z+E//ILdDSY34j/Xs3diYNnxP4Z6GbifRfE/DHQTBPJz7T97rPRbKS/Iv+FcYC02YZA/FWPN6106tD/3e3D656jKP8JI3MJKgdA/iy3MpGmSxD/ZIPhmpqvBPxdMMbKsFcA/IDGCOXO+yj+Yj6inOOPWP7y5QNImF8I/nqbfO09LwT8/M5iiMna+P8+sD16VQcI/2JAiMVPSuz8oZTAD5m6uP4Vm113VvrU/mnb2WwVDrT9JbEUB6/+1PxoXOO8xeKw/4xOe2x096j9cqSm23o/yP19UIPWk9gJAcSQALb2w4z8O/BKWaTfdPz3froJskKw/Fs2AL9eDrT8Gq946sdqoP8XdHkRZBZU/X0gaWIMafT/O/Gb6DbDcPwSkYlzylOE/z1w26fd45z8VlT+7RsDkP7oCU2Bazds/+bPDMG4Pxj9HG8PYBPrDP3ED7yexhbo/YkgfqR8+tj8tFeoG+g+rPxFDinlgcdc/OPuNwr1f0T9IxWuH5sfWP2z7kq9Pds0/eSI9+ioq1T8sUbsStSv3vxVUUEEFFRLAYXMg0QqbEEBeP1usDN/oP5HqPRSp3uO/AAAAAAAAAAA2L4YSchywvy6qPJDeaYW/zc5gEBh1m7+6FFJgitSgv5x0vqUBHNw/qO87z7aR1D8MrW9Bb+LQP4ho6YKXvqs/i9DLEeoNPL9k55ndMNrVPzAjrD83VtA/j+IkTz+fxz+dKd39TS3UP+SxwnCCFM0/iP6GfqNU0j/cq7WxmvzVPw9CVZTV6cs/U6POqGXCsD9m88dK/Ca6PwbckeoFp5E/Bfug3C3swL+PlkijuEfGP2ujms6AE8E/+CgLu7mjsT9acIPnjwLVP9aVolzvdNY/UR4t9Mnz2z/xPbsNEJ7bP5A2rFmB9Nc/ay3adxhisL/rMWda+V7JP51uZjvssA5ATul/qvCA4b+Nns8txdyLv+K2DvEs6sU/R/TL33Bnxj8VujnGkN+5P40+lIbfybw/8fAxlp4KtD8AAAAAAAAAALwM4bddJcW/zWuZ32Lk3b9cbvdoKXXdv6tKpJL1hEpAjLX/p/M10D+Y3c8I0l7JP953/FNHtsU/mZYHYF/Zyj9pQfMA/XrRP7TQOE1siNY/DHWenKHP0D+R1T9zNKzLP2ami1jZqNQ/ofWe6nHxzz/UXwD0OWbtP6yOuDyHKOY/mS8qrjRMyT/dKcDW73PXP3uQaih5adA/MstZ9UF+0T/OwVyBfLXUP34Gu2768dc/19fX19dX0j81XQwr/juDPx8EkRGm2vu/dOc/3DKW9b9Dmd10v2IAwCoVGxtxS0DA0XdZc6H8KEBTxb0MNuLRP90unlGWodI/ejenRs8g2D+1+4teXB/SPxD0G9EbZsc/1iWrnu7ixj+tecEfJfXRP/v1rdcOrNM/1S0ZP8MuzD+i6tDLlPGwPz8k01gYbs4/J7lJ2C2L0j/SFbG6v0bNP3FD1wOi4MQ/l7uEiaz7vz+v5jYmDaa3P/qXIAYF6a4/IMaCLn6lwr/lEZwV2BLNvy0oJI20g+i/lffS5QXp3z9PCnA9XRjQP3zFV3zFV/S/l/JTlkPo5L/neF6DsQTPv8HqXCZgdtw/mTkveSKI3D8OvB4ifOTcPyS5S+aJ09c/xqBWKmxE2T987BOLrP/JPw5dlIhT0ck/Z78E5HOLvj8W6WcTj4/IP4tYQc4F3so/bDqOFHCE1D8VY/psfyPRP1KS8fEDero/cfRwuEAvv78Fxoe3tAfRvyniLtgl/eA/KJ3X4NNi3z+kAXpPRKDgP6n1l2fsY94/d+boKEvv4D89RLIEX7TYP20KVXtvctU/jOP5hRH75j+W0dl5QBXtPwOaGBgUX+s/j7lrPN89wz/GSI6+6XvDP/cYMnyIgMg/q9pYnTyJ2z+JZqV2vmTUP/5vJY5xBbU/W2VV7RxQtD9YARJYAXevPzJVYm0thLk/mV7GKwAztz8AAAAAAAAAAIGhOT6toNg/k1KAt5CQ1j92mTL9XSfbP2QUL+HUkZo/VJHiExYo4L9yVWssPILgv7ZD2eZIH9i/L0gvEdVA6b9PV8sch3K+vxFmfWWeHNA/bnMAd9+byT8bsMHuTtnGPxVS/EfAT8I/MFtaFgRUwT+AbEYonSPlv2seLbdS17+/esYes64WvD89dtx5oJ/GP55/mZ9kY8Q/h+Jk6fuBxz8M33qhQXPAPwtj8kSdCaM/L3f8yuRnpj+d2CCBAQKoPwvH17+Q5bg/PzAtyPimzj+6lzQ9qgPSP2/gjCfoa8c/KFujehmcoD/Yn4oJpivSPye5Q4paqNg/YEwzB8Y04z/WZ2CXZKXiPy60qkYIfeM/D6TNXXkPwT9xEH6dliq1Pwmn6GrA15k/Lt6a4k0Xtz+nJdsgOZ3OPwW5B00WfI4/uWeKe6a4/z+XLxySAHXhP6g0RsTuR84/otZrf6fn0D/WSceNHbagvw8lHOCMWso/6NMn5SqQzj+tcfpxm67NPzl4QnF5+tM/Bv6KkHY81b+sH81V0bGxvwTcPNwk1cO/XDUSCQs0tj8pXa/gl9K9PwAAAAAAAAAAnLA8Mi/fxT+81vTRGc+wv2FXLEY3MXo/bRy1j9YOtr8NMPdPN2O5P4qHHQWSvLk/Qoxwf9Gmuj8Au+OQ4S+6P8SqS5RL37k/5h0NzXIwp7+prrIgydvRv7+PlfLCyOW/+5VviBS137+QDnP6T2TOvw==",
          "dtype": "f8"
         },
         "y0": " ",
         "yaxis": "y4"
        },
        {
         "alignmentgroup": "True",
         "boxpoints": "all",
         "fillcolor": "rgba(255,255,255,0)",
         "hoveron": "points",
         "hovertemplate": "<b>%{hovertext}</b><br><br>variable=%{x}<br>value=%{y}<extra></extra>",
         "hovertext": [
          "ADBE",
          "ADBE",
          "ADBE",
          "ADBE",
          "ADBE",
          "AMD",
          "AMD",
          "AMD",
          "AMD",
          "AMD",
          "ABNB",
          "ABNB",
          "ABNB",
          "ABNB",
          "ABNB",
          "GOOGL",
          "GOOGL",
          "GOOGL",
          "GOOGL",
          "GOOG",
          "GOOG",
          "GOOG",
          "GOOG",
          "GOOG",
          "AMZN",
          "AMZN",
          "AMZN",
          "AMZN",
          "AMZN",
          "AEP",
          "AEP",
          "AEP",
          "AEP",
          "AEP",
          "AMGN",
          "AMGN",
          "AMGN",
          "AMGN",
          "AMGN",
          "ADI",
          "ADI",
          "ADI",
          "ADI",
          "ADI",
          "ANSS",
          "ANSS",
          "ANSS",
          "ANSS",
          "ANSS",
          "AAPL",
          "AAPL",
          "AAPL",
          "AAPL",
          "AAPL",
          "AMAT",
          "AMAT",
          "AMAT",
          "AMAT",
          "AMAT",
          "APP",
          "APP",
          "APP",
          "APP",
          "APP",
          "ARM",
          "ARM",
          "ARM",
          "ARM",
          "ASML",
          "ASML",
          "ASML",
          "ASML",
          "ASML",
          "AZN",
          "AZN",
          "AZN",
          "AZN",
          "AZN",
          "TEAM",
          "TEAM",
          "TEAM",
          "TEAM",
          "TEAM",
          "ADSK",
          "ADSK",
          "ADSK",
          "ADSK",
          "ADSK",
          "ADP",
          "ADP",
          "ADP",
          "ADP",
          "ADP",
          "AXON",
          "AXON",
          "AXON",
          "AXON",
          "AXON",
          "BKR",
          "BKR",
          "BKR",
          "BKR",
          "BKR",
          "BIIB",
          "BIIB",
          "BIIB",
          "BIIB",
          "BIIB",
          "BKNG",
          "BKNG",
          "BKNG",
          "BKNG",
          "BKNG",
          "AVGO",
          "AVGO",
          "AVGO",
          "AVGO",
          "AVGO",
          "CDNS",
          "CDNS",
          "CDNS",
          "CDNS",
          "CDNS",
          "CDW",
          "CDW",
          "CDW",
          "CDW",
          "CDW",
          "CHTR",
          "CHTR",
          "CHTR",
          "CHTR",
          "CHTR",
          "CTAS",
          "CTAS",
          "CTAS",
          "CTAS",
          "CTAS",
          "CSCO",
          "CSCO",
          "CSCO",
          "CSCO",
          "CSCO",
          "CCEP",
          "CCEP",
          "CCEP",
          "CCEP",
          "CCEP",
          "CTSH",
          "CTSH",
          "CTSH",
          "CTSH",
          "CTSH",
          "CMCSA",
          "CMCSA",
          "CMCSA",
          "CMCSA",
          "CMCSA",
          "CEG",
          "CEG",
          "CEG",
          "CEG",
          "CEG",
          "CPRT",
          "CPRT",
          "CPRT",
          "CPRT",
          "CPRT",
          "CSGP",
          "CSGP",
          "CSGP",
          "CSGP",
          "CSGP",
          "COST",
          "COST",
          "COST",
          "COST",
          "COST",
          "CRWD",
          "CRWD",
          "CRWD",
          "CRWD",
          "CRWD",
          "CSX",
          "CSX",
          "CSX",
          "CSX",
          "CSX",
          "DDOG",
          "DDOG",
          "DDOG",
          "DDOG",
          "DDOG",
          "DXCM",
          "DXCM",
          "DXCM",
          "DXCM",
          "DXCM",
          "FANG",
          "FANG",
          "FANG",
          "FANG",
          "FANG",
          "DASH",
          "DASH",
          "DASH",
          "DASH",
          "DASH",
          "EA",
          "EA",
          "EA",
          "EA",
          "EA",
          "EXC",
          "EXC",
          "EXC",
          "EXC",
          "EXC",
          "FAST",
          "FAST",
          "FAST",
          "FAST",
          "FAST",
          "FTNT",
          "FTNT",
          "FTNT",
          "FTNT",
          "FTNT",
          "GEHC",
          "GEHC",
          "GEHC",
          "GEHC",
          "GEHC",
          "GILD",
          "GILD",
          "GILD",
          "GILD",
          "GILD",
          "GFS",
          "GFS",
          "GFS",
          "GFS",
          "GFS",
          "HON",
          "HON",
          "HON",
          "HON",
          "HON",
          "IDXX",
          "IDXX",
          "IDXX",
          "IDXX",
          "IDXX",
          "INTC",
          "INTC",
          "INTC",
          "INTC",
          "INTC",
          "INTU",
          "INTU",
          "INTU",
          "INTU",
          "INTU",
          "ISRG",
          "ISRG",
          "ISRG",
          "ISRG",
          "ISRG",
          "KDP",
          "KDP",
          "KDP",
          "KDP",
          "KDP",
          "KLAC",
          "KLAC",
          "KLAC",
          "KLAC",
          "KLAC",
          "KHC",
          "KHC",
          "KHC",
          "KHC",
          "KHC",
          "LRCX",
          "LRCX",
          "LRCX",
          "LRCX",
          "LRCX",
          "LIN",
          "LIN",
          "LIN",
          "LIN",
          "LIN",
          "LULU",
          "LULU",
          "LULU",
          "LULU",
          "LULU",
          "MAR",
          "MAR",
          "MAR",
          "MAR",
          "MAR",
          "MRVL",
          "MRVL",
          "MRVL",
          "MRVL",
          "MRVL",
          "MELI",
          "MELI",
          "MELI",
          "MELI",
          "MELI",
          "META",
          "META",
          "META",
          "META",
          "META",
          "MCHP",
          "MCHP",
          "MCHP",
          "MCHP",
          "MCHP",
          "MU",
          "MU",
          "MU",
          "MU",
          "MU",
          "MSFT",
          "MSFT",
          "MSFT",
          "MSFT",
          "MSFT",
          "MSTR",
          "MSTR",
          "MSTR",
          "MSTR",
          "MSTR",
          "MDLZ",
          "MDLZ",
          "MDLZ",
          "MDLZ",
          "MDLZ",
          "MDB",
          "MDB",
          "MDB",
          "MDB",
          "MDB",
          "MNST",
          "MNST",
          "MNST",
          "MNST",
          "MNST",
          "NFLX",
          "NFLX",
          "NFLX",
          "NFLX",
          "NFLX",
          "NVDA",
          "NVDA",
          "NVDA",
          "NVDA",
          "NVDA",
          "NXPI",
          "NXPI",
          "NXPI",
          "NXPI",
          "NXPI",
          "ORLY",
          "ORLY",
          "ORLY",
          "ORLY",
          "ORLY",
          "ODFL",
          "ODFL",
          "ODFL",
          "ODFL",
          "ODFL",
          "ON",
          "ON",
          "ON",
          "ON",
          "ON",
          "PCAR",
          "PCAR",
          "PCAR",
          "PCAR",
          "PCAR",
          "PLTR",
          "PLTR",
          "PLTR",
          "PLTR",
          "PLTR",
          "PANW",
          "PANW",
          "PANW",
          "PANW",
          "PANW",
          "PAYX",
          "PAYX",
          "PAYX",
          "PAYX",
          "PAYX",
          "PYPL",
          "PYPL",
          "PYPL",
          "PYPL",
          "PYPL",
          "PDD",
          "PDD",
          "PDD",
          "PDD",
          "PDD",
          "PEP",
          "PEP",
          "PEP",
          "PEP",
          "PEP",
          "QCOM",
          "QCOM",
          "QCOM",
          "QCOM",
          "QCOM",
          "REGN",
          "REGN",
          "REGN",
          "REGN",
          "REGN",
          "ROP",
          "ROP",
          "ROP",
          "ROP",
          "ROP",
          "ROST",
          "ROST",
          "ROST",
          "ROST",
          "ROST",
          "SBUX",
          "SBUX",
          "SBUX",
          "SBUX",
          "SBUX",
          "SNPS",
          "SNPS",
          "SNPS",
          "SNPS",
          "SNPS",
          "TTWO",
          "TTWO",
          "TTWO",
          "TTWO",
          "TTWO",
          "TMUS",
          "TMUS",
          "TMUS",
          "TMUS",
          "TMUS",
          "TSLA",
          "TSLA",
          "TSLA",
          "TSLA",
          "TSLA",
          "TXN",
          "TXN",
          "TXN",
          "TXN",
          "TXN",
          "TTD",
          "TTD",
          "TTD",
          "TTD",
          "TTD",
          "VRSK",
          "VRSK",
          "VRSK",
          "VRSK",
          "VRSK",
          "VRTX",
          "VRTX",
          "VRTX",
          "VRTX",
          "VRTX",
          "WBD",
          "WBD",
          "WBD",
          "WBD",
          "WBD",
          "WDAY",
          "WDAY",
          "WDAY",
          "WDAY",
          "WDAY",
          "XEL",
          "XEL",
          "XEL",
          "XEL",
          "XEL",
          "ZS",
          "ZS",
          "ZS",
          "ZS",
          "ZS"
         ],
         "legendgroup": "",
         "line": {
          "color": "rgba(255,255,255,0)"
         },
         "marker": {
          "color": "#636efa"
         },
         "name": "",
         "offsetgroup": "",
         "orientation": "v",
         "pointpos": 0,
         "showlegend": false,
         "type": "box",
         "x": [
          "dividendYield",
          "dividendYield",
          "dividendYield",
          "dividendYield",
          "dividendYield",
          "dividendYield",
          "dividendYield",
          "dividendYield",
          "dividendYield",
          "dividendYield",
          "dividendYield",
          "dividendYield",
          "dividendYield",
          "dividendYield",
          "dividendYield",
          "dividendYield",
          "dividendYield",
          "dividendYield",
          "dividendYield",
          "dividendYield",
          "dividendYield",
          "dividendYield",
          "dividendYield",
          "dividendYield",
          "dividendYield",
          "dividendYield",
          "dividendYield",
          "dividendYield",
          "dividendYield",
          "dividendYield",
          "dividendYield",
          "dividendYield",
          "dividendYield",
          "dividendYield",
          "dividendYield",
          "dividendYield",
          "dividendYield",
          "dividendYield",
          "dividendYield",
          "dividendYield",
          "dividendYield",
          "dividendYield",
          "dividendYield",
          "dividendYield",
          "dividendYield",
          "dividendYield",
          "dividendYield",
          "dividendYield",
          "dividendYield",
          "dividendYield",
          "dividendYield",
          "dividendYield",
          "dividendYield",
          "dividendYield",
          "dividendYield",
          "dividendYield",
          "dividendYield",
          "dividendYield",
          "dividendYield",
          "dividendYield",
          "dividendYield",
          "dividendYield",
          "dividendYield",
          "dividendYield",
          "dividendYield",
          "dividendYield",
          "dividendYield",
          "dividendYield",
          "dividendYield",
          "dividendYield",
          "dividendYield",
          "dividendYield",
          "dividendYield",
          "dividendYield",
          "dividendYield",
          "dividendYield",
          "dividendYield",
          "dividendYield",
          "dividendYield",
          "dividendYield",
          "dividendYield",
          "dividendYield",
          "dividendYield",
          "dividendYield",
          "dividendYield",
          "dividendYield",
          "dividendYield",
          "dividendYield",
          "dividendYield",
          "dividendYield",
          "dividendYield",
          "dividendYield",
          "dividendYield",
          "dividendYield",
          "dividendYield",
          "dividendYield",
          "dividendYield",
          "dividendYield",
          "dividendYield",
          "dividendYield",
          "dividendYield",
          "dividendYield",
          "dividendYield",
          "dividendYield",
          "dividendYield",
          "dividendYield",
          "dividendYield",
          "dividendYield",
          "dividendYield",
          "dividendYield",
          "dividendYield",
          "dividendYield",
          "dividendYield",
          "dividendYield",
          "dividendYield",
          "dividendYield",
          "dividendYield",
          "dividendYield",
          "dividendYield",
          "dividendYield",
          "dividendYield",
          "dividendYield",
          "dividendYield",
          "dividendYield",
          "dividendYield",
          "dividendYield",
          "dividendYield",
          "dividendYield",
          "dividendYield",
          "dividendYield",
          "dividendYield",
          "dividendYield",
          "dividendYield",
          "dividendYield",
          "dividendYield",
          "dividendYield",
          "dividendYield",
          "dividendYield",
          "dividendYield",
          "dividendYield",
          "dividendYield",
          "dividendYield",
          "dividendYield",
          "dividendYield",
          "dividendYield",
          "dividendYield",
          "dividendYield",
          "dividendYield",
          "dividendYield",
          "dividendYield",
          "dividendYield",
          "dividendYield",
          "dividendYield",
          "dividendYield",
          "dividendYield",
          "dividendYield",
          "dividendYield",
          "dividendYield",
          "dividendYield",
          "dividendYield",
          "dividendYield",
          "dividendYield",
          "dividendYield",
          "dividendYield",
          "dividendYield",
          "dividendYield",
          "dividendYield",
          "dividendYield",
          "dividendYield",
          "dividendYield",
          "dividendYield",
          "dividendYield",
          "dividendYield",
          "dividendYield",
          "dividendYield",
          "dividendYield",
          "dividendYield",
          "dividendYield",
          "dividendYield",
          "dividendYield",
          "dividendYield",
          "dividendYield",
          "dividendYield",
          "dividendYield",
          "dividendYield",
          "dividendYield",
          "dividendYield",
          "dividendYield",
          "dividendYield",
          "dividendYield",
          "dividendYield",
          "dividendYield",
          "dividendYield",
          "dividendYield",
          "dividendYield",
          "dividendYield",
          "dividendYield",
          "dividendYield",
          "dividendYield",
          "dividendYield",
          "dividendYield",
          "dividendYield",
          "dividendYield",
          "dividendYield",
          "dividendYield",
          "dividendYield",
          "dividendYield",
          "dividendYield",
          "dividendYield",
          "dividendYield",
          "dividendYield",
          "dividendYield",
          "dividendYield",
          "dividendYield",
          "dividendYield",
          "dividendYield",
          "dividendYield",
          "dividendYield",
          "dividendYield",
          "dividendYield",
          "dividendYield",
          "dividendYield",
          "dividendYield",
          "dividendYield",
          "dividendYield",
          "dividendYield",
          "dividendYield",
          "dividendYield",
          "dividendYield",
          "dividendYield",
          "dividendYield",
          "dividendYield",
          "dividendYield",
          "dividendYield",
          "dividendYield",
          "dividendYield",
          "dividendYield",
          "dividendYield",
          "dividendYield",
          "dividendYield",
          "dividendYield",
          "dividendYield",
          "dividendYield",
          "dividendYield",
          "dividendYield",
          "dividendYield",
          "dividendYield",
          "dividendYield",
          "dividendYield",
          "dividendYield",
          "dividendYield",
          "dividendYield",
          "dividendYield",
          "dividendYield",
          "dividendYield",
          "dividendYield",
          "dividendYield",
          "dividendYield",
          "dividendYield",
          "dividendYield",
          "dividendYield",
          "dividendYield",
          "dividendYield",
          "dividendYield",
          "dividendYield",
          "dividendYield",
          "dividendYield",
          "dividendYield",
          "dividendYield",
          "dividendYield",
          "dividendYield",
          "dividendYield",
          "dividendYield",
          "dividendYield",
          "dividendYield",
          "dividendYield",
          "dividendYield",
          "dividendYield",
          "dividendYield",
          "dividendYield",
          "dividendYield",
          "dividendYield",
          "dividendYield",
          "dividendYield",
          "dividendYield",
          "dividendYield",
          "dividendYield",
          "dividendYield",
          "dividendYield",
          "dividendYield",
          "dividendYield",
          "dividendYield",
          "dividendYield",
          "dividendYield",
          "dividendYield",
          "dividendYield",
          "dividendYield",
          "dividendYield",
          "dividendYield",
          "dividendYield",
          "dividendYield",
          "dividendYield",
          "dividendYield",
          "dividendYield",
          "dividendYield",
          "dividendYield",
          "dividendYield",
          "dividendYield",
          "dividendYield",
          "dividendYield",
          "dividendYield",
          "dividendYield",
          "dividendYield",
          "dividendYield",
          "dividendYield",
          "dividendYield",
          "dividendYield",
          "dividendYield",
          "dividendYield",
          "dividendYield",
          "dividendYield",
          "dividendYield",
          "dividendYield",
          "dividendYield",
          "dividendYield",
          "dividendYield",
          "dividendYield",
          "dividendYield",
          "dividendYield",
          "dividendYield",
          "dividendYield",
          "dividendYield",
          "dividendYield",
          "dividendYield",
          "dividendYield",
          "dividendYield",
          "dividendYield",
          "dividendYield",
          "dividendYield",
          "dividendYield",
          "dividendYield",
          "dividendYield",
          "dividendYield",
          "dividendYield",
          "dividendYield",
          "dividendYield",
          "dividendYield",
          "dividendYield",
          "dividendYield",
          "dividendYield",
          "dividendYield",
          "dividendYield",
          "dividendYield",
          "dividendYield",
          "dividendYield",
          "dividendYield",
          "dividendYield",
          "dividendYield",
          "dividendYield",
          "dividendYield",
          "dividendYield",
          "dividendYield",
          "dividendYield",
          "dividendYield",
          "dividendYield",
          "dividendYield",
          "dividendYield",
          "dividendYield",
          "dividendYield",
          "dividendYield",
          "dividendYield",
          "dividendYield",
          "dividendYield",
          "dividendYield",
          "dividendYield",
          "dividendYield",
          "dividendYield",
          "dividendYield",
          "dividendYield",
          "dividendYield",
          "dividendYield",
          "dividendYield",
          "dividendYield",
          "dividendYield",
          "dividendYield",
          "dividendYield",
          "dividendYield",
          "dividendYield",
          "dividendYield",
          "dividendYield",
          "dividendYield",
          "dividendYield",
          "dividendYield",
          "dividendYield",
          "dividendYield",
          "dividendYield",
          "dividendYield",
          "dividendYield",
          "dividendYield",
          "dividendYield",
          "dividendYield",
          "dividendYield",
          "dividendYield",
          "dividendYield",
          "dividendYield",
          "dividendYield",
          "dividendYield",
          "dividendYield",
          "dividendYield",
          "dividendYield",
          "dividendYield",
          "dividendYield",
          "dividendYield",
          "dividendYield",
          "dividendYield",
          "dividendYield",
          "dividendYield",
          "dividendYield",
          "dividendYield",
          "dividendYield",
          "dividendYield",
          "dividendYield",
          "dividendYield",
          "dividendYield",
          "dividendYield",
          "dividendYield",
          "dividendYield",
          "dividendYield",
          "dividendYield",
          "dividendYield",
          "dividendYield",
          "dividendYield",
          "dividendYield",
          "dividendYield",
          "dividendYield",
          "dividendYield",
          "dividendYield",
          "dividendYield",
          "dividendYield",
          "dividendYield",
          "dividendYield",
          "dividendYield",
          "dividendYield",
          "dividendYield",
          "dividendYield",
          "dividendYield",
          "dividendYield",
          "dividendYield",
          "dividendYield",
          "dividendYield",
          "dividendYield",
          "dividendYield",
          "dividendYield",
          "dividendYield",
          "dividendYield",
          "dividendYield",
          "dividendYield",
          "dividendYield",
          "dividendYield",
          "dividendYield",
          "dividendYield",
          "dividendYield",
          "dividendYield",
          "dividendYield",
          "dividendYield",
          "dividendYield",
          "dividendYield",
          "dividendYield",
          "dividendYield",
          "dividendYield",
          "dividendYield",
          "dividendYield",
          "dividendYield",
          "dividendYield",
          "dividendYield",
          "dividendYield",
          "dividendYield",
          "dividendYield",
          "dividendYield",
          "dividendYield",
          "dividendYield",
          "dividendYield",
          "dividendYield",
          "dividendYield",
          "dividendYield",
          "dividendYield",
          "dividendYield",
          "dividendYield",
          "dividendYield",
          "dividendYield",
          "dividendYield",
          "dividendYield",
          "dividendYield",
          "dividendYield",
          "dividendYield",
          "dividendYield",
          "dividendYield",
          "dividendYield",
          "dividendYield",
          "dividendYield",
          "dividendYield",
          "dividendYield",
          "dividendYield"
         ],
         "x0": " ",
         "xaxis": "x5",
         "y": {
          "bdata": "AAAAAAAAAAAAAAAAAAAAAAAAAAAAAAAAAAAAAAAAAAAAAAAAAAAAAAAAAAAAAAAAAAAAAAAAAAAAAAAAAAAAAAAAAAAAAAAAAAAAAAAAAAAAAAAAAAAAAAAAAAAAAAAAAAAAAAAAAAAAAAAAAAAAAAAAAAAAAAAAAAAAAAAAAAAAAAAAAAAAAAAAAAAAAAAAAAAAAAAAAAAaqbTPcJlpPwAAAAAAAAAAAAAAAAAAAAAAAAAAAAAAAAAAAAAAAAAAAAAAAAAAAAAAAAAAAAAAAAAAAAAAAAAAAAAAAAAAAAAAAAAAAAAAADzS7FI68KM/xeT0atdipT8JRHTaFVWhP7lFt4JueKE/zt9BuYCsoT8AAAAAAAAAABadnObPRp4/MCDxCIdonj+l+x472QWgP57eGAnuiZw/AAAAAAAAAACzn3SQMlKVP9evO4hrBpU/csjCyVB5kD+Nu7sThMSUPwAAAAAAAAAAAAAAAAAAAAAAAAAAAAAAAAAAAAAAAAAAAAAAAAAAAAAaUwVVUtpxPwxd2Ky41HY/VzfVIH3reD+a7VT3RCZ4P2KWQbdqmn0/QqozA5Tafz+Vd/doWCSCP35RxGniP4c/RsQ/q3MJez+WIW5zXJGNPwAAAAAAAAAAAAAAAAAAAAAAAAAAAAAAAAAAAAAAAAAAAAAAAAAAAAAAAAAAAAAAAAAAAAAAAAAAAAAAAAAAAAAxDacpVKSIP4BBsYXK0YI/M+6Or1digj/aCI5WQyqKP8HuhiA1WnM/mPNTbTJEej9fVvZzH0qXP6lNdvKYwZU/xELZxOBKlT+JjjlKSraXP34lsyTM35s/AAAAAAAAAAAAAAAAAAAAAAAAAAAAAAAAAAAAAAAAAAAAAAAAAAAAAAAAAAAAAAAAAAAAAAAAAAAAAAAAAAAAAAAAAAAAAAAAAAAAAAAAAABFiThSHxqXP8pIfRcacJU/dH3Aj/1Pkz9nroliwQ2TPwsnj+7ZeZc/AAAAAAAAAAAAAAAAAAAAAAAAAAAAAAAAAAAAAAAAAAAAAAAAAAAAAGaOhgxe4JQ/DsO9JWVclz8/lOelvYGZPxLE3IXIk54/EwzbkdrAoT8AAAAAAAAAAAAAAAAAAAAAAAAAAAAAAAAAAAAAAAAAAAAAAAAAAAAAmwQKfUzJfD8AAAAAAAAAAAAAAAAAAAAAAAAAAAAAAAAAAAAAAAAAAKfg/SPoyYk/GkxfGxZslj+8gPKRv7miP+DZfi/tYJ0/ie/3IjwQpD8AAAAAAAAAAAAAAAAAAAAAAAAAAAAAAAAAAAAAAAAAAAAAAAAAAAAAXw8lbxs1jT+dGp4c8YSFP0Oreceq+Ic//IlA0Gj0gD9hl9oOVO6HPwAAAAAAAAAAAAAAAAAAAAAAAAAAAAAAAAAAAAAAAAAAAAAAAAAAAAAIX/xW2Y1/P4C55GMKM4M/t1qC67Gxgj/2pTbpu/eIP1WYrssuEIU/V9VjRpnioD9+X9TslESeP3uVs6P116A/Kl6Dqfn+mj+7CREcr1efPwedy6NeBZ8/58hVkYM/oD8RbPXOd0qeP0XyTacM2pM/7CY2RHC4mz9tyym0qRuQP0kiswuQu48/IW8c3sl+kz8I1GZnoEuGP5je3mrONoY/8lZCqh/OoD8po76FMwCbP5T3r9c2gp8/a56DbGsdlD+Sl3ETEbCRP/1zRFW8znk/X//SOm3agz+GI9DZQMx6PzpHi914F8E/y+VzvGktwD8AAAAAAAAAAAAAAAAAAAAAAAAAAAAAAAAAAAAAAAAAAAAAAAAAAAAAAAAAAAAAAAAAAAAAAAAAAAAAAAAAAAAAAAAAAAAAAAAAAAAAAAAAAAHiWTbYXpc/nWdyOzw2dT986q4g8Qp6P2X06I/GIp0/HP/Av8Wygz8AAAAAAAAAAAAAAAAAAAAAAAAAAAAAAAAAAAAAAAAAAAAAAAAAAAAAVutC7o98jj+FVop0VvKJP+88adNbXoo/W8RSy39PhD9P1g6sFXuHPwAAAAAAAAAAAAAAAAAAAAAAAAAAAAAAAAAAAAAAAAAAAAAAAAAAAAAAAAAAAAAAAAAAAAAAAAAAAAAAAAAAAAAAAAAAAAAAAAAAAAAAAAAAXUjb0f4Xpz8huHoXVnyqPzDFLJ15qrA/vCcaIyvFkD9+s4owP5ufPwAAAAAAAAAAAAAAAAAAAAAAAAAAAAAAAAAAAAAAAAAAAAAAAAAAAACHYopdwlJ3P/2L7wjUx3k//63MlaoAdj96VHurV4VkPwAAAAAAAAAAPDJFqkoMlT+gWjNM8ISkPwjjtDgTBqA/9HBeX9UBoz/znlXGiv6pP19oc68uNpY/YHYQdsAjnD8E7WGkltOaP39ooj6e5pE/XMsETu5cnT8AAAAAAAAAAAAAAAAAAAAAAAAAAAAAAAAAAAAAAAAAAAAAAAAAAAAAncSdeNxGWT9LCSLcGhhTPwAAAAAAAAAAAAAAAAAAAAAAAAAAAAAAAMieR/ZgaqE/fCi1TjBKoz9WKX1JJKChP1cxhmsvPaQ/kotc8wMdqD8AAAAAAAAAAAAAAAAAAAAAAAAAAAAAAAAAAAAAAAAAAAAAAAAAAAAAhGYc3v41lD+l8GsN3QaVPypbt7UtMJM/BMb67digkj9+u9uDC7mRPwAAAAAAAAAAAAAAAAAAAAAAAAAAAAAAAAAAAAAAAAAAAAAAAAAAAAB6TAljddiSP3GToI17CY4/rf1ITqFHrD8urrktDMCbP+IzCc352Jw/UnvXZ65ddz9LqM/2DlN5P9WYeSVfP3k/is34qOF9cj92vO3GlLx8P/RUaFJ7nwY/AAAAAAAAAAAAAAAAAAAAAAAAAAAAAAAAAAAAAAAAAADR+1wGp/GbPyYjj8zQFJk/sIaGnK/jlT9gi+HwhL2SP9GB/Of6PJM/HbAHdQZDfD8X+FyQJC2GP1ALNPyTO4s/yd3TlGHuhj/e67qzDIuRP/+ySc7poao/5dTBUD4spj90l7h1PRukP8eHT6owP6c/wXl4H/dupz9UlcBdzvF9P9ibDZV6IIY/gcxTX8mIij+ObCxqKwaAP1JL8FdeHI4/3MU387Xxij8LnbR3B1qJP6Gdh0pGc40/0VnTeBkJiT+0023GVeyNPwAAAAAAAAAAAAAAAAAAAAAAAAAAAAAAAAAAAAAAAAAAAAAAAAAAAAA4YmYAcp6BPx8tKaZrroE/SQ+wI884ez8AAAAAAAAAAK+23hnlu20/yW1+Ge5mYT+7WiOdZiBtP4k3MyD5OHY/Q2Uj3mydbT8dxqBi+5lyPwAAAAAAAAAAAAAAAAAAAAAAAAAAAAAAAAAAAAAAAAAAQ43qF68dBT/gd2DDKAFsPwAAAAAAAAAAAAAAAAAAAAAAAAAAAAAAAAAAAAAAAAAA7cZ6Ipkwkz/DVm8lZOGOP+i7bd3B3Ig/5y6eUkC8gz889GAgICKWP38LpFqz5XM/aOYfxUkBez8G2UX4LKF9PwAAAAAAAAAAAAAAAAAAAAC5qB7/OUZ6P4jxnDTt+38/VGETwLFKgz+8oU8qp4yAP4WdXjVbBIQ/AAAAAAAAAAAAAAAAAAAAAAAAAAAAAAAAAAAAAAAAAAAAAAAAAAAAAAwhPDV63p0/KRmUNZtnlj8eN5vOqiGWP9Pye3Y4GZQ/3Wx1nUGJlD8AAAAAAAAAAAAAAAAAAAAAAAAAAAAAAAAAAAAAAAAAAAAAAAAAAAAAAAAAAAAAAAAAAAAAAAAAAAAAAAAAAAAAAAAAAAAAAAAAAAAAAAAAAAAAAAAAAAAAAAAAAAAAAAAAAAAAAAAAAAAAAAAAAAAAAAAAAAAAAADOZ+TC8ssyP3mF/EKYyDA/34jYS4JeSz+noI45kmNFP2iLPIUvzlM/QIrONbYJlD9kIBbfy1uRP5QqQ6N3KpQ/7zgTK9mqgj9aYnLx/VWDPwAAAAAAAAAAAAAAAAAAAAAAAAAAAAAAAAAAAAAAAAAAAAAAAAAAAAC2PkLTNx14P1TkDgxnK3A/d0WqDe4qcT8s+H5LkkFiPxEAqI+mK2k/AAAAAAAAAAAAAAAAAAAAAAAAAAAAAAAAAAAAAAAAAAAAAAAAAAAAAEqlqE6McaU/+49PBH1lnj9LkcRnQ9adP7HXCC0pnpc/B+GbJOg2pT8AAAAAAAAAAAAAAAAAAAAAAAAAAAAAAAAAAAAAAAAAAAAAAAAAAAAAAAAAAAAAAAAAAAAAAAAAAAAAAAAAAAAAAAAAAAAAAAAAAAAAAAAAANbpc7MrHJ8/qTYFxwrRnz81hrOjVOyWP3v8VAbomZk/4ZUIN3enoT8AAAAAAAAAAAAAAAAAAAAAAAAAAAAAAAAAAAAAAAAAAAAAAAAAAAAAAAAAAAAAAAAAAAAAAAAAAAAAAAAAAAAAAAAAAAAAAAAAAAAAAAAAAP8Ou77CoaE/lvM6MkhHnT8+aoyus1mZP4UZ9da7YJk/sFNpax4UnD+Uqoqn++STP2CqKbBwvZw/NAMorMJ1mD/pPGVEOmeUPzPx3q2e8pU/AAAAAAAAAAAAAAAAAAAAAAAAAAAAAAAAAAAAAAAAAAAAAAAAAAAAAIs9VcmFrnc/4kGNUxp0dD8KCHK+vXp3P2IqMZUNsnI/3miaGrZycz+xG3ovNDuEPwIracNPV4M/jP9tPmaGhT/2oQqgrKWIP9kG9mSKLmU/2+HyIr/flz8YwCEK2NOXP6NvoI96eJc/QDAt6hSIkD/q8JBrPYOTPwAAAAAAAAAAAAAAAAAAAAAAAAAAAAAAAAAAAAAAAAAAAAAAAAAAAAAAAAAAAAAAAAAAAAAAAAAAAAAAAAAAAAAAAAAAAAAAAAAAAAAAAAAA2sHliAUwij98LiGlVBpwPwAAAAAAAAAAAAAAAAAAAAAAAAAAAAAAAAAAAAAAAAAAAAAAAAAAAAAAAAAAAAAAAAAAAAAAAAAAAAAAAAAAAAA08D37XracPy5/9JUaJp4/AGpTVvwSnT98i/Qf+N+WP5Wc1H1GNZc/AAAAAAAAAAAAAAAAAAAAAAAAAAAAAAAAAAAAAAAAAAAAAAAAAAAAAPVT6mqlJnc/w2p19y8Edz9TOqT+Z7N8P6Cxl6n50nQ/f5MXM+RUdT8AAAAAAAAAAAAAAAAAAAAAAAAAAAAAAAAAAAAAAAAAAAAAAAAAAAAAAAAAAAAAAAAAAAAAAAAAAAAAAAAAAAAAAAAAAAAAAAAAAAAAAAAAAAAAAAAAAAAAAAAAAAAAAAAAAAAAAAAAAAAAAAAAAAAAAAAAAAAAAADdeXGX1aafPxyyMTZAXKA/EzSBM5AFmz8tzqYN+zyaPxrxI4Sk8pg/AAAAAAAAAAAAAAAAAAAAAAAAAAAAAAAAAAAAAAAAAAAAAAAAAAAAAA==",
          "dtype": "f8"
         },
         "y0": " ",
         "yaxis": "y5"
        },
        {
         "alignmentgroup": "True",
         "boxpoints": "all",
         "fillcolor": "rgba(255,255,255,0)",
         "hoveron": "points",
         "hovertemplate": "<b>%{hovertext}</b><br><br>variable=%{x}<br>value=%{y}<extra></extra>",
         "hovertext": [
          "ADBE",
          "ADBE",
          "ADBE",
          "ADBE",
          "ADBE",
          "AMD",
          "AMD",
          "AMD",
          "AMD",
          "AMD",
          "ABNB",
          "ABNB",
          "ABNB",
          "ABNB",
          "ABNB",
          "GOOGL",
          "GOOGL",
          "GOOGL",
          "GOOGL",
          "GOOG",
          "GOOG",
          "GOOG",
          "GOOG",
          "GOOG",
          "AMZN",
          "AMZN",
          "AMZN",
          "AMZN",
          "AMZN",
          "AEP",
          "AEP",
          "AEP",
          "AEP",
          "AEP",
          "AMGN",
          "AMGN",
          "AMGN",
          "AMGN",
          "AMGN",
          "ADI",
          "ADI",
          "ADI",
          "ADI",
          "ADI",
          "ANSS",
          "ANSS",
          "ANSS",
          "ANSS",
          "ANSS",
          "AAPL",
          "AAPL",
          "AAPL",
          "AAPL",
          "AAPL",
          "AMAT",
          "AMAT",
          "AMAT",
          "AMAT",
          "AMAT",
          "APP",
          "APP",
          "APP",
          "APP",
          "APP",
          "ARM",
          "ARM",
          "ARM",
          "ARM",
          "ASML",
          "ASML",
          "ASML",
          "ASML",
          "ASML",
          "AZN",
          "AZN",
          "AZN",
          "AZN",
          "AZN",
          "TEAM",
          "TEAM",
          "TEAM",
          "TEAM",
          "TEAM",
          "ADSK",
          "ADSK",
          "ADSK",
          "ADSK",
          "ADSK",
          "ADP",
          "ADP",
          "ADP",
          "ADP",
          "ADP",
          "AXON",
          "AXON",
          "AXON",
          "AXON",
          "AXON",
          "BKR",
          "BKR",
          "BKR",
          "BKR",
          "BKR",
          "BIIB",
          "BIIB",
          "BIIB",
          "BIIB",
          "BIIB",
          "BKNG",
          "BKNG",
          "BKNG",
          "BKNG",
          "BKNG",
          "AVGO",
          "AVGO",
          "AVGO",
          "AVGO",
          "AVGO",
          "CDNS",
          "CDNS",
          "CDNS",
          "CDNS",
          "CDNS",
          "CDW",
          "CDW",
          "CDW",
          "CDW",
          "CDW",
          "CHTR",
          "CHTR",
          "CHTR",
          "CHTR",
          "CHTR",
          "CTAS",
          "CTAS",
          "CTAS",
          "CTAS",
          "CTAS",
          "CSCO",
          "CSCO",
          "CSCO",
          "CSCO",
          "CSCO",
          "CCEP",
          "CCEP",
          "CCEP",
          "CCEP",
          "CCEP",
          "CTSH",
          "CTSH",
          "CTSH",
          "CTSH",
          "CTSH",
          "CMCSA",
          "CMCSA",
          "CMCSA",
          "CMCSA",
          "CMCSA",
          "CEG",
          "CEG",
          "CEG",
          "CEG",
          "CEG",
          "CPRT",
          "CPRT",
          "CPRT",
          "CPRT",
          "CPRT",
          "CSGP",
          "CSGP",
          "CSGP",
          "CSGP",
          "CSGP",
          "COST",
          "COST",
          "COST",
          "COST",
          "COST",
          "CRWD",
          "CRWD",
          "CRWD",
          "CRWD",
          "CRWD",
          "CSX",
          "CSX",
          "CSX",
          "CSX",
          "CSX",
          "DDOG",
          "DDOG",
          "DDOG",
          "DDOG",
          "DDOG",
          "DXCM",
          "DXCM",
          "DXCM",
          "DXCM",
          "DXCM",
          "FANG",
          "FANG",
          "FANG",
          "FANG",
          "FANG",
          "DASH",
          "DASH",
          "DASH",
          "DASH",
          "DASH",
          "EA",
          "EA",
          "EA",
          "EA",
          "EA",
          "EXC",
          "EXC",
          "EXC",
          "EXC",
          "EXC",
          "FAST",
          "FAST",
          "FAST",
          "FAST",
          "FAST",
          "FTNT",
          "FTNT",
          "FTNT",
          "FTNT",
          "FTNT",
          "GEHC",
          "GEHC",
          "GEHC",
          "GEHC",
          "GEHC",
          "GILD",
          "GILD",
          "GILD",
          "GILD",
          "GILD",
          "GFS",
          "GFS",
          "GFS",
          "GFS",
          "GFS",
          "HON",
          "HON",
          "HON",
          "HON",
          "HON",
          "IDXX",
          "IDXX",
          "IDXX",
          "IDXX",
          "IDXX",
          "INTC",
          "INTC",
          "INTC",
          "INTC",
          "INTC",
          "INTU",
          "INTU",
          "INTU",
          "INTU",
          "INTU",
          "ISRG",
          "ISRG",
          "ISRG",
          "ISRG",
          "ISRG",
          "KDP",
          "KDP",
          "KDP",
          "KDP",
          "KDP",
          "KLAC",
          "KLAC",
          "KLAC",
          "KLAC",
          "KLAC",
          "KHC",
          "KHC",
          "KHC",
          "KHC",
          "KHC",
          "LRCX",
          "LRCX",
          "LRCX",
          "LRCX",
          "LRCX",
          "LIN",
          "LIN",
          "LIN",
          "LIN",
          "LIN",
          "LULU",
          "LULU",
          "LULU",
          "LULU",
          "LULU",
          "MAR",
          "MAR",
          "MAR",
          "MAR",
          "MAR",
          "MRVL",
          "MRVL",
          "MRVL",
          "MRVL",
          "MRVL",
          "MELI",
          "MELI",
          "MELI",
          "MELI",
          "MELI",
          "META",
          "META",
          "META",
          "META",
          "META",
          "MCHP",
          "MCHP",
          "MCHP",
          "MCHP",
          "MCHP",
          "MU",
          "MU",
          "MU",
          "MU",
          "MU",
          "MSFT",
          "MSFT",
          "MSFT",
          "MSFT",
          "MSFT",
          "MSTR",
          "MSTR",
          "MSTR",
          "MSTR",
          "MSTR",
          "MDLZ",
          "MDLZ",
          "MDLZ",
          "MDLZ",
          "MDLZ",
          "MDB",
          "MDB",
          "MDB",
          "MDB",
          "MDB",
          "MNST",
          "MNST",
          "MNST",
          "MNST",
          "MNST",
          "NFLX",
          "NFLX",
          "NFLX",
          "NFLX",
          "NFLX",
          "NVDA",
          "NVDA",
          "NVDA",
          "NVDA",
          "NVDA",
          "NXPI",
          "NXPI",
          "NXPI",
          "NXPI",
          "NXPI",
          "ORLY",
          "ORLY",
          "ORLY",
          "ORLY",
          "ORLY",
          "ODFL",
          "ODFL",
          "ODFL",
          "ODFL",
          "ODFL",
          "ON",
          "ON",
          "ON",
          "ON",
          "ON",
          "PCAR",
          "PCAR",
          "PCAR",
          "PCAR",
          "PCAR",
          "PLTR",
          "PLTR",
          "PLTR",
          "PLTR",
          "PLTR",
          "PANW",
          "PANW",
          "PANW",
          "PANW",
          "PANW",
          "PAYX",
          "PAYX",
          "PAYX",
          "PAYX",
          "PAYX",
          "PYPL",
          "PYPL",
          "PYPL",
          "PYPL",
          "PYPL",
          "PDD",
          "PDD",
          "PDD",
          "PDD",
          "PDD",
          "PEP",
          "PEP",
          "PEP",
          "PEP",
          "PEP",
          "QCOM",
          "QCOM",
          "QCOM",
          "QCOM",
          "QCOM",
          "REGN",
          "REGN",
          "REGN",
          "REGN",
          "REGN",
          "ROP",
          "ROP",
          "ROP",
          "ROP",
          "ROP",
          "ROST",
          "ROST",
          "ROST",
          "ROST",
          "ROST",
          "SBUX",
          "SBUX",
          "SBUX",
          "SBUX",
          "SBUX",
          "SNPS",
          "SNPS",
          "SNPS",
          "SNPS",
          "SNPS",
          "TTWO",
          "TTWO",
          "TTWO",
          "TTWO",
          "TTWO",
          "TMUS",
          "TMUS",
          "TMUS",
          "TMUS",
          "TMUS",
          "TSLA",
          "TSLA",
          "TSLA",
          "TSLA",
          "TSLA",
          "TXN",
          "TXN",
          "TXN",
          "TXN",
          "TXN",
          "TTD",
          "TTD",
          "TTD",
          "TTD",
          "TTD",
          "VRSK",
          "VRSK",
          "VRSK",
          "VRSK",
          "VRSK",
          "VRTX",
          "VRTX",
          "VRTX",
          "VRTX",
          "VRTX",
          "WBD",
          "WBD",
          "WBD",
          "WBD",
          "WBD",
          "WDAY",
          "WDAY",
          "WDAY",
          "WDAY",
          "WDAY",
          "XEL",
          "XEL",
          "XEL",
          "XEL",
          "XEL",
          "ZS",
          "ZS",
          "ZS",
          "ZS",
          "ZS"
         ],
         "legendgroup": "",
         "line": {
          "color": "rgba(255,255,255,0)"
         },
         "marker": {
          "color": "#636efa"
         },
         "name": "",
         "offsetgroup": "",
         "orientation": "v",
         "pointpos": 0,
         "showlegend": false,
         "type": "box",
         "x": [
          "debtToEquity",
          "debtToEquity",
          "debtToEquity",
          "debtToEquity",
          "debtToEquity",
          "debtToEquity",
          "debtToEquity",
          "debtToEquity",
          "debtToEquity",
          "debtToEquity",
          "debtToEquity",
          "debtToEquity",
          "debtToEquity",
          "debtToEquity",
          "debtToEquity",
          "debtToEquity",
          "debtToEquity",
          "debtToEquity",
          "debtToEquity",
          "debtToEquity",
          "debtToEquity",
          "debtToEquity",
          "debtToEquity",
          "debtToEquity",
          "debtToEquity",
          "debtToEquity",
          "debtToEquity",
          "debtToEquity",
          "debtToEquity",
          "debtToEquity",
          "debtToEquity",
          "debtToEquity",
          "debtToEquity",
          "debtToEquity",
          "debtToEquity",
          "debtToEquity",
          "debtToEquity",
          "debtToEquity",
          "debtToEquity",
          "debtToEquity",
          "debtToEquity",
          "debtToEquity",
          "debtToEquity",
          "debtToEquity",
          "debtToEquity",
          "debtToEquity",
          "debtToEquity",
          "debtToEquity",
          "debtToEquity",
          "debtToEquity",
          "debtToEquity",
          "debtToEquity",
          "debtToEquity",
          "debtToEquity",
          "debtToEquity",
          "debtToEquity",
          "debtToEquity",
          "debtToEquity",
          "debtToEquity",
          "debtToEquity",
          "debtToEquity",
          "debtToEquity",
          "debtToEquity",
          "debtToEquity",
          "debtToEquity",
          "debtToEquity",
          "debtToEquity",
          "debtToEquity",
          "debtToEquity",
          "debtToEquity",
          "debtToEquity",
          "debtToEquity",
          "debtToEquity",
          "debtToEquity",
          "debtToEquity",
          "debtToEquity",
          "debtToEquity",
          "debtToEquity",
          "debtToEquity",
          "debtToEquity",
          "debtToEquity",
          "debtToEquity",
          "debtToEquity",
          "debtToEquity",
          "debtToEquity",
          "debtToEquity",
          "debtToEquity",
          "debtToEquity",
          "debtToEquity",
          "debtToEquity",
          "debtToEquity",
          "debtToEquity",
          "debtToEquity",
          "debtToEquity",
          "debtToEquity",
          "debtToEquity",
          "debtToEquity",
          "debtToEquity",
          "debtToEquity",
          "debtToEquity",
          "debtToEquity",
          "debtToEquity",
          "debtToEquity",
          "debtToEquity",
          "debtToEquity",
          "debtToEquity",
          "debtToEquity",
          "debtToEquity",
          "debtToEquity",
          "debtToEquity",
          "debtToEquity",
          "debtToEquity",
          "debtToEquity",
          "debtToEquity",
          "debtToEquity",
          "debtToEquity",
          "debtToEquity",
          "debtToEquity",
          "debtToEquity",
          "debtToEquity",
          "debtToEquity",
          "debtToEquity",
          "debtToEquity",
          "debtToEquity",
          "debtToEquity",
          "debtToEquity",
          "debtToEquity",
          "debtToEquity",
          "debtToEquity",
          "debtToEquity",
          "debtToEquity",
          "debtToEquity",
          "debtToEquity",
          "debtToEquity",
          "debtToEquity",
          "debtToEquity",
          "debtToEquity",
          "debtToEquity",
          "debtToEquity",
          "debtToEquity",
          "debtToEquity",
          "debtToEquity",
          "debtToEquity",
          "debtToEquity",
          "debtToEquity",
          "debtToEquity",
          "debtToEquity",
          "debtToEquity",
          "debtToEquity",
          "debtToEquity",
          "debtToEquity",
          "debtToEquity",
          "debtToEquity",
          "debtToEquity",
          "debtToEquity",
          "debtToEquity",
          "debtToEquity",
          "debtToEquity",
          "debtToEquity",
          "debtToEquity",
          "debtToEquity",
          "debtToEquity",
          "debtToEquity",
          "debtToEquity",
          "debtToEquity",
          "debtToEquity",
          "debtToEquity",
          "debtToEquity",
          "debtToEquity",
          "debtToEquity",
          "debtToEquity",
          "debtToEquity",
          "debtToEquity",
          "debtToEquity",
          "debtToEquity",
          "debtToEquity",
          "debtToEquity",
          "debtToEquity",
          "debtToEquity",
          "debtToEquity",
          "debtToEquity",
          "debtToEquity",
          "debtToEquity",
          "debtToEquity",
          "debtToEquity",
          "debtToEquity",
          "debtToEquity",
          "debtToEquity",
          "debtToEquity",
          "debtToEquity",
          "debtToEquity",
          "debtToEquity",
          "debtToEquity",
          "debtToEquity",
          "debtToEquity",
          "debtToEquity",
          "debtToEquity",
          "debtToEquity",
          "debtToEquity",
          "debtToEquity",
          "debtToEquity",
          "debtToEquity",
          "debtToEquity",
          "debtToEquity",
          "debtToEquity",
          "debtToEquity",
          "debtToEquity",
          "debtToEquity",
          "debtToEquity",
          "debtToEquity",
          "debtToEquity",
          "debtToEquity",
          "debtToEquity",
          "debtToEquity",
          "debtToEquity",
          "debtToEquity",
          "debtToEquity",
          "debtToEquity",
          "debtToEquity",
          "debtToEquity",
          "debtToEquity",
          "debtToEquity",
          "debtToEquity",
          "debtToEquity",
          "debtToEquity",
          "debtToEquity",
          "debtToEquity",
          "debtToEquity",
          "debtToEquity",
          "debtToEquity",
          "debtToEquity",
          "debtToEquity",
          "debtToEquity",
          "debtToEquity",
          "debtToEquity",
          "debtToEquity",
          "debtToEquity",
          "debtToEquity",
          "debtToEquity",
          "debtToEquity",
          "debtToEquity",
          "debtToEquity",
          "debtToEquity",
          "debtToEquity",
          "debtToEquity",
          "debtToEquity",
          "debtToEquity",
          "debtToEquity",
          "debtToEquity",
          "debtToEquity",
          "debtToEquity",
          "debtToEquity",
          "debtToEquity",
          "debtToEquity",
          "debtToEquity",
          "debtToEquity",
          "debtToEquity",
          "debtToEquity",
          "debtToEquity",
          "debtToEquity",
          "debtToEquity",
          "debtToEquity",
          "debtToEquity",
          "debtToEquity",
          "debtToEquity",
          "debtToEquity",
          "debtToEquity",
          "debtToEquity",
          "debtToEquity",
          "debtToEquity",
          "debtToEquity",
          "debtToEquity",
          "debtToEquity",
          "debtToEquity",
          "debtToEquity",
          "debtToEquity",
          "debtToEquity",
          "debtToEquity",
          "debtToEquity",
          "debtToEquity",
          "debtToEquity",
          "debtToEquity",
          "debtToEquity",
          "debtToEquity",
          "debtToEquity",
          "debtToEquity",
          "debtToEquity",
          "debtToEquity",
          "debtToEquity",
          "debtToEquity",
          "debtToEquity",
          "debtToEquity",
          "debtToEquity",
          "debtToEquity",
          "debtToEquity",
          "debtToEquity",
          "debtToEquity",
          "debtToEquity",
          "debtToEquity",
          "debtToEquity",
          "debtToEquity",
          "debtToEquity",
          "debtToEquity",
          "debtToEquity",
          "debtToEquity",
          "debtToEquity",
          "debtToEquity",
          "debtToEquity",
          "debtToEquity",
          "debtToEquity",
          "debtToEquity",
          "debtToEquity",
          "debtToEquity",
          "debtToEquity",
          "debtToEquity",
          "debtToEquity",
          "debtToEquity",
          "debtToEquity",
          "debtToEquity",
          "debtToEquity",
          "debtToEquity",
          "debtToEquity",
          "debtToEquity",
          "debtToEquity",
          "debtToEquity",
          "debtToEquity",
          "debtToEquity",
          "debtToEquity",
          "debtToEquity",
          "debtToEquity",
          "debtToEquity",
          "debtToEquity",
          "debtToEquity",
          "debtToEquity",
          "debtToEquity",
          "debtToEquity",
          "debtToEquity",
          "debtToEquity",
          "debtToEquity",
          "debtToEquity",
          "debtToEquity",
          "debtToEquity",
          "debtToEquity",
          "debtToEquity",
          "debtToEquity",
          "debtToEquity",
          "debtToEquity",
          "debtToEquity",
          "debtToEquity",
          "debtToEquity",
          "debtToEquity",
          "debtToEquity",
          "debtToEquity",
          "debtToEquity",
          "debtToEquity",
          "debtToEquity",
          "debtToEquity",
          "debtToEquity",
          "debtToEquity",
          "debtToEquity",
          "debtToEquity",
          "debtToEquity",
          "debtToEquity",
          "debtToEquity",
          "debtToEquity",
          "debtToEquity",
          "debtToEquity",
          "debtToEquity",
          "debtToEquity",
          "debtToEquity",
          "debtToEquity",
          "debtToEquity",
          "debtToEquity",
          "debtToEquity",
          "debtToEquity",
          "debtToEquity",
          "debtToEquity",
          "debtToEquity",
          "debtToEquity",
          "debtToEquity",
          "debtToEquity",
          "debtToEquity",
          "debtToEquity",
          "debtToEquity",
          "debtToEquity",
          "debtToEquity",
          "debtToEquity",
          "debtToEquity",
          "debtToEquity",
          "debtToEquity",
          "debtToEquity",
          "debtToEquity",
          "debtToEquity",
          "debtToEquity",
          "debtToEquity",
          "debtToEquity",
          "debtToEquity",
          "debtToEquity",
          "debtToEquity",
          "debtToEquity",
          "debtToEquity",
          "debtToEquity",
          "debtToEquity",
          "debtToEquity",
          "debtToEquity",
          "debtToEquity",
          "debtToEquity",
          "debtToEquity",
          "debtToEquity",
          "debtToEquity",
          "debtToEquity",
          "debtToEquity",
          "debtToEquity",
          "debtToEquity",
          "debtToEquity",
          "debtToEquity",
          "debtToEquity",
          "debtToEquity",
          "debtToEquity",
          "debtToEquity",
          "debtToEquity",
          "debtToEquity",
          "debtToEquity",
          "debtToEquity",
          "debtToEquity",
          "debtToEquity",
          "debtToEquity",
          "debtToEquity",
          "debtToEquity",
          "debtToEquity",
          "debtToEquity",
          "debtToEquity",
          "debtToEquity",
          "debtToEquity",
          "debtToEquity",
          "debtToEquity",
          "debtToEquity",
          "debtToEquity",
          "debtToEquity",
          "debtToEquity",
          "debtToEquity",
          "debtToEquity",
          "debtToEquity",
          "debtToEquity",
          "debtToEquity",
          "debtToEquity",
          "debtToEquity",
          "debtToEquity",
          "debtToEquity",
          "debtToEquity",
          "debtToEquity",
          "debtToEquity",
          "debtToEquity",
          "debtToEquity",
          "debtToEquity",
          "debtToEquity",
          "debtToEquity",
          "debtToEquity",
          "debtToEquity",
          "debtToEquity",
          "debtToEquity",
          "debtToEquity",
          "debtToEquity",
          "debtToEquity",
          "debtToEquity",
          "debtToEquity",
          "debtToEquity",
          "debtToEquity",
          "debtToEquity",
          "debtToEquity",
          "debtToEquity",
          "debtToEquity",
          "debtToEquity",
          "debtToEquity",
          "debtToEquity",
          "debtToEquity",
          "debtToEquity",
          "debtToEquity",
          "debtToEquity",
          "debtToEquity",
          "debtToEquity",
          "debtToEquity",
          "debtToEquity",
          "debtToEquity",
          "debtToEquity",
          "debtToEquity",
          "debtToEquity",
          "debtToEquity",
          "debtToEquity",
          "debtToEquity",
          "debtToEquity",
          "debtToEquity",
          "debtToEquity",
          "debtToEquity",
          "debtToEquity",
          "debtToEquity",
          "debtToEquity",
          "debtToEquity",
          "debtToEquity",
          "debtToEquity",
          "debtToEquity",
          "debtToEquity",
          "debtToEquity"
         ],
         "x0": " ",
         "xaxis": "x6",
         "y": {
          "bdata": "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",
          "dtype": "f8"
         },
         "y0": " ",
         "yaxis": "y6"
        }
       ],
       "layout": {
        "height": 900,
        "template": {
         "data": {
          "bar": [
           {
            "error_x": {
             "color": "#2a3f5f"
            },
            "error_y": {
             "color": "#2a3f5f"
            },
            "marker": {
             "line": {
              "color": "#E5ECF6",
              "width": 0.5
             },
             "pattern": {
              "fillmode": "overlay",
              "size": 10,
              "solidity": 0.2
             }
            },
            "type": "bar"
           }
          ],
          "barpolar": [
           {
            "marker": {
             "line": {
              "color": "#E5ECF6",
              "width": 0.5
             },
             "pattern": {
              "fillmode": "overlay",
              "size": 10,
              "solidity": 0.2
             }
            },
            "type": "barpolar"
           }
          ],
          "carpet": [
           {
            "aaxis": {
             "endlinecolor": "#2a3f5f",
             "gridcolor": "white",
             "linecolor": "white",
             "minorgridcolor": "white",
             "startlinecolor": "#2a3f5f"
            },
            "baxis": {
             "endlinecolor": "#2a3f5f",
             "gridcolor": "white",
             "linecolor": "white",
             "minorgridcolor": "white",
             "startlinecolor": "#2a3f5f"
            },
            "type": "carpet"
           }
          ],
          "choropleth": [
           {
            "colorbar": {
             "outlinewidth": 0,
             "ticks": ""
            },
            "type": "choropleth"
           }
          ],
          "contour": [
           {
            "colorbar": {
             "outlinewidth": 0,
             "ticks": ""
            },
            "colorscale": [
             [
              0,
              "#0d0887"
             ],
             [
              0.1111111111111111,
              "#46039f"
             ],
             [
              0.2222222222222222,
              "#7201a8"
             ],
             [
              0.3333333333333333,
              "#9c179e"
             ],
             [
              0.4444444444444444,
              "#bd3786"
             ],
             [
              0.5555555555555556,
              "#d8576b"
             ],
             [
              0.6666666666666666,
              "#ed7953"
             ],
             [
              0.7777777777777778,
              "#fb9f3a"
             ],
             [
              0.8888888888888888,
              "#fdca26"
             ],
             [
              1,
              "#f0f921"
             ]
            ],
            "type": "contour"
           }
          ],
          "contourcarpet": [
           {
            "colorbar": {
             "outlinewidth": 0,
             "ticks": ""
            },
            "type": "contourcarpet"
           }
          ],
          "heatmap": [
           {
            "colorbar": {
             "outlinewidth": 0,
             "ticks": ""
            },
            "colorscale": [
             [
              0,
              "#0d0887"
             ],
             [
              0.1111111111111111,
              "#46039f"
             ],
             [
              0.2222222222222222,
              "#7201a8"
             ],
             [
              0.3333333333333333,
              "#9c179e"
             ],
             [
              0.4444444444444444,
              "#bd3786"
             ],
             [
              0.5555555555555556,
              "#d8576b"
             ],
             [
              0.6666666666666666,
              "#ed7953"
             ],
             [
              0.7777777777777778,
              "#fb9f3a"
             ],
             [
              0.8888888888888888,
              "#fdca26"
             ],
             [
              1,
              "#f0f921"
             ]
            ],
            "type": "heatmap"
           }
          ],
          "histogram": [
           {
            "marker": {
             "pattern": {
              "fillmode": "overlay",
              "size": 10,
              "solidity": 0.2
             }
            },
            "type": "histogram"
           }
          ],
          "histogram2d": [
           {
            "colorbar": {
             "outlinewidth": 0,
             "ticks": ""
            },
            "colorscale": [
             [
              0,
              "#0d0887"
             ],
             [
              0.1111111111111111,
              "#46039f"
             ],
             [
              0.2222222222222222,
              "#7201a8"
             ],
             [
              0.3333333333333333,
              "#9c179e"
             ],
             [
              0.4444444444444444,
              "#bd3786"
             ],
             [
              0.5555555555555556,
              "#d8576b"
             ],
             [
              0.6666666666666666,
              "#ed7953"
             ],
             [
              0.7777777777777778,
              "#fb9f3a"
             ],
             [
              0.8888888888888888,
              "#fdca26"
             ],
             [
              1,
              "#f0f921"
             ]
            ],
            "type": "histogram2d"
           }
          ],
          "histogram2dcontour": [
           {
            "colorbar": {
             "outlinewidth": 0,
             "ticks": ""
            },
            "colorscale": [
             [
              0,
              "#0d0887"
             ],
             [
              0.1111111111111111,
              "#46039f"
             ],
             [
              0.2222222222222222,
              "#7201a8"
             ],
             [
              0.3333333333333333,
              "#9c179e"
             ],
             [
              0.4444444444444444,
              "#bd3786"
             ],
             [
              0.5555555555555556,
              "#d8576b"
             ],
             [
              0.6666666666666666,
              "#ed7953"
             ],
             [
              0.7777777777777778,
              "#fb9f3a"
             ],
             [
              0.8888888888888888,
              "#fdca26"
             ],
             [
              1,
              "#f0f921"
             ]
            ],
            "type": "histogram2dcontour"
           }
          ],
          "mesh3d": [
           {
            "colorbar": {
             "outlinewidth": 0,
             "ticks": ""
            },
            "type": "mesh3d"
           }
          ],
          "parcoords": [
           {
            "line": {
             "colorbar": {
              "outlinewidth": 0,
              "ticks": ""
             }
            },
            "type": "parcoords"
           }
          ],
          "pie": [
           {
            "automargin": true,
            "type": "pie"
           }
          ],
          "scatter": [
           {
            "fillpattern": {
             "fillmode": "overlay",
             "size": 10,
             "solidity": 0.2
            },
            "type": "scatter"
           }
          ],
          "scatter3d": [
           {
            "line": {
             "colorbar": {
              "outlinewidth": 0,
              "ticks": ""
             }
            },
            "marker": {
             "colorbar": {
              "outlinewidth": 0,
              "ticks": ""
             }
            },
            "type": "scatter3d"
           }
          ],
          "scattercarpet": [
           {
            "marker": {
             "colorbar": {
              "outlinewidth": 0,
              "ticks": ""
             }
            },
            "type": "scattercarpet"
           }
          ],
          "scattergeo": [
           {
            "marker": {
             "colorbar": {
              "outlinewidth": 0,
              "ticks": ""
             }
            },
            "type": "scattergeo"
           }
          ],
          "scattergl": [
           {
            "marker": {
             "colorbar": {
              "outlinewidth": 0,
              "ticks": ""
             }
            },
            "type": "scattergl"
           }
          ],
          "scattermap": [
           {
            "marker": {
             "colorbar": {
              "outlinewidth": 0,
              "ticks": ""
             }
            },
            "type": "scattermap"
           }
          ],
          "scattermapbox": [
           {
            "marker": {
             "colorbar": {
              "outlinewidth": 0,
              "ticks": ""
             }
            },
            "type": "scattermapbox"
           }
          ],
          "scatterpolar": [
           {
            "marker": {
             "colorbar": {
              "outlinewidth": 0,
              "ticks": ""
             }
            },
            "type": "scatterpolar"
           }
          ],
          "scatterpolargl": [
           {
            "marker": {
             "colorbar": {
              "outlinewidth": 0,
              "ticks": ""
             }
            },
            "type": "scatterpolargl"
           }
          ],
          "scatterternary": [
           {
            "marker": {
             "colorbar": {
              "outlinewidth": 0,
              "ticks": ""
             }
            },
            "type": "scatterternary"
           }
          ],
          "surface": [
           {
            "colorbar": {
             "outlinewidth": 0,
             "ticks": ""
            },
            "colorscale": [
             [
              0,
              "#0d0887"
             ],
             [
              0.1111111111111111,
              "#46039f"
             ],
             [
              0.2222222222222222,
              "#7201a8"
             ],
             [
              0.3333333333333333,
              "#9c179e"
             ],
             [
              0.4444444444444444,
              "#bd3786"
             ],
             [
              0.5555555555555556,
              "#d8576b"
             ],
             [
              0.6666666666666666,
              "#ed7953"
             ],
             [
              0.7777777777777778,
              "#fb9f3a"
             ],
             [
              0.8888888888888888,
              "#fdca26"
             ],
             [
              1,
              "#f0f921"
             ]
            ],
            "type": "surface"
           }
          ],
          "table": [
           {
            "cells": {
             "fill": {
              "color": "#EBF0F8"
             },
             "line": {
              "color": "white"
             }
            },
            "header": {
             "fill": {
              "color": "#C8D4E3"
             },
             "line": {
              "color": "white"
             }
            },
            "type": "table"
           }
          ]
         },
         "layout": {
          "annotationdefaults": {
           "arrowcolor": "#2a3f5f",
           "arrowhead": 0,
           "arrowwidth": 1
          },
          "autotypenumbers": "strict",
          "coloraxis": {
           "colorbar": {
            "outlinewidth": 0,
            "ticks": ""
           }
          },
          "colorscale": {
           "diverging": [
            [
             0,
             "#8e0152"
            ],
            [
             0.1,
             "#c51b7d"
            ],
            [
             0.2,
             "#de77ae"
            ],
            [
             0.3,
             "#f1b6da"
            ],
            [
             0.4,
             "#fde0ef"
            ],
            [
             0.5,
             "#f7f7f7"
            ],
            [
             0.6,
             "#e6f5d0"
            ],
            [
             0.7,
             "#b8e186"
            ],
            [
             0.8,
             "#7fbc41"
            ],
            [
             0.9,
             "#4d9221"
            ],
            [
             1,
             "#276419"
            ]
           ],
           "sequential": [
            [
             0,
             "#0d0887"
            ],
            [
             0.1111111111111111,
             "#46039f"
            ],
            [
             0.2222222222222222,
             "#7201a8"
            ],
            [
             0.3333333333333333,
             "#9c179e"
            ],
            [
             0.4444444444444444,
             "#bd3786"
            ],
            [
             0.5555555555555556,
             "#d8576b"
            ],
            [
             0.6666666666666666,
             "#ed7953"
            ],
            [
             0.7777777777777778,
             "#fb9f3a"
            ],
            [
             0.8888888888888888,
             "#fdca26"
            ],
            [
             1,
             "#f0f921"
            ]
           ],
           "sequentialminus": [
            [
             0,
             "#0d0887"
            ],
            [
             0.1111111111111111,
             "#46039f"
            ],
            [
             0.2222222222222222,
             "#7201a8"
            ],
            [
             0.3333333333333333,
             "#9c179e"
            ],
            [
             0.4444444444444444,
             "#bd3786"
            ],
            [
             0.5555555555555556,
             "#d8576b"
            ],
            [
             0.6666666666666666,
             "#ed7953"
            ],
            [
             0.7777777777777778,
             "#fb9f3a"
            ],
            [
             0.8888888888888888,
             "#fdca26"
            ],
            [
             1,
             "#f0f921"
            ]
           ]
          },
          "colorway": [
           "#636efa",
           "#EF553B",
           "#00cc96",
           "#ab63fa",
           "#FFA15A",
           "#19d3f3",
           "#FF6692",
           "#B6E880",
           "#FF97FF",
           "#FECB52"
          ],
          "font": {
           "color": "#2a3f5f"
          },
          "geo": {
           "bgcolor": "white",
           "lakecolor": "white",
           "landcolor": "#E5ECF6",
           "showlakes": true,
           "showland": true,
           "subunitcolor": "white"
          },
          "hoverlabel": {
           "align": "left"
          },
          "hovermode": "closest",
          "mapbox": {
           "style": "light"
          },
          "paper_bgcolor": "white",
          "plot_bgcolor": "#E5ECF6",
          "polar": {
           "angularaxis": {
            "gridcolor": "white",
            "linecolor": "white",
            "ticks": ""
           },
           "bgcolor": "#E5ECF6",
           "radialaxis": {
            "gridcolor": "white",
            "linecolor": "white",
            "ticks": ""
           }
          },
          "scene": {
           "xaxis": {
            "backgroundcolor": "#E5ECF6",
            "gridcolor": "white",
            "gridwidth": 2,
            "linecolor": "white",
            "showbackground": true,
            "ticks": "",
            "zerolinecolor": "white"
           },
           "yaxis": {
            "backgroundcolor": "#E5ECF6",
            "gridcolor": "white",
            "gridwidth": 2,
            "linecolor": "white",
            "showbackground": true,
            "ticks": "",
            "zerolinecolor": "white"
           },
           "zaxis": {
            "backgroundcolor": "#E5ECF6",
            "gridcolor": "white",
            "gridwidth": 2,
            "linecolor": "white",
            "showbackground": true,
            "ticks": "",
            "zerolinecolor": "white"
           }
          },
          "shapedefaults": {
           "line": {
            "color": "#2a3f5f"
           }
          },
          "ternary": {
           "aaxis": {
            "gridcolor": "white",
            "linecolor": "white",
            "ticks": ""
           },
           "baxis": {
            "gridcolor": "white",
            "linecolor": "white",
            "ticks": ""
           },
           "bgcolor": "#E5ECF6",
           "caxis": {
            "gridcolor": "white",
            "linecolor": "white",
            "ticks": ""
           }
          },
          "title": {
           "x": 0.05
          },
          "xaxis": {
           "automargin": true,
           "gridcolor": "white",
           "linecolor": "white",
           "ticks": "",
           "title": {
            "standoff": 15
           },
           "zerolinecolor": "white",
           "zerolinewidth": 2
          },
          "yaxis": {
           "automargin": true,
           "gridcolor": "white",
           "linecolor": "white",
           "ticks": "",
           "title": {
            "standoff": 15
           },
           "zerolinecolor": "white",
           "zerolinewidth": 2
          }
         }
        },
        "title": {
         "text": "Distribution des variables"
        },
        "width": 1300,
        "xaxis": {
         "anchor": "y",
         "domain": [
          0,
          0.2888888888888889
         ]
        },
        "xaxis2": {
         "anchor": "y2",
         "domain": [
          0.35555555555555557,
          0.6444444444444445
         ]
        },
        "xaxis3": {
         "anchor": "y3",
         "domain": [
          0.7111111111111111,
          1
         ]
        },
        "xaxis4": {
         "anchor": "y4",
         "domain": [
          0,
          0.2888888888888889
         ]
        },
        "xaxis5": {
         "anchor": "y5",
         "domain": [
          0.35555555555555557,
          0.6444444444444445
         ]
        },
        "xaxis6": {
         "anchor": "y6",
         "domain": [
          0.7111111111111111,
          1
         ]
        },
        "yaxis": {
         "anchor": "x",
         "domain": [
          0.575,
          1
         ]
        },
        "yaxis2": {
         "anchor": "x2",
         "domain": [
          0.575,
          1
         ]
        },
        "yaxis3": {
         "anchor": "x3",
         "domain": [
          0.575,
          1
         ]
        },
        "yaxis4": {
         "anchor": "x4",
         "domain": [
          0,
          0.425
         ]
        },
        "yaxis5": {
         "anchor": "x5",
         "domain": [
          0,
          0.425
         ]
        },
        "yaxis6": {
         "anchor": "x6",
         "domain": [
          0,
          0.425
         ]
        }
       }
      }
     },
     "metadata": {},
     "output_type": "display_data"
    }
   ],
   "source": [
    "# On affiche la distribution des variables\n",
    "indicators = ['peRatio', 'pbRatio', 'marginProfit', 'roe', 'dividendYield', 'debtToEquity']\n",
    "\n",
    "fig = make_subplots(rows = 2, cols = 3)\n",
    "for i, indicator in enumerate(indicators):\n",
    "    box = px.strip(df[indicator], hover_name=df['symbol'])\n",
    "    \n",
    "    # Division integer et modulo pour indiquer les rows/cols dans la boucle     \n",
    "    fig.add_trace(box.data[0], row=i//3+1, col=(i%3)+1) \n",
    "\n",
    "fig.update_layout(title='Distribution des variables', \n",
    "                  width=1300, \n",
    "                  height=900)\\\n",
    "                  .show()"
   ]
  },
  {
   "cell_type": "markdown",
   "id": "c68d0496",
   "metadata": {
    "papermill": {
     "duration": 0.103999,
     "end_time": "2025-03-21T14:43:38.308160",
     "exception": false,
     "start_time": "2025-03-21T14:43:38.204161",
     "status": "completed"
    },
    "tags": []
   },
   "source": [
    "On constate ici que certaines valeurs extrêmes (non aberrantes car possibles) influencent grandement la distribution, et donc les **calculs de corrélation**.\n",
    "\n",
    "On fait abstraction ici de ces valeurs extrêmes"
   ]
  },
  {
   "cell_type": "code",
   "execution_count": 65,
   "id": "a4a0f87f",
   "metadata": {
    "execution": {
     "iopub.execute_input": "2025-03-21T14:43:38.523846Z",
     "iopub.status.busy": "2025-03-21T14:43:38.523442Z",
     "iopub.status.idle": "2025-03-21T14:43:38.533658Z",
     "shell.execute_reply": "2025-03-21T14:43:38.532662Z"
    },
    "papermill": {
     "duration": 0.119115,
     "end_time": "2025-03-21T14:43:38.535261",
     "exception": false,
     "start_time": "2025-03-21T14:43:38.416146",
     "status": "completed"
    },
    "tags": []
   },
   "outputs": [
    {
     "data": {
      "text/plain": [
       "array(['ADBE', 'AMD', 'ABNB', 'GOOG', 'AMZN', 'AEP', 'AMGN', 'ADI',\n",
       "       'ANSS', 'AAPL', 'AMAT', 'APP', 'ARM', 'ASML', 'AZN', 'TEAM',\n",
       "       'ADSK', 'ADP', 'AXON', 'BKR', 'BIIB', 'BKNG', 'AVGO', 'CDNS',\n",
       "       'CDW', 'CHTR', 'CTAS', 'CSCO', 'CTSH', 'CMCSA', 'CEG', 'CPRT',\n",
       "       'CSGP', 'COST', 'CRWD', 'CSX', 'DDOG', 'DXCM', 'FANG', 'DASH',\n",
       "       'EA', 'EXC', 'FAST', 'FTNT', 'GEHC', 'GILD', 'GFS', 'IDXX', 'INTC',\n",
       "       'INTU', 'ISRG', 'KDP', 'KLAC', 'KHC', 'LRCX', 'LIN', 'MAR', 'MRVL',\n",
       "       'META', 'MCHP', 'MU', 'MSFT', 'MDLZ', 'MNST', 'NFLX', 'NVDA',\n",
       "       'NXPI', 'ORLY', 'ODFL', 'ON', 'PCAR', 'PLTR', 'PANW', 'PAYX',\n",
       "       'PYPL', 'PEP', 'QCOM', 'REGN', 'ROP', 'ROST', 'SBUX', 'SNPS',\n",
       "       'TTWO', 'TMUS', 'TSLA', 'TXN', 'TTD', 'VRTX', 'WBD', 'WDAY', 'XEL',\n",
       "       'ZS'], dtype=object)"
      ]
     },
     "execution_count": 65,
     "metadata": {},
     "output_type": "execute_result"
    }
   ],
   "source": [
    "df_filtered = nsdq24.loc[(nsdq24['symbol'] != 'VRSK') & (nsdq24['symbol'] != 'HON') & (nsdq24['symbol'] != 'MSTR') & (nsdq24['symbol'] != 'MDB') & (nsdq24['symbol'] != 'MELI')]\n",
    "df_filtered.symbol.unique()"
   ]
  },
  {
   "cell_type": "code",
   "execution_count": 66,
   "id": "65628a61",
   "metadata": {
    "execution": {
     "iopub.execute_input": "2025-03-21T14:43:38.753927Z",
     "iopub.status.busy": "2025-03-21T14:43:38.753462Z",
     "iopub.status.idle": "2025-03-21T14:43:39.264641Z",
     "shell.execute_reply": "2025-03-21T14:43:39.263205Z"
    },
    "papermill": {
     "duration": 0.754984,
     "end_time": "2025-03-21T14:43:39.399096",
     "exception": false,
     "start_time": "2025-03-21T14:43:38.644112",
     "status": "completed"
    },
    "tags": []
   },
   "outputs": [
    {
     "data": {
      "application/vnd.plotly.v1+json": {
       "config": {
        "plotlyServerURL": "https://plot.ly"
       },
       "data": [
        {
         "alignmentgroup": "True",
         "boxpoints": "all",
         "fillcolor": "rgba(255,255,255,0)",
         "hoveron": "points",
         "hovertemplate": "<b>%{hovertext}</b><br><br>variable=%{x}<br>value=%{y}<extra></extra>",
         "hovertext": [
          "ADBE",
          "AMD",
          "ABNB",
          "GOOG",
          "AMZN",
          "AEP",
          "AMGN",
          "ADI",
          "ANSS",
          "AAPL",
          "AMAT",
          "APP",
          "ARM",
          "ASML",
          "AZN",
          "TEAM",
          "ADSK",
          "ADP",
          "AXON",
          "BKR",
          "BIIB",
          "BKNG",
          "AVGO",
          "CDNS",
          "CDW",
          "CHTR",
          "CTAS",
          "CSCO",
          "CTSH",
          "CMCSA",
          "CEG",
          "CPRT",
          "CSGP",
          "COST",
          "CRWD",
          "CSX",
          "DDOG",
          "DXCM",
          "FANG",
          "DASH",
          "EA",
          "EXC",
          "FAST",
          "FTNT",
          "GEHC",
          "GILD",
          "GFS",
          "IDXX",
          "INTC",
          "INTU",
          "ISRG",
          "KDP",
          "KLAC",
          "KHC",
          "LRCX",
          "LIN",
          "MAR",
          "MRVL",
          "META",
          "MCHP",
          "MU",
          "MSFT",
          "MDLZ",
          "MNST",
          "NFLX",
          "NVDA",
          "NXPI",
          "ORLY",
          "ODFL",
          "ON",
          "PCAR",
          "PLTR",
          "PANW",
          "PAYX",
          "PYPL",
          "PEP",
          "QCOM",
          "REGN",
          "ROP",
          "ROST",
          "SBUX",
          "SNPS",
          "TTWO",
          "TMUS",
          "TSLA",
          "TXN",
          "TTD",
          "VRTX",
          "WBD",
          "WDAY",
          "XEL",
          "ZS"
         ],
         "legendgroup": "",
         "line": {
          "color": "rgba(255,255,255,0)"
         },
         "marker": {
          "color": "#636efa"
         },
         "name": "",
         "offsetgroup": "",
         "orientation": "v",
         "pointpos": 0,
         "showlegend": false,
         "type": "box",
         "x": [
          "peRatio",
          "peRatio",
          "peRatio",
          "peRatio",
          "peRatio",
          "peRatio",
          "peRatio",
          "peRatio",
          "peRatio",
          "peRatio",
          "peRatio",
          "peRatio",
          "peRatio",
          "peRatio",
          "peRatio",
          "peRatio",
          "peRatio",
          "peRatio",
          "peRatio",
          "peRatio",
          "peRatio",
          "peRatio",
          "peRatio",
          "peRatio",
          "peRatio",
          "peRatio",
          "peRatio",
          "peRatio",
          "peRatio",
          "peRatio",
          "peRatio",
          "peRatio",
          "peRatio",
          "peRatio",
          "peRatio",
          "peRatio",
          "peRatio",
          "peRatio",
          "peRatio",
          "peRatio",
          "peRatio",
          "peRatio",
          "peRatio",
          "peRatio",
          "peRatio",
          "peRatio",
          "peRatio",
          "peRatio",
          "peRatio",
          "peRatio",
          "peRatio",
          "peRatio",
          "peRatio",
          "peRatio",
          "peRatio",
          "peRatio",
          "peRatio",
          "peRatio",
          "peRatio",
          "peRatio",
          "peRatio",
          "peRatio",
          "peRatio",
          "peRatio",
          "peRatio",
          "peRatio",
          "peRatio",
          "peRatio",
          "peRatio",
          "peRatio",
          "peRatio",
          "peRatio",
          "peRatio",
          "peRatio",
          "peRatio",
          "peRatio",
          "peRatio",
          "peRatio",
          "peRatio",
          "peRatio",
          "peRatio",
          "peRatio",
          "peRatio",
          "peRatio",
          "peRatio",
          "peRatio",
          "peRatio",
          "peRatio",
          "peRatio",
          "peRatio",
          "peRatio",
          "peRatio"
         ],
         "x0": " ",
         "xaxis": "x",
         "y": {
          "bdata": "pRUd9kC9REAmxrW2oOVeQFPvGH4cXT9A/8rulc6IN0BGs13c6WNDQM/BT7I+ejBAcjo8z/M8QUBSn8dmfhpRQOLvp6CtlElA0wsEisWkQkDRDCrgSFs1QBV7McgURFFAtsx7reyhekD6VT5SkqBBQEUlsA1Q7jxAv8b9Hnk2Y8C/d+t0n0lOQA2/F8JgyjlAV34QqbfZXUDorjJGu4crQBbDnzIWTStA/eQx6F9mPEBV1Zp/tIZgQKkp+UwaTVNAiHFfzwqbNUAriF2MaEsjQN61m/r97EVAc3sgqvTBMkAMiE2lIQcxQD3XkgSzHSJAut8SavHLMkDr2xgzU3FCQCDdu37GNmpA272wPdjiSkBHsPXRTmuIQC8VNQIWATJA/dAQxMhWcEB8bwiUYk5LQGo7Ifkx9iRA2OO0cEGKgUBR+EoY9Ec8QMsX5a+EsS5AWKk603DlQUAX53F/8bBEQAtgfNE84zFAsp3vpwb/bUDXYBtVVVlWwE5XS06jKUNA3tE8xoGHEsDv4bNqP5ZOQCapdkHD9FNAgCZnFhFdPkBv3/foXEhEQMuuXwW0DitAa2mDaZ80QkDnnHlLRr0+QLrR2d59sEBAzipZqyYoT8CKdcFnzso3QLyF3z/DgTlAkvJV66T3YEAgGtVoDUFDQLArv30EdzFArhCBsjijQUB1p5FFDflFQFOTLjXp6UlAmEQ3YyoiNUClD1TENfw8QJdDR+YlA0BAB/MiGy0iMUAUf7a/5kEqQP3agDlAA3dATOaDK3YbREA9PvQJipw5QIrMtyeRLTVAsb0OmqvqNUBSkqw0PbYyQBjXuuQbazFAm4tc/NT3QUAeXl/vuqk3QLcVIdknez1A0Wx15wpgQUBfFhy6FkIbwIoTwEyUwjZAkcdFDXvfZkBZidmFMdFBQJLh78W9WGJAdmIndmIzaMDMGcmU8lcCwKeEO2iaiktAruWG5pyiM0DyO8gxmg59wA==",
          "dtype": "f8"
         },
         "y0": " ",
         "yaxis": "y"
        },
        {
         "alignmentgroup": "True",
         "boxpoints": "all",
         "fillcolor": "rgba(255,255,255,0)",
         "hoveron": "points",
         "hovertemplate": "<b>%{hovertext}</b><br><br>variable=%{x}<br>value=%{y}<extra></extra>",
         "hovertext": [
          "ADBE",
          "AMD",
          "ABNB",
          "GOOG",
          "AMZN",
          "AEP",
          "AMGN",
          "ADI",
          "ANSS",
          "AAPL",
          "AMAT",
          "APP",
          "ARM",
          "ASML",
          "AZN",
          "TEAM",
          "ADSK",
          "ADP",
          "AXON",
          "BKR",
          "BIIB",
          "BKNG",
          "AVGO",
          "CDNS",
          "CDW",
          "CHTR",
          "CTAS",
          "CSCO",
          "CTSH",
          "CMCSA",
          "CEG",
          "CPRT",
          "CSGP",
          "COST",
          "CRWD",
          "CSX",
          "DDOG",
          "DXCM",
          "FANG",
          "DASH",
          "EA",
          "EXC",
          "FAST",
          "FTNT",
          "GEHC",
          "GILD",
          "GFS",
          "IDXX",
          "INTC",
          "INTU",
          "ISRG",
          "KDP",
          "KLAC",
          "KHC",
          "LRCX",
          "LIN",
          "MAR",
          "MRVL",
          "META",
          "MCHP",
          "MU",
          "MSFT",
          "MDLZ",
          "MNST",
          "NFLX",
          "NVDA",
          "NXPI",
          "ORLY",
          "ODFL",
          "ON",
          "PCAR",
          "PLTR",
          "PANW",
          "PAYX",
          "PYPL",
          "PEP",
          "QCOM",
          "REGN",
          "ROP",
          "ROST",
          "SBUX",
          "SNPS",
          "TTWO",
          "TMUS",
          "TSLA",
          "TXN",
          "TTD",
          "VRTX",
          "WBD",
          "WDAY",
          "XEL",
          "ZS"
         ],
         "legendgroup": "",
         "line": {
          "color": "rgba(255,255,255,0)"
         },
         "marker": {
          "color": "#636efa"
         },
         "name": "",
         "offsetgroup": "",
         "orientation": "v",
         "pointpos": 0,
         "showlegend": false,
         "type": "box",
         "x": [
          "pbRatio",
          "pbRatio",
          "pbRatio",
          "pbRatio",
          "pbRatio",
          "pbRatio",
          "pbRatio",
          "pbRatio",
          "pbRatio",
          "pbRatio",
          "pbRatio",
          "pbRatio",
          "pbRatio",
          "pbRatio",
          "pbRatio",
          "pbRatio",
          "pbRatio",
          "pbRatio",
          "pbRatio",
          "pbRatio",
          "pbRatio",
          "pbRatio",
          "pbRatio",
          "pbRatio",
          "pbRatio",
          "pbRatio",
          "pbRatio",
          "pbRatio",
          "pbRatio",
          "pbRatio",
          "pbRatio",
          "pbRatio",
          "pbRatio",
          "pbRatio",
          "pbRatio",
          "pbRatio",
          "pbRatio",
          "pbRatio",
          "pbRatio",
          "pbRatio",
          "pbRatio",
          "pbRatio",
          "pbRatio",
          "pbRatio",
          "pbRatio",
          "pbRatio",
          "pbRatio",
          "pbRatio",
          "pbRatio",
          "pbRatio",
          "pbRatio",
          "pbRatio",
          "pbRatio",
          "pbRatio",
          "pbRatio",
          "pbRatio",
          "pbRatio",
          "pbRatio",
          "pbRatio",
          "pbRatio",
          "pbRatio",
          "pbRatio",
          "pbRatio",
          "pbRatio",
          "pbRatio",
          "pbRatio",
          "pbRatio",
          "pbRatio",
          "pbRatio",
          "pbRatio",
          "pbRatio",
          "pbRatio",
          "pbRatio",
          "pbRatio",
          "pbRatio",
          "pbRatio",
          "pbRatio",
          "pbRatio",
          "pbRatio",
          "pbRatio",
          "pbRatio",
          "pbRatio",
          "pbRatio",
          "pbRatio",
          "pbRatio",
          "pbRatio",
          "pbRatio",
          "pbRatio",
          "pbRatio",
          "pbRatio",
          "pbRatio",
          "pbRatio"
         ],
         "x0": " ",
         "xaxis": "x2",
         "y": {
          "bdata": "kyPU/6tZMEA9gWHK8y4MQK0KUjHxviNAYH0ah/r9HEC3ekHXvhEgQM4glmvgCilA3k2Asz3+N0DfAPu/gHEJQN0IlF1OWxNARf4+CqyvTkCHWNgcLCIgQAEZW2tAB1lA11OreCqgOECcbNyx0eQsQDkBJ0zu9RNAtWBDHlRcRkCtD0ap45U9QM16r7VLRzVAbFUCwzRXM0ANZGRBHTwDQCoAmVp7U/U/HIDuvfLGRMB/onQmKAgnQGMzIp2bbzFAXnCrU6zLI0AdjVmYECsJQCJ3Y0TE7i9AAg+6aLUIEUDdCspRry0FQGuoPoJgbfs/fKfWq8ZoFUC67htEX7oaQBhqxCxwzg5A7C0rCxzFMEBxoJzt3ks+QILfV4sQ+xNAhrrbXWOyMUAS7YOCoO4tQMwgOWLPqu0/cvmRO/axIUAKp9W98CoTQH3F3YIQcPY/iOOQnbfGJkA6NVJOZSxIQBcWXb0+4hBA5sNX4+fVF0BpGsaxT5YBQEQYZi1wVDVAxyVMnOAB7D9rhowe2qkjQMiR4O07kCZA7iyvL3rg/D/tHi1biKFAQLsR6277Jug/2Mbt3DRSMEAMiFDm8jAVQOTguSJMK0jAcwMrEYtfD0DpdTJnUT8gQMb8lIzpOB1A56WHST64AkBKA0bndkgpQG8SJ5XT6wdAfvRu9rHeIUARyJ3ry/EuQKdhDjyi8UFArQIWNhEbF0BxqzD42TpJwLOWYNO65SFAsBK3SACCCEAXpT3XHvgIQNlYTHvAAUFAvCtIIwYNNEDVygz6tscmQANss7TONBFAIeBPKm5FJ0Aw5BwfTeQcQJKakYCM8gRAlRe6g2SbB0AAAAAAAAAAAKZpumoExS3A+Zks/R5/IUDnF4wRtQESQFs3OylOuBBACC9VCbPLMUD8Sa7Q8jskQKM14/4HkDNAKBu8qddGGUBJzkkfwFjoPxAEPdcL0yJABMIiNNcn/z+wXUn5fA41QA==",
          "dtype": "f8"
         },
         "y0": " ",
         "yaxis": "y2"
        },
        {
         "alignmentgroup": "True",
         "boxpoints": "all",
         "fillcolor": "rgba(255,255,255,0)",
         "hoveron": "points",
         "hovertemplate": "<b>%{hovertext}</b><br><br>variable=%{x}<br>value=%{y}<extra></extra>",
         "hovertext": [
          "ADBE",
          "AMD",
          "ABNB",
          "GOOG",
          "AMZN",
          "AEP",
          "AMGN",
          "ADI",
          "ANSS",
          "AAPL",
          "AMAT",
          "APP",
          "ARM",
          "ASML",
          "AZN",
          "TEAM",
          "ADSK",
          "ADP",
          "AXON",
          "BKR",
          "BIIB",
          "BKNG",
          "AVGO",
          "CDNS",
          "CDW",
          "CHTR",
          "CTAS",
          "CSCO",
          "CTSH",
          "CMCSA",
          "CEG",
          "CPRT",
          "CSGP",
          "COST",
          "CRWD",
          "CSX",
          "DDOG",
          "DXCM",
          "FANG",
          "DASH",
          "EA",
          "EXC",
          "FAST",
          "FTNT",
          "GEHC",
          "GILD",
          "GFS",
          "IDXX",
          "INTC",
          "INTU",
          "ISRG",
          "KDP",
          "KLAC",
          "KHC",
          "LRCX",
          "LIN",
          "MAR",
          "MRVL",
          "META",
          "MCHP",
          "MU",
          "MSFT",
          "MDLZ",
          "MNST",
          "NFLX",
          "NVDA",
          "NXPI",
          "ORLY",
          "ODFL",
          "ON",
          "PCAR",
          "PLTR",
          "PANW",
          "PAYX",
          "PYPL",
          "PEP",
          "QCOM",
          "REGN",
          "ROP",
          "ROST",
          "SBUX",
          "SNPS",
          "TTWO",
          "TMUS",
          "TSLA",
          "TXN",
          "TTD",
          "VRTX",
          "WBD",
          "WDAY",
          "XEL",
          "ZS"
         ],
         "legendgroup": "",
         "line": {
          "color": "rgba(255,255,255,0)"
         },
         "marker": {
          "color": "#636efa"
         },
         "name": "",
         "offsetgroup": "",
         "orientation": "v",
         "pointpos": 0,
         "showlegend": false,
         "type": "box",
         "x": [
          "marginProfit",
          "marginProfit",
          "marginProfit",
          "marginProfit",
          "marginProfit",
          "marginProfit",
          "marginProfit",
          "marginProfit",
          "marginProfit",
          "marginProfit",
          "marginProfit",
          "marginProfit",
          "marginProfit",
          "marginProfit",
          "marginProfit",
          "marginProfit",
          "marginProfit",
          "marginProfit",
          "marginProfit",
          "marginProfit",
          "marginProfit",
          "marginProfit",
          "marginProfit",
          "marginProfit",
          "marginProfit",
          "marginProfit",
          "marginProfit",
          "marginProfit",
          "marginProfit",
          "marginProfit",
          "marginProfit",
          "marginProfit",
          "marginProfit",
          "marginProfit",
          "marginProfit",
          "marginProfit",
          "marginProfit",
          "marginProfit",
          "marginProfit",
          "marginProfit",
          "marginProfit",
          "marginProfit",
          "marginProfit",
          "marginProfit",
          "marginProfit",
          "marginProfit",
          "marginProfit",
          "marginProfit",
          "marginProfit",
          "marginProfit",
          "marginProfit",
          "marginProfit",
          "marginProfit",
          "marginProfit",
          "marginProfit",
          "marginProfit",
          "marginProfit",
          "marginProfit",
          "marginProfit",
          "marginProfit",
          "marginProfit",
          "marginProfit",
          "marginProfit",
          "marginProfit",
          "marginProfit",
          "marginProfit",
          "marginProfit",
          "marginProfit",
          "marginProfit",
          "marginProfit",
          "marginProfit",
          "marginProfit",
          "marginProfit",
          "marginProfit",
          "marginProfit",
          "marginProfit",
          "marginProfit",
          "marginProfit",
          "marginProfit",
          "marginProfit",
          "marginProfit",
          "marginProfit",
          "marginProfit",
          "marginProfit",
          "marginProfit",
          "marginProfit",
          "marginProfit",
          "marginProfit",
          "marginProfit",
          "marginProfit",
          "marginProfit",
          "marginProfit"
         ],
         "x0": " ",
         "xaxis": "x3",
         "y": {
          "bdata": "l2laVf6L0D9JeYi+0UqwP9wFz7mth84/lqhv82xO0j91QFy2Z8a3PzJ6xwL/QcM/opv6S3RTvz9f2+IQEjTGP0bRHmbY9Mw/ozrhreauzj+e6ZSo5+bQP0T1MJw3eNU/5ctRl+k6uD9vW1d0QSXRP1lqSdUtp8A/M/2wV5umsb9RUVFRUVHFP4G4v9uLAsk/t4t28Ycsxz/dMisIaGe7P/utbmGKl8U/0guo0y+3zz9L09Sm4UK9P69TP+3eG80/gKxZ5IdHqj92qAg9X5+3P/LVQnBC9sQ/EFBPKUKNyD9/y71pNw69P6Ed1UwrwMA/tW5DfHVcxD/138tL3ZbUP3h8RPQi9Kk/myohEqylnT9VYdJomO+dPyw1vwcmjM4/FtHCiR6GsT+ZJJltm0nCP5tU6+VsYdM//2Py7H5+hz8sMl+aOIzFP9Q2G8z6WLs/DjOuS2eEwz/fF10h7cDSP5TjwhCN77k/JD4uYw4YkT832yolyhmkv9FrR3SuKM0/8sOslA2b1r+ZMhGCBkrHP39RYy0ozNE/bK8fDN8HuD/3VMoOrQPSP46edLPHLbs/m0n6pXxv0D/DaRHH23XJPzZx45MdObg/iUl3wECxxb+1ldJC8ULYP616RQ60+M8/KChrN9y5nz8/DbrPBgPXP5Izi0E+MsA/8no6BYzHyT92huIwYJfMP1Yz9Ct6Q98/XuUvTFl4yT+nf9RHqUjCP3P0Qy3WG8o/UMysBfJszD/fCL+et+DAP3Orc9BKpcQ/3ESCNdeM1D/J+c5DDX/UPzXMvI6jscA/vvIlWLaxuj+wa4Xv1ajQP6iZEaeN4tM/nmE7WRsszD9QnZSVxFS5Pxg2dLEpnbo/ztND9/6j1z9sEaeMmmXmv7h1hwiT1ME/lxmhpguVsj+IErT296LTP6p/gOpilMQ/eqpP2l/iqL+SDD2352HSv5R1DhIAWsg/JtXJG81vwj9Oqk/6Q0Kbvw==",
          "dtype": "f8"
         },
         "y0": " ",
         "yaxis": "y3"
        },
        {
         "alignmentgroup": "True",
         "boxpoints": "all",
         "fillcolor": "rgba(255,255,255,0)",
         "hoveron": "points",
         "hovertemplate": "<b>%{hovertext}</b><br><br>variable=%{x}<br>value=%{y}<extra></extra>",
         "hovertext": [
          "ADBE",
          "AMD",
          "ABNB",
          "GOOG",
          "AMZN",
          "AEP",
          "AMGN",
          "ADI",
          "ANSS",
          "AAPL",
          "AMAT",
          "APP",
          "ARM",
          "ASML",
          "AZN",
          "TEAM",
          "ADSK",
          "ADP",
          "AXON",
          "BKR",
          "BIIB",
          "BKNG",
          "AVGO",
          "CDNS",
          "CDW",
          "CHTR",
          "CTAS",
          "CSCO",
          "CTSH",
          "CMCSA",
          "CEG",
          "CPRT",
          "CSGP",
          "COST",
          "CRWD",
          "CSX",
          "DDOG",
          "DXCM",
          "FANG",
          "DASH",
          "EA",
          "EXC",
          "FAST",
          "FTNT",
          "GEHC",
          "GILD",
          "GFS",
          "IDXX",
          "INTC",
          "INTU",
          "ISRG",
          "KDP",
          "KLAC",
          "KHC",
          "LRCX",
          "LIN",
          "MAR",
          "MRVL",
          "META",
          "MCHP",
          "MU",
          "MSFT",
          "MDLZ",
          "MNST",
          "NFLX",
          "NVDA",
          "NXPI",
          "ORLY",
          "ODFL",
          "ON",
          "PCAR",
          "PLTR",
          "PANW",
          "PAYX",
          "PYPL",
          "PEP",
          "QCOM",
          "REGN",
          "ROP",
          "ROST",
          "SBUX",
          "SNPS",
          "TTWO",
          "TMUS",
          "TSLA",
          "TXN",
          "TTD",
          "VRTX",
          "WBD",
          "WDAY",
          "XEL",
          "ZS"
         ],
         "legendgroup": "",
         "line": {
          "color": "rgba(255,255,255,0)"
         },
         "marker": {
          "color": "#636efa"
         },
         "name": "",
         "offsetgroup": "",
         "orientation": "v",
         "pointpos": 0,
         "showlegend": false,
         "type": "box",
         "x": [
          "roe",
          "roe",
          "roe",
          "roe",
          "roe",
          "roe",
          "roe",
          "roe",
          "roe",
          "roe",
          "roe",
          "roe",
          "roe",
          "roe",
          "roe",
          "roe",
          "roe",
          "roe",
          "roe",
          "roe",
          "roe",
          "roe",
          "roe",
          "roe",
          "roe",
          "roe",
          "roe",
          "roe",
          "roe",
          "roe",
          "roe",
          "roe",
          "roe",
          "roe",
          "roe",
          "roe",
          "roe",
          "roe",
          "roe",
          "roe",
          "roe",
          "roe",
          "roe",
          "roe",
          "roe",
          "roe",
          "roe",
          "roe",
          "roe",
          "roe",
          "roe",
          "roe",
          "roe",
          "roe",
          "roe",
          "roe",
          "roe",
          "roe",
          "roe",
          "roe",
          "roe",
          "roe",
          "roe",
          "roe",
          "roe",
          "roe",
          "roe",
          "roe",
          "roe",
          "roe",
          "roe",
          "roe",
          "roe",
          "roe",
          "roe",
          "roe",
          "roe",
          "roe",
          "roe",
          "roe",
          "roe",
          "roe",
          "roe",
          "roe",
          "roe",
          "roe",
          "roe",
          "roe",
          "roe",
          "roe",
          "roe",
          "roe"
         ],
         "x0": " ",
         "xaxis": "x4",
         "y": {
          "bdata": "ttUp11k62T8qnhhVhjCdP1KSIjx+JdQ/FFfVEOC10z92f6hg9YTKP/OUS9QWUeg/524W6RVF5j+BuSz6Qs2nPxui5LbJNrg/BiGF+L9V+j9HsATEgyzYPzBc9oJ4Mfc/T/GA+7KWrT9AdJcM/jnaP6S/lY8CFMY/6f7LbBmf0r+8VObFGkLfPySDQHfQZuo/3pSwe767xD9/1G21l1vGP/rX/U8h/7g/zbGetTNp979UecaLbEy2Pw+O799Y6Mw/VAS+z7RR3T+Q2Yvf597UP357ogNrTdc/dNZeuD4PzT8ENfMJaubDPzYYlINBOcg/FOShK1I50j80B+L2HjDHP1uChFqUzZI/YSl5zq710z8YoZ/10tmjP2D0JyCnwdE/DeJuT2RUsT+XV8MK5onRP8+8bUIYpbY/d3RgTDgkkD+gENizMrDFPzCzknWUZLc/xCY00+dc1D+QMQLAVrHyP16XQTpBNM4/7UlVbIZtmT+oQzQPkC6Zv6vHdhg8z+E/e6z0WykvyL+LLcykaZLEP7y5QNImF8I/KGUwA+Zurj/jE57bHT3qPz3froJskKw/zvxm+g2w3D/5s8Mwbg/GPyxRuxK1K/e/Ni+GEnIcsL9k55ndMNrVP4j+hn6jVNI/BtyR6gWnkT9acIPnjwLVP+K2DvEs6sU/jLX/p/M10D+00DhNbIjWP6yOuDyHKOY/MstZ9UF+0T8fBJERptr7v1PFvQw24tE/1iWrnu7ixj8/JNNYGG7OP6/mNiYNprc/lffS5QXp3z/B6lwmYHbcP3zsE4us/8k/KeIu2CX94D89RLIEX7TYP4+5azzfPcM//m8ljnEFtT8AAAAAAAAAAFSR4hMWKOC/EWZ9ZZ4c0D+AbEYonSPlv4fiZOn7gcc/C8fXv5DluD/Yn4oJpivSPw+kzV15D8E/1knHjR22oL8G/oqQdjzVv5ywPDIv38U/DTD3TzdjuT/mHQ3NcjCnvw==",
          "dtype": "f8"
         },
         "y0": " ",
         "yaxis": "y4"
        },
        {
         "alignmentgroup": "True",
         "boxpoints": "all",
         "fillcolor": "rgba(255,255,255,0)",
         "hoveron": "points",
         "hovertemplate": "<b>%{hovertext}</b><br><br>variable=%{x}<br>value=%{y}<extra></extra>",
         "hovertext": [
          "ADBE",
          "AMD",
          "ABNB",
          "GOOG",
          "AMZN",
          "AEP",
          "AMGN",
          "ADI",
          "ANSS",
          "AAPL",
          "AMAT",
          "APP",
          "ARM",
          "ASML",
          "AZN",
          "TEAM",
          "ADSK",
          "ADP",
          "AXON",
          "BKR",
          "BIIB",
          "BKNG",
          "AVGO",
          "CDNS",
          "CDW",
          "CHTR",
          "CTAS",
          "CSCO",
          "CTSH",
          "CMCSA",
          "CEG",
          "CPRT",
          "CSGP",
          "COST",
          "CRWD",
          "CSX",
          "DDOG",
          "DXCM",
          "FANG",
          "DASH",
          "EA",
          "EXC",
          "FAST",
          "FTNT",
          "GEHC",
          "GILD",
          "GFS",
          "IDXX",
          "INTC",
          "INTU",
          "ISRG",
          "KDP",
          "KLAC",
          "KHC",
          "LRCX",
          "LIN",
          "MAR",
          "MRVL",
          "META",
          "MCHP",
          "MU",
          "MSFT",
          "MDLZ",
          "MNST",
          "NFLX",
          "NVDA",
          "NXPI",
          "ORLY",
          "ODFL",
          "ON",
          "PCAR",
          "PLTR",
          "PANW",
          "PAYX",
          "PYPL",
          "PEP",
          "QCOM",
          "REGN",
          "ROP",
          "ROST",
          "SBUX",
          "SNPS",
          "TTWO",
          "TMUS",
          "TSLA",
          "TXN",
          "TTD",
          "VRTX",
          "WBD",
          "WDAY",
          "XEL",
          "ZS"
         ],
         "legendgroup": "",
         "line": {
          "color": "rgba(255,255,255,0)"
         },
         "marker": {
          "color": "#636efa"
         },
         "name": "",
         "offsetgroup": "",
         "orientation": "v",
         "pointpos": 0,
         "showlegend": false,
         "type": "box",
         "x": [
          "dividendYield",
          "dividendYield",
          "dividendYield",
          "dividendYield",
          "dividendYield",
          "dividendYield",
          "dividendYield",
          "dividendYield",
          "dividendYield",
          "dividendYield",
          "dividendYield",
          "dividendYield",
          "dividendYield",
          "dividendYield",
          "dividendYield",
          "dividendYield",
          "dividendYield",
          "dividendYield",
          "dividendYield",
          "dividendYield",
          "dividendYield",
          "dividendYield",
          "dividendYield",
          "dividendYield",
          "dividendYield",
          "dividendYield",
          "dividendYield",
          "dividendYield",
          "dividendYield",
          "dividendYield",
          "dividendYield",
          "dividendYield",
          "dividendYield",
          "dividendYield",
          "dividendYield",
          "dividendYield",
          "dividendYield",
          "dividendYield",
          "dividendYield",
          "dividendYield",
          "dividendYield",
          "dividendYield",
          "dividendYield",
          "dividendYield",
          "dividendYield",
          "dividendYield",
          "dividendYield",
          "dividendYield",
          "dividendYield",
          "dividendYield",
          "dividendYield",
          "dividendYield",
          "dividendYield",
          "dividendYield",
          "dividendYield",
          "dividendYield",
          "dividendYield",
          "dividendYield",
          "dividendYield",
          "dividendYield",
          "dividendYield",
          "dividendYield",
          "dividendYield",
          "dividendYield",
          "dividendYield",
          "dividendYield",
          "dividendYield",
          "dividendYield",
          "dividendYield",
          "dividendYield",
          "dividendYield",
          "dividendYield",
          "dividendYield",
          "dividendYield",
          "dividendYield",
          "dividendYield",
          "dividendYield",
          "dividendYield",
          "dividendYield",
          "dividendYield",
          "dividendYield",
          "dividendYield",
          "dividendYield",
          "dividendYield",
          "dividendYield",
          "dividendYield",
          "dividendYield",
          "dividendYield",
          "dividendYield",
          "dividendYield",
          "dividendYield",
          "dividendYield"
         ],
         "x0": " ",
         "xaxis": "x5",
         "y": {
          "bdata": "AAAAAAAAAAAAAAAAAAAAAAAAAAAAAAAAGqm0z3CZaT8AAAAAAAAAADzS7FI68KM/AAAAAAAAAAAAAAAAAAAAAAAAAAAAAAAAGlMFVVLacT9CqjMDlNp/PwAAAAAAAAAAAAAAAAAAAACAQbGFytGCP19W9nMfSpc/AAAAAAAAAAAAAAAAAAAAAEWJOFIfGpc/AAAAAAAAAABmjoYMXuCUPwAAAAAAAAAAmwQKfUzJfD+n4P0j6MmJPwAAAAAAAAAAXw8lbxs1jT8AAAAAAAAAAAhf/FbZjX8/V9VjRpnioD9tyym0qRuQP/JWQqofzqA//XNEVbzOeT8AAAAAAAAAAAAAAAAAAAAAAeJZNthelz8AAAAAAAAAAFbrQu6PfI4/AAAAAAAAAAAAAAAAAAAAAF1I29H+F6c/AAAAAAAAAACHYopdwlJ3PzwyRapKDJU/X2hzry42lj8AAAAAAAAAAJ3EnXjcRlk/yJ5H9mBqoT8AAAAAAAAAAAAAAAAAAAAAekwJY3XYkj9Se9dnrl13P/RUaFJ7nwY/0ftcBqfxmz8dsAd1BkN8P/+ySc7poao/VJXAXc7xfT/cxTfztfGKPzhiZgBynoE/u1ojnWYgbT/gd2DDKAFsP+3GeiKZMJM/fwukWrPlcz+5qB7/OUZ6PwwhPDV63p0/AAAAAAAAAAAAAAAAAAAAAHmF/EKYyDA/QIrONbYJlD8AAAAAAAAAALY+QtM3HXg/AAAAAAAAAABKpahOjHGlPwAAAAAAAAAAAAAAAAAAAADW6XOzKxyfPwAAAAAAAAAA/w67vsKhoT+Uqoqn++STPwAAAAAAAAAAiz1VyYWudz+xG3ovNDuEP9vh8iK/35c/AAAAAAAAAAAAAAAAAAAAANrB5YgFMIo/AAAAAAAAAAA08D37XracPwAAAAAAAAAAAAAAAAAAAAAAAAAAAAAAAAAAAAAAAAAA3Xlxl9Wmnz8AAAAAAAAAAA==",
          "dtype": "f8"
         },
         "y0": " ",
         "yaxis": "y5"
        },
        {
         "alignmentgroup": "True",
         "boxpoints": "all",
         "fillcolor": "rgba(255,255,255,0)",
         "hoveron": "points",
         "hovertemplate": "<b>%{hovertext}</b><br><br>variable=%{x}<br>value=%{y}<extra></extra>",
         "hovertext": [
          "ADBE",
          "AMD",
          "ABNB",
          "GOOG",
          "AMZN",
          "AEP",
          "AMGN",
          "ADI",
          "ANSS",
          "AAPL",
          "AMAT",
          "APP",
          "ARM",
          "ASML",
          "AZN",
          "TEAM",
          "ADSK",
          "ADP",
          "AXON",
          "BKR",
          "BIIB",
          "BKNG",
          "AVGO",
          "CDNS",
          "CDW",
          "CHTR",
          "CTAS",
          "CSCO",
          "CTSH",
          "CMCSA",
          "CEG",
          "CPRT",
          "CSGP",
          "COST",
          "CRWD",
          "CSX",
          "DDOG",
          "DXCM",
          "FANG",
          "DASH",
          "EA",
          "EXC",
          "FAST",
          "FTNT",
          "GEHC",
          "GILD",
          "GFS",
          "IDXX",
          "INTC",
          "INTU",
          "ISRG",
          "KDP",
          "KLAC",
          "KHC",
          "LRCX",
          "LIN",
          "MAR",
          "MRVL",
          "META",
          "MCHP",
          "MU",
          "MSFT",
          "MDLZ",
          "MNST",
          "NFLX",
          "NVDA",
          "NXPI",
          "ORLY",
          "ODFL",
          "ON",
          "PCAR",
          "PLTR",
          "PANW",
          "PAYX",
          "PYPL",
          "PEP",
          "QCOM",
          "REGN",
          "ROP",
          "ROST",
          "SBUX",
          "SNPS",
          "TTWO",
          "TMUS",
          "TSLA",
          "TXN",
          "TTD",
          "VRTX",
          "WBD",
          "WDAY",
          "XEL",
          "ZS"
         ],
         "legendgroup": "",
         "line": {
          "color": "rgba(255,255,255,0)"
         },
         "marker": {
          "color": "#636efa"
         },
         "name": "",
         "offsetgroup": "",
         "orientation": "v",
         "pointpos": 0,
         "showlegend": false,
         "type": "box",
         "x": [
          "debtToEquity",
          "debtToEquity",
          "debtToEquity",
          "debtToEquity",
          "debtToEquity",
          "debtToEquity",
          "debtToEquity",
          "debtToEquity",
          "debtToEquity",
          "debtToEquity",
          "debtToEquity",
          "debtToEquity",
          "debtToEquity",
          "debtToEquity",
          "debtToEquity",
          "debtToEquity",
          "debtToEquity",
          "debtToEquity",
          "debtToEquity",
          "debtToEquity",
          "debtToEquity",
          "debtToEquity",
          "debtToEquity",
          "debtToEquity",
          "debtToEquity",
          "debtToEquity",
          "debtToEquity",
          "debtToEquity",
          "debtToEquity",
          "debtToEquity",
          "debtToEquity",
          "debtToEquity",
          "debtToEquity",
          "debtToEquity",
          "debtToEquity",
          "debtToEquity",
          "debtToEquity",
          "debtToEquity",
          "debtToEquity",
          "debtToEquity",
          "debtToEquity",
          "debtToEquity",
          "debtToEquity",
          "debtToEquity",
          "debtToEquity",
          "debtToEquity",
          "debtToEquity",
          "debtToEquity",
          "debtToEquity",
          "debtToEquity",
          "debtToEquity",
          "debtToEquity",
          "debtToEquity",
          "debtToEquity",
          "debtToEquity",
          "debtToEquity",
          "debtToEquity",
          "debtToEquity",
          "debtToEquity",
          "debtToEquity",
          "debtToEquity",
          "debtToEquity",
          "debtToEquity",
          "debtToEquity",
          "debtToEquity",
          "debtToEquity",
          "debtToEquity",
          "debtToEquity",
          "debtToEquity",
          "debtToEquity",
          "debtToEquity",
          "debtToEquity",
          "debtToEquity",
          "debtToEquity",
          "debtToEquity",
          "debtToEquity",
          "debtToEquity",
          "debtToEquity",
          "debtToEquity",
          "debtToEquity",
          "debtToEquity",
          "debtToEquity",
          "debtToEquity",
          "debtToEquity",
          "debtToEquity",
          "debtToEquity",
          "debtToEquity",
          "debtToEquity",
          "debtToEquity",
          "debtToEquity",
          "debtToEquity",
          "debtToEquity"
         ],
         "x0": " ",
         "xaxis": "x6",
         "y": {
          "bdata": "uPlp2X162z+wwGPlrHeBP94SQ28CdNE/YOPxf9rGsT8uVLQQnkvdP+ISIKbBcCdAnLfFEchzJEANs4X4nJbLP21Xq9uGsME/ncJDvQz1/T9GCGpS8xTVP/zkUPQ9GwpAJUfAuWLapT8Epe04knnJP+gMnIl+oOc/QMdV+4Za8z969no7b6b2P06svH2wEuo/A62h9LbX0z+W5kIJCZrWP0C4Hz2dYtk/T80CKfv+EMA2N+JucfLvPzbSCJhV9OA/TARDZ+JfBECZZBE/ABsYQGxOLwq5x+M/NItST8vL5T/E8yWN50u6PwJgA/Xch/I/7bIxDgVy5D+fvxKAxiiQP5ebYOm8fJU/gSKY52Fp1j+dmX1kVgbWP87t50cFWrY/OhL4Hry35T+LkTe2dT7zPwDfFQEcbJg/J1EinsSVsT9+4jGIG5jQPx72dlIgEd8/Ij0B200uwT9xRS7ivUzlP7Og26dRw8Y/n2gSiQmYxD838LDfDX3KP/TlrgjxT8U/lagGRwcf4D/5eH4bEczWPwAAAAAAAAAAn+80aRfN5j/kqw4edTIAQFVQFeGzANk/k5vyWpKs4j9bBCqHNCriP1WnYnUqliLAKypo6gr+0j8REzEREzHRP8aWmip8/uw/ag/mdv3c0z+6/DMTeQDQPw5piWpG1OU/nMw0uYcRsD/NjJx3FyfkPxMZN9+/dtA/pA8R5FXp8j/zR/NxQBwXwOyvZW2L8Yw/Y9wUAB9/2D8lLSl1vg3tP5EbI7Tgeqg/VrmM3pJ10T9KoNQjzNHNP1aSqSyW994/P2OeFnbuA0Dn6Q1WwNLhP5IfRBvzlbc/CVOhp4/b2T8AAAAAAAAAALrBB2dNtgvAojE/2zd9sz/8wvIUzvPjP6i6IxPYMPw/OCfN8QvWvD/wdlUjRb3pP0PlTWMNGrs/5rS7KhVLuz/TEUzGF6u0P54b7Gm4Gdo/tve74UEw+D8XxOsPpxfvPw==",
          "dtype": "f8"
         },
         "y0": " ",
         "yaxis": "y6"
        }
       ],
       "layout": {
        "height": 900,
        "template": {
         "data": {
          "bar": [
           {
            "error_x": {
             "color": "#2a3f5f"
            },
            "error_y": {
             "color": "#2a3f5f"
            },
            "marker": {
             "line": {
              "color": "#E5ECF6",
              "width": 0.5
             },
             "pattern": {
              "fillmode": "overlay",
              "size": 10,
              "solidity": 0.2
             }
            },
            "type": "bar"
           }
          ],
          "barpolar": [
           {
            "marker": {
             "line": {
              "color": "#E5ECF6",
              "width": 0.5
             },
             "pattern": {
              "fillmode": "overlay",
              "size": 10,
              "solidity": 0.2
             }
            },
            "type": "barpolar"
           }
          ],
          "carpet": [
           {
            "aaxis": {
             "endlinecolor": "#2a3f5f",
             "gridcolor": "white",
             "linecolor": "white",
             "minorgridcolor": "white",
             "startlinecolor": "#2a3f5f"
            },
            "baxis": {
             "endlinecolor": "#2a3f5f",
             "gridcolor": "white",
             "linecolor": "white",
             "minorgridcolor": "white",
             "startlinecolor": "#2a3f5f"
            },
            "type": "carpet"
           }
          ],
          "choropleth": [
           {
            "colorbar": {
             "outlinewidth": 0,
             "ticks": ""
            },
            "type": "choropleth"
           }
          ],
          "contour": [
           {
            "colorbar": {
             "outlinewidth": 0,
             "ticks": ""
            },
            "colorscale": [
             [
              0,
              "#0d0887"
             ],
             [
              0.1111111111111111,
              "#46039f"
             ],
             [
              0.2222222222222222,
              "#7201a8"
             ],
             [
              0.3333333333333333,
              "#9c179e"
             ],
             [
              0.4444444444444444,
              "#bd3786"
             ],
             [
              0.5555555555555556,
              "#d8576b"
             ],
             [
              0.6666666666666666,
              "#ed7953"
             ],
             [
              0.7777777777777778,
              "#fb9f3a"
             ],
             [
              0.8888888888888888,
              "#fdca26"
             ],
             [
              1,
              "#f0f921"
             ]
            ],
            "type": "contour"
           }
          ],
          "contourcarpet": [
           {
            "colorbar": {
             "outlinewidth": 0,
             "ticks": ""
            },
            "type": "contourcarpet"
           }
          ],
          "heatmap": [
           {
            "colorbar": {
             "outlinewidth": 0,
             "ticks": ""
            },
            "colorscale": [
             [
              0,
              "#0d0887"
             ],
             [
              0.1111111111111111,
              "#46039f"
             ],
             [
              0.2222222222222222,
              "#7201a8"
             ],
             [
              0.3333333333333333,
              "#9c179e"
             ],
             [
              0.4444444444444444,
              "#bd3786"
             ],
             [
              0.5555555555555556,
              "#d8576b"
             ],
             [
              0.6666666666666666,
              "#ed7953"
             ],
             [
              0.7777777777777778,
              "#fb9f3a"
             ],
             [
              0.8888888888888888,
              "#fdca26"
             ],
             [
              1,
              "#f0f921"
             ]
            ],
            "type": "heatmap"
           }
          ],
          "histogram": [
           {
            "marker": {
             "pattern": {
              "fillmode": "overlay",
              "size": 10,
              "solidity": 0.2
             }
            },
            "type": "histogram"
           }
          ],
          "histogram2d": [
           {
            "colorbar": {
             "outlinewidth": 0,
             "ticks": ""
            },
            "colorscale": [
             [
              0,
              "#0d0887"
             ],
             [
              0.1111111111111111,
              "#46039f"
             ],
             [
              0.2222222222222222,
              "#7201a8"
             ],
             [
              0.3333333333333333,
              "#9c179e"
             ],
             [
              0.4444444444444444,
              "#bd3786"
             ],
             [
              0.5555555555555556,
              "#d8576b"
             ],
             [
              0.6666666666666666,
              "#ed7953"
             ],
             [
              0.7777777777777778,
              "#fb9f3a"
             ],
             [
              0.8888888888888888,
              "#fdca26"
             ],
             [
              1,
              "#f0f921"
             ]
            ],
            "type": "histogram2d"
           }
          ],
          "histogram2dcontour": [
           {
            "colorbar": {
             "outlinewidth": 0,
             "ticks": ""
            },
            "colorscale": [
             [
              0,
              "#0d0887"
             ],
             [
              0.1111111111111111,
              "#46039f"
             ],
             [
              0.2222222222222222,
              "#7201a8"
             ],
             [
              0.3333333333333333,
              "#9c179e"
             ],
             [
              0.4444444444444444,
              "#bd3786"
             ],
             [
              0.5555555555555556,
              "#d8576b"
             ],
             [
              0.6666666666666666,
              "#ed7953"
             ],
             [
              0.7777777777777778,
              "#fb9f3a"
             ],
             [
              0.8888888888888888,
              "#fdca26"
             ],
             [
              1,
              "#f0f921"
             ]
            ],
            "type": "histogram2dcontour"
           }
          ],
          "mesh3d": [
           {
            "colorbar": {
             "outlinewidth": 0,
             "ticks": ""
            },
            "type": "mesh3d"
           }
          ],
          "parcoords": [
           {
            "line": {
             "colorbar": {
              "outlinewidth": 0,
              "ticks": ""
             }
            },
            "type": "parcoords"
           }
          ],
          "pie": [
           {
            "automargin": true,
            "type": "pie"
           }
          ],
          "scatter": [
           {
            "fillpattern": {
             "fillmode": "overlay",
             "size": 10,
             "solidity": 0.2
            },
            "type": "scatter"
           }
          ],
          "scatter3d": [
           {
            "line": {
             "colorbar": {
              "outlinewidth": 0,
              "ticks": ""
             }
            },
            "marker": {
             "colorbar": {
              "outlinewidth": 0,
              "ticks": ""
             }
            },
            "type": "scatter3d"
           }
          ],
          "scattercarpet": [
           {
            "marker": {
             "colorbar": {
              "outlinewidth": 0,
              "ticks": ""
             }
            },
            "type": "scattercarpet"
           }
          ],
          "scattergeo": [
           {
            "marker": {
             "colorbar": {
              "outlinewidth": 0,
              "ticks": ""
             }
            },
            "type": "scattergeo"
           }
          ],
          "scattergl": [
           {
            "marker": {
             "colorbar": {
              "outlinewidth": 0,
              "ticks": ""
             }
            },
            "type": "scattergl"
           }
          ],
          "scattermap": [
           {
            "marker": {
             "colorbar": {
              "outlinewidth": 0,
              "ticks": ""
             }
            },
            "type": "scattermap"
           }
          ],
          "scattermapbox": [
           {
            "marker": {
             "colorbar": {
              "outlinewidth": 0,
              "ticks": ""
             }
            },
            "type": "scattermapbox"
           }
          ],
          "scatterpolar": [
           {
            "marker": {
             "colorbar": {
              "outlinewidth": 0,
              "ticks": ""
             }
            },
            "type": "scatterpolar"
           }
          ],
          "scatterpolargl": [
           {
            "marker": {
             "colorbar": {
              "outlinewidth": 0,
              "ticks": ""
             }
            },
            "type": "scatterpolargl"
           }
          ],
          "scatterternary": [
           {
            "marker": {
             "colorbar": {
              "outlinewidth": 0,
              "ticks": ""
             }
            },
            "type": "scatterternary"
           }
          ],
          "surface": [
           {
            "colorbar": {
             "outlinewidth": 0,
             "ticks": ""
            },
            "colorscale": [
             [
              0,
              "#0d0887"
             ],
             [
              0.1111111111111111,
              "#46039f"
             ],
             [
              0.2222222222222222,
              "#7201a8"
             ],
             [
              0.3333333333333333,
              "#9c179e"
             ],
             [
              0.4444444444444444,
              "#bd3786"
             ],
             [
              0.5555555555555556,
              "#d8576b"
             ],
             [
              0.6666666666666666,
              "#ed7953"
             ],
             [
              0.7777777777777778,
              "#fb9f3a"
             ],
             [
              0.8888888888888888,
              "#fdca26"
             ],
             [
              1,
              "#f0f921"
             ]
            ],
            "type": "surface"
           }
          ],
          "table": [
           {
            "cells": {
             "fill": {
              "color": "#EBF0F8"
             },
             "line": {
              "color": "white"
             }
            },
            "header": {
             "fill": {
              "color": "#C8D4E3"
             },
             "line": {
              "color": "white"
             }
            },
            "type": "table"
           }
          ]
         },
         "layout": {
          "annotationdefaults": {
           "arrowcolor": "#2a3f5f",
           "arrowhead": 0,
           "arrowwidth": 1
          },
          "autotypenumbers": "strict",
          "coloraxis": {
           "colorbar": {
            "outlinewidth": 0,
            "ticks": ""
           }
          },
          "colorscale": {
           "diverging": [
            [
             0,
             "#8e0152"
            ],
            [
             0.1,
             "#c51b7d"
            ],
            [
             0.2,
             "#de77ae"
            ],
            [
             0.3,
             "#f1b6da"
            ],
            [
             0.4,
             "#fde0ef"
            ],
            [
             0.5,
             "#f7f7f7"
            ],
            [
             0.6,
             "#e6f5d0"
            ],
            [
             0.7,
             "#b8e186"
            ],
            [
             0.8,
             "#7fbc41"
            ],
            [
             0.9,
             "#4d9221"
            ],
            [
             1,
             "#276419"
            ]
           ],
           "sequential": [
            [
             0,
             "#0d0887"
            ],
            [
             0.1111111111111111,
             "#46039f"
            ],
            [
             0.2222222222222222,
             "#7201a8"
            ],
            [
             0.3333333333333333,
             "#9c179e"
            ],
            [
             0.4444444444444444,
             "#bd3786"
            ],
            [
             0.5555555555555556,
             "#d8576b"
            ],
            [
             0.6666666666666666,
             "#ed7953"
            ],
            [
             0.7777777777777778,
             "#fb9f3a"
            ],
            [
             0.8888888888888888,
             "#fdca26"
            ],
            [
             1,
             "#f0f921"
            ]
           ],
           "sequentialminus": [
            [
             0,
             "#0d0887"
            ],
            [
             0.1111111111111111,
             "#46039f"
            ],
            [
             0.2222222222222222,
             "#7201a8"
            ],
            [
             0.3333333333333333,
             "#9c179e"
            ],
            [
             0.4444444444444444,
             "#bd3786"
            ],
            [
             0.5555555555555556,
             "#d8576b"
            ],
            [
             0.6666666666666666,
             "#ed7953"
            ],
            [
             0.7777777777777778,
             "#fb9f3a"
            ],
            [
             0.8888888888888888,
             "#fdca26"
            ],
            [
             1,
             "#f0f921"
            ]
           ]
          },
          "colorway": [
           "#636efa",
           "#EF553B",
           "#00cc96",
           "#ab63fa",
           "#FFA15A",
           "#19d3f3",
           "#FF6692",
           "#B6E880",
           "#FF97FF",
           "#FECB52"
          ],
          "font": {
           "color": "#2a3f5f"
          },
          "geo": {
           "bgcolor": "white",
           "lakecolor": "white",
           "landcolor": "#E5ECF6",
           "showlakes": true,
           "showland": true,
           "subunitcolor": "white"
          },
          "hoverlabel": {
           "align": "left"
          },
          "hovermode": "closest",
          "mapbox": {
           "style": "light"
          },
          "paper_bgcolor": "white",
          "plot_bgcolor": "#E5ECF6",
          "polar": {
           "angularaxis": {
            "gridcolor": "white",
            "linecolor": "white",
            "ticks": ""
           },
           "bgcolor": "#E5ECF6",
           "radialaxis": {
            "gridcolor": "white",
            "linecolor": "white",
            "ticks": ""
           }
          },
          "scene": {
           "xaxis": {
            "backgroundcolor": "#E5ECF6",
            "gridcolor": "white",
            "gridwidth": 2,
            "linecolor": "white",
            "showbackground": true,
            "ticks": "",
            "zerolinecolor": "white"
           },
           "yaxis": {
            "backgroundcolor": "#E5ECF6",
            "gridcolor": "white",
            "gridwidth": 2,
            "linecolor": "white",
            "showbackground": true,
            "ticks": "",
            "zerolinecolor": "white"
           },
           "zaxis": {
            "backgroundcolor": "#E5ECF6",
            "gridcolor": "white",
            "gridwidth": 2,
            "linecolor": "white",
            "showbackground": true,
            "ticks": "",
            "zerolinecolor": "white"
           }
          },
          "shapedefaults": {
           "line": {
            "color": "#2a3f5f"
           }
          },
          "ternary": {
           "aaxis": {
            "gridcolor": "white",
            "linecolor": "white",
            "ticks": ""
           },
           "baxis": {
            "gridcolor": "white",
            "linecolor": "white",
            "ticks": ""
           },
           "bgcolor": "#E5ECF6",
           "caxis": {
            "gridcolor": "white",
            "linecolor": "white",
            "ticks": ""
           }
          },
          "title": {
           "x": 0.05
          },
          "xaxis": {
           "automargin": true,
           "gridcolor": "white",
           "linecolor": "white",
           "ticks": "",
           "title": {
            "standoff": 15
           },
           "zerolinecolor": "white",
           "zerolinewidth": 2
          },
          "yaxis": {
           "automargin": true,
           "gridcolor": "white",
           "linecolor": "white",
           "ticks": "",
           "title": {
            "standoff": 15
           },
           "zerolinecolor": "white",
           "zerolinewidth": 2
          }
         }
        },
        "title": {
         "text": "Distribution des variables"
        },
        "width": 1300,
        "xaxis": {
         "anchor": "y",
         "domain": [
          0,
          0.2888888888888889
         ]
        },
        "xaxis2": {
         "anchor": "y2",
         "domain": [
          0.35555555555555557,
          0.6444444444444445
         ]
        },
        "xaxis3": {
         "anchor": "y3",
         "domain": [
          0.7111111111111111,
          1
         ]
        },
        "xaxis4": {
         "anchor": "y4",
         "domain": [
          0,
          0.2888888888888889
         ]
        },
        "xaxis5": {
         "anchor": "y5",
         "domain": [
          0.35555555555555557,
          0.6444444444444445
         ]
        },
        "xaxis6": {
         "anchor": "y6",
         "domain": [
          0.7111111111111111,
          1
         ]
        },
        "yaxis": {
         "anchor": "x",
         "domain": [
          0.575,
          1
         ]
        },
        "yaxis2": {
         "anchor": "x2",
         "domain": [
          0.575,
          1
         ]
        },
        "yaxis3": {
         "anchor": "x3",
         "domain": [
          0.575,
          1
         ]
        },
        "yaxis4": {
         "anchor": "x4",
         "domain": [
          0,
          0.425
         ]
        },
        "yaxis5": {
         "anchor": "x5",
         "domain": [
          0,
          0.425
         ]
        },
        "yaxis6": {
         "anchor": "x6",
         "domain": [
          0,
          0.425
         ]
        }
       }
      }
     },
     "metadata": {},
     "output_type": "display_data"
    }
   ],
   "source": [
    "fig = make_subplots(rows = 2, cols = 3)\n",
    "for i, indicator in enumerate(indicators):\n",
    "    box = px.strip(df_filtered[indicator], hover_name=df_filtered['symbol'])\n",
    "    fig.add_trace(box.data[0], row=i//3+1, col=(i%3)+1)\n",
    "    \n",
    "fig.update_layout(title='Distribution des variables', \n",
    "                  width=1300, height=900).show()"
   ]
  },
  {
   "cell_type": "markdown",
   "id": "fbfde2a5",
   "metadata": {
    "papermill": {
     "duration": 0.199494,
     "end_time": "2025-03-21T14:43:39.803616",
     "exception": false,
     "start_time": "2025-03-21T14:43:39.604122",
     "status": "completed"
    },
    "tags": []
   },
   "source": [
    "On remarque ici que les distributions sont plus lisibles, on procède maintenant aux calculs de corrélation\n",
    "\n",
    "# Corrélation des variables"
   ]
  },
  {
   "cell_type": "code",
   "execution_count": 67,
   "id": "cbdfd980",
   "metadata": {
    "execution": {
     "iopub.execute_input": "2025-03-21T14:43:40.197755Z",
     "iopub.status.busy": "2025-03-21T14:43:40.197329Z",
     "iopub.status.idle": "2025-03-21T14:43:40.445375Z",
     "shell.execute_reply": "2025-03-21T14:43:40.444026Z"
    },
    "papermill": {
     "duration": 0.540501,
     "end_time": "2025-03-21T14:43:40.543327",
     "exception": false,
     "start_time": "2025-03-21T14:43:40.002826",
     "status": "completed"
    },
    "tags": []
   },
   "outputs": [
    {
     "data": {
      "application/vnd.plotly.v1+json": {
       "config": {
        "plotlyServerURL": "https://plot.ly"
       },
       "data": [
        {
         "coloraxis": "coloraxis",
         "hovertemplate": "x: %{x}<br>y: %{y}<br>color: %{z}<extra></extra>",
         "name": "0",
         "texttemplate": "%{z}",
         "type": "heatmap",
         "x": [
          "peRatio",
          "pbRatio",
          "marginProfit",
          "roe",
          "dividendYield",
          "debtToEquity"
         ],
         "xaxis": "x",
         "y": [
          "peRatio",
          "pbRatio",
          "marginProfit",
          "roe",
          "dividendYield",
          "debtToEquity"
         ],
         "yaxis": "y",
         "z": {
          "bdata": "AAAAAAAA8D+kcD0K16PAP3sUrkfhepQ/AAAAAAAAAAC4HoXrUbi+v5qZmZmZmam/pHA9CtejwD8AAAAAAADwPwrXo3A9Csc/mpmZmZmZ6T/hehSuR+HKv1yPwvUoXN8/exSuR+F6lD8K16NwPQrHPwAAAAAAAPA/PQrXo3A92j97FK5H4XqEP3sUrkfheoS/AAAAAAAAAACamZmZmZnpPz0K16NwPdo/AAAAAAAA8D97FK5H4XqkP3sUrkfheuQ/uB6F61G4vr/hehSuR+HKv3sUrkfheoQ/exSuR+F6pD8AAAAAAADwP6RwPQrXo8A/mpmZmZmZqb9cj8L1KFzfP3sUrkfheoS/exSuR+F65D+kcD0K16PAPwAAAAAAAPA/",
          "dtype": "f8",
          "shape": "6, 6"
         }
        },
        {
         "coloraxis": "coloraxis",
         "hovertemplate": "x: %{x}<br>y: %{y}<br>color: %{z}<extra></extra>",
         "name": "0",
         "texttemplate": "%{z}",
         "type": "heatmap",
         "x": [
          "peRatio",
          "pbRatio",
          "marginProfit",
          "roe",
          "dividendYield",
          "debtToEquity"
         ],
         "xaxis": "x2",
         "y": [
          "peRatio",
          "pbRatio",
          "marginProfit",
          "roe",
          "dividendYield",
          "debtToEquity"
         ],
         "yaxis": "y2",
         "z": {
          "bdata": "AAAAAAAA8D/2KFyPwvXgP8P1KFyPwsU/mpmZmZmZuT/D9Shcj8LVv1K4HoXrUci/9ihcj8L14D8AAAAAAADwP+xRuB6F69E/PQrXo3A94j97FK5H4XrUv4/C9Shcj9I/w/UoXI/CxT/sUbgehevRPwAAAAAAAPA/hetRuB6F4z97FK5H4XqEP7gehetRuK6/mpmZmZmZuT89CtejcD3iP4XrUbgeheM/AAAAAAAA8D+4HoXrUbi+Pylcj8L1KNw/w/UoXI/C1b97FK5H4XrUv3sUrkfheoQ/uB6F61G4vj8AAAAAAADwPylcj8L1KMw/UrgehetRyL+PwvUoXI/SP7gehetRuK6/KVyPwvUo3D8pXI/C9SjMPwAAAAAAAPA/",
          "dtype": "f8",
          "shape": "6, 6"
         }
        }
       ],
       "layout": {
        "annotations": [
         {
          "showarrow": false,
          "text": "Linéaire",
          "x": 0.18,
          "xref": "paper",
          "y": 1.1,
          "yref": "paper"
         },
         {
          "showarrow": false,
          "text": "Monotonique",
          "x": 0.8300000000000001,
          "xref": "paper",
          "y": 1.1,
          "yref": "paper"
         }
        ],
        "coloraxis": {
         "colorscale": [
          [
           0,
           "#0d0887"
          ],
          [
           0.1111111111111111,
           "#46039f"
          ],
          [
           0.2222222222222222,
           "#7201a8"
          ],
          [
           0.3333333333333333,
           "#9c179e"
          ],
          [
           0.4444444444444444,
           "#bd3786"
          ],
          [
           0.5555555555555556,
           "#d8576b"
          ],
          [
           0.6666666666666666,
           "#ed7953"
          ],
          [
           0.7777777777777778,
           "#fb9f3a"
          ],
          [
           0.8888888888888888,
           "#fdca26"
          ],
          [
           1,
           "#f0f921"
          ]
         ]
        },
        "template": {
         "data": {
          "bar": [
           {
            "error_x": {
             "color": "#2a3f5f"
            },
            "error_y": {
             "color": "#2a3f5f"
            },
            "marker": {
             "line": {
              "color": "#E5ECF6",
              "width": 0.5
             },
             "pattern": {
              "fillmode": "overlay",
              "size": 10,
              "solidity": 0.2
             }
            },
            "type": "bar"
           }
          ],
          "barpolar": [
           {
            "marker": {
             "line": {
              "color": "#E5ECF6",
              "width": 0.5
             },
             "pattern": {
              "fillmode": "overlay",
              "size": 10,
              "solidity": 0.2
             }
            },
            "type": "barpolar"
           }
          ],
          "carpet": [
           {
            "aaxis": {
             "endlinecolor": "#2a3f5f",
             "gridcolor": "white",
             "linecolor": "white",
             "minorgridcolor": "white",
             "startlinecolor": "#2a3f5f"
            },
            "baxis": {
             "endlinecolor": "#2a3f5f",
             "gridcolor": "white",
             "linecolor": "white",
             "minorgridcolor": "white",
             "startlinecolor": "#2a3f5f"
            },
            "type": "carpet"
           }
          ],
          "choropleth": [
           {
            "colorbar": {
             "outlinewidth": 0,
             "ticks": ""
            },
            "type": "choropleth"
           }
          ],
          "contour": [
           {
            "colorbar": {
             "outlinewidth": 0,
             "ticks": ""
            },
            "colorscale": [
             [
              0,
              "#0d0887"
             ],
             [
              0.1111111111111111,
              "#46039f"
             ],
             [
              0.2222222222222222,
              "#7201a8"
             ],
             [
              0.3333333333333333,
              "#9c179e"
             ],
             [
              0.4444444444444444,
              "#bd3786"
             ],
             [
              0.5555555555555556,
              "#d8576b"
             ],
             [
              0.6666666666666666,
              "#ed7953"
             ],
             [
              0.7777777777777778,
              "#fb9f3a"
             ],
             [
              0.8888888888888888,
              "#fdca26"
             ],
             [
              1,
              "#f0f921"
             ]
            ],
            "type": "contour"
           }
          ],
          "contourcarpet": [
           {
            "colorbar": {
             "outlinewidth": 0,
             "ticks": ""
            },
            "type": "contourcarpet"
           }
          ],
          "heatmap": [
           {
            "colorbar": {
             "outlinewidth": 0,
             "ticks": ""
            },
            "colorscale": [
             [
              0,
              "#0d0887"
             ],
             [
              0.1111111111111111,
              "#46039f"
             ],
             [
              0.2222222222222222,
              "#7201a8"
             ],
             [
              0.3333333333333333,
              "#9c179e"
             ],
             [
              0.4444444444444444,
              "#bd3786"
             ],
             [
              0.5555555555555556,
              "#d8576b"
             ],
             [
              0.6666666666666666,
              "#ed7953"
             ],
             [
              0.7777777777777778,
              "#fb9f3a"
             ],
             [
              0.8888888888888888,
              "#fdca26"
             ],
             [
              1,
              "#f0f921"
             ]
            ],
            "type": "heatmap"
           }
          ],
          "histogram": [
           {
            "marker": {
             "pattern": {
              "fillmode": "overlay",
              "size": 10,
              "solidity": 0.2
             }
            },
            "type": "histogram"
           }
          ],
          "histogram2d": [
           {
            "colorbar": {
             "outlinewidth": 0,
             "ticks": ""
            },
            "colorscale": [
             [
              0,
              "#0d0887"
             ],
             [
              0.1111111111111111,
              "#46039f"
             ],
             [
              0.2222222222222222,
              "#7201a8"
             ],
             [
              0.3333333333333333,
              "#9c179e"
             ],
             [
              0.4444444444444444,
              "#bd3786"
             ],
             [
              0.5555555555555556,
              "#d8576b"
             ],
             [
              0.6666666666666666,
              "#ed7953"
             ],
             [
              0.7777777777777778,
              "#fb9f3a"
             ],
             [
              0.8888888888888888,
              "#fdca26"
             ],
             [
              1,
              "#f0f921"
             ]
            ],
            "type": "histogram2d"
           }
          ],
          "histogram2dcontour": [
           {
            "colorbar": {
             "outlinewidth": 0,
             "ticks": ""
            },
            "colorscale": [
             [
              0,
              "#0d0887"
             ],
             [
              0.1111111111111111,
              "#46039f"
             ],
             [
              0.2222222222222222,
              "#7201a8"
             ],
             [
              0.3333333333333333,
              "#9c179e"
             ],
             [
              0.4444444444444444,
              "#bd3786"
             ],
             [
              0.5555555555555556,
              "#d8576b"
             ],
             [
              0.6666666666666666,
              "#ed7953"
             ],
             [
              0.7777777777777778,
              "#fb9f3a"
             ],
             [
              0.8888888888888888,
              "#fdca26"
             ],
             [
              1,
              "#f0f921"
             ]
            ],
            "type": "histogram2dcontour"
           }
          ],
          "mesh3d": [
           {
            "colorbar": {
             "outlinewidth": 0,
             "ticks": ""
            },
            "type": "mesh3d"
           }
          ],
          "parcoords": [
           {
            "line": {
             "colorbar": {
              "outlinewidth": 0,
              "ticks": ""
             }
            },
            "type": "parcoords"
           }
          ],
          "pie": [
           {
            "automargin": true,
            "type": "pie"
           }
          ],
          "scatter": [
           {
            "fillpattern": {
             "fillmode": "overlay",
             "size": 10,
             "solidity": 0.2
            },
            "type": "scatter"
           }
          ],
          "scatter3d": [
           {
            "line": {
             "colorbar": {
              "outlinewidth": 0,
              "ticks": ""
             }
            },
            "marker": {
             "colorbar": {
              "outlinewidth": 0,
              "ticks": ""
             }
            },
            "type": "scatter3d"
           }
          ],
          "scattercarpet": [
           {
            "marker": {
             "colorbar": {
              "outlinewidth": 0,
              "ticks": ""
             }
            },
            "type": "scattercarpet"
           }
          ],
          "scattergeo": [
           {
            "marker": {
             "colorbar": {
              "outlinewidth": 0,
              "ticks": ""
             }
            },
            "type": "scattergeo"
           }
          ],
          "scattergl": [
           {
            "marker": {
             "colorbar": {
              "outlinewidth": 0,
              "ticks": ""
             }
            },
            "type": "scattergl"
           }
          ],
          "scattermap": [
           {
            "marker": {
             "colorbar": {
              "outlinewidth": 0,
              "ticks": ""
             }
            },
            "type": "scattermap"
           }
          ],
          "scattermapbox": [
           {
            "marker": {
             "colorbar": {
              "outlinewidth": 0,
              "ticks": ""
             }
            },
            "type": "scattermapbox"
           }
          ],
          "scatterpolar": [
           {
            "marker": {
             "colorbar": {
              "outlinewidth": 0,
              "ticks": ""
             }
            },
            "type": "scatterpolar"
           }
          ],
          "scatterpolargl": [
           {
            "marker": {
             "colorbar": {
              "outlinewidth": 0,
              "ticks": ""
             }
            },
            "type": "scatterpolargl"
           }
          ],
          "scatterternary": [
           {
            "marker": {
             "colorbar": {
              "outlinewidth": 0,
              "ticks": ""
             }
            },
            "type": "scatterternary"
           }
          ],
          "surface": [
           {
            "colorbar": {
             "outlinewidth": 0,
             "ticks": ""
            },
            "colorscale": [
             [
              0,
              "#0d0887"
             ],
             [
              0.1111111111111111,
              "#46039f"
             ],
             [
              0.2222222222222222,
              "#7201a8"
             ],
             [
              0.3333333333333333,
              "#9c179e"
             ],
             [
              0.4444444444444444,
              "#bd3786"
             ],
             [
              0.5555555555555556,
              "#d8576b"
             ],
             [
              0.6666666666666666,
              "#ed7953"
             ],
             [
              0.7777777777777778,
              "#fb9f3a"
             ],
             [
              0.8888888888888888,
              "#fdca26"
             ],
             [
              1,
              "#f0f921"
             ]
            ],
            "type": "surface"
           }
          ],
          "table": [
           {
            "cells": {
             "fill": {
              "color": "#EBF0F8"
             },
             "line": {
              "color": "white"
             }
            },
            "header": {
             "fill": {
              "color": "#C8D4E3"
             },
             "line": {
              "color": "white"
             }
            },
            "type": "table"
           }
          ]
         },
         "layout": {
          "annotationdefaults": {
           "arrowcolor": "#2a3f5f",
           "arrowhead": 0,
           "arrowwidth": 1
          },
          "autotypenumbers": "strict",
          "coloraxis": {
           "colorbar": {
            "outlinewidth": 0,
            "ticks": ""
           }
          },
          "colorscale": {
           "diverging": [
            [
             0,
             "#8e0152"
            ],
            [
             0.1,
             "#c51b7d"
            ],
            [
             0.2,
             "#de77ae"
            ],
            [
             0.3,
             "#f1b6da"
            ],
            [
             0.4,
             "#fde0ef"
            ],
            [
             0.5,
             "#f7f7f7"
            ],
            [
             0.6,
             "#e6f5d0"
            ],
            [
             0.7,
             "#b8e186"
            ],
            [
             0.8,
             "#7fbc41"
            ],
            [
             0.9,
             "#4d9221"
            ],
            [
             1,
             "#276419"
            ]
           ],
           "sequential": [
            [
             0,
             "#0d0887"
            ],
            [
             0.1111111111111111,
             "#46039f"
            ],
            [
             0.2222222222222222,
             "#7201a8"
            ],
            [
             0.3333333333333333,
             "#9c179e"
            ],
            [
             0.4444444444444444,
             "#bd3786"
            ],
            [
             0.5555555555555556,
             "#d8576b"
            ],
            [
             0.6666666666666666,
             "#ed7953"
            ],
            [
             0.7777777777777778,
             "#fb9f3a"
            ],
            [
             0.8888888888888888,
             "#fdca26"
            ],
            [
             1,
             "#f0f921"
            ]
           ],
           "sequentialminus": [
            [
             0,
             "#0d0887"
            ],
            [
             0.1111111111111111,
             "#46039f"
            ],
            [
             0.2222222222222222,
             "#7201a8"
            ],
            [
             0.3333333333333333,
             "#9c179e"
            ],
            [
             0.4444444444444444,
             "#bd3786"
            ],
            [
             0.5555555555555556,
             "#d8576b"
            ],
            [
             0.6666666666666666,
             "#ed7953"
            ],
            [
             0.7777777777777778,
             "#fb9f3a"
            ],
            [
             0.8888888888888888,
             "#fdca26"
            ],
            [
             1,
             "#f0f921"
            ]
           ]
          },
          "colorway": [
           "#636efa",
           "#EF553B",
           "#00cc96",
           "#ab63fa",
           "#FFA15A",
           "#19d3f3",
           "#FF6692",
           "#B6E880",
           "#FF97FF",
           "#FECB52"
          ],
          "font": {
           "color": "#2a3f5f"
          },
          "geo": {
           "bgcolor": "white",
           "lakecolor": "white",
           "landcolor": "#E5ECF6",
           "showlakes": true,
           "showland": true,
           "subunitcolor": "white"
          },
          "hoverlabel": {
           "align": "left"
          },
          "hovermode": "closest",
          "mapbox": {
           "style": "light"
          },
          "paper_bgcolor": "white",
          "plot_bgcolor": "#E5ECF6",
          "polar": {
           "angularaxis": {
            "gridcolor": "white",
            "linecolor": "white",
            "ticks": ""
           },
           "bgcolor": "#E5ECF6",
           "radialaxis": {
            "gridcolor": "white",
            "linecolor": "white",
            "ticks": ""
           }
          },
          "scene": {
           "xaxis": {
            "backgroundcolor": "#E5ECF6",
            "gridcolor": "white",
            "gridwidth": 2,
            "linecolor": "white",
            "showbackground": true,
            "ticks": "",
            "zerolinecolor": "white"
           },
           "yaxis": {
            "backgroundcolor": "#E5ECF6",
            "gridcolor": "white",
            "gridwidth": 2,
            "linecolor": "white",
            "showbackground": true,
            "ticks": "",
            "zerolinecolor": "white"
           },
           "zaxis": {
            "backgroundcolor": "#E5ECF6",
            "gridcolor": "white",
            "gridwidth": 2,
            "linecolor": "white",
            "showbackground": true,
            "ticks": "",
            "zerolinecolor": "white"
           }
          },
          "shapedefaults": {
           "line": {
            "color": "#2a3f5f"
           }
          },
          "ternary": {
           "aaxis": {
            "gridcolor": "white",
            "linecolor": "white",
            "ticks": ""
           },
           "baxis": {
            "gridcolor": "white",
            "linecolor": "white",
            "ticks": ""
           },
           "bgcolor": "#E5ECF6",
           "caxis": {
            "gridcolor": "white",
            "linecolor": "white",
            "ticks": ""
           }
          },
          "title": {
           "x": 0.05
          },
          "xaxis": {
           "automargin": true,
           "gridcolor": "white",
           "linecolor": "white",
           "ticks": "",
           "title": {
            "standoff": 15
           },
           "zerolinecolor": "white",
           "zerolinewidth": 2
          },
          "yaxis": {
           "automargin": true,
           "gridcolor": "white",
           "linecolor": "white",
           "ticks": "",
           "title": {
            "standoff": 15
           },
           "zerolinecolor": "white",
           "zerolinewidth": 2
          }
         }
        },
        "title": {
         "text": "Matrices de corrélation"
        },
        "width": 1000,
        "xaxis": {
         "anchor": "y",
         "domain": [
          0,
          0.45
         ]
        },
        "xaxis2": {
         "anchor": "y2",
         "domain": [
          0.55,
          1
         ]
        },
        "yaxis": {
         "anchor": "x",
         "domain": [
          0,
          1
         ]
        },
        "yaxis2": {
         "anchor": "x2",
         "domain": [
          0,
          1
         ]
        }
       }
      }
     },
     "metadata": {},
     "output_type": "display_data"
    }
   ],
   "source": [
    "methods = ['pearson', 'spearman']\n",
    "titles = ['Linéaire', \n",
    "          'Monotonique']\n",
    "\n",
    "fig = make_subplots(rows = 1, cols = 2)\n",
    "for i, (method, title) in enumerate(zip(methods, titles)):\n",
    "    heatmap = px.imshow(df_filtered[indicators]\\\n",
    "                           .corr(method=method)\\\n",
    "                           .round(2), \n",
    "                           text_auto=True,\n",
    "                           color_continuous_scale='Plasma',\n",
    "                           title=title)\n",
    "    \n",
    "    fig.add_trace(heatmap.data[0], row=1, col=i+1)\n",
    "    \n",
    "fig.update_layout(title='Matrices de corrélation', \n",
    "                  coloraxis=dict(colorscale='Plasma'), \n",
    "                  width= 1000, \n",
    "                  annotations=[dict(text=titles[i],\n",
    "                               x=0.18 + 0.65*i,\n",
    "                               y=1.1,\n",
    "                               xref=\"paper\", \n",
    "                               yref=\"paper\",\n",
    "                               showarrow=False) for i in range(2) ]).show()"
   ]
  },
  {
   "cell_type": "markdown",
   "id": "be3f3a5e",
   "metadata": {
    "papermill": {
     "duration": 0.279486,
     "end_time": "2025-03-21T14:43:41.117168",
     "exception": false,
     "start_time": "2025-03-21T14:43:40.837682",
     "status": "completed"
    },
    "tags": []
   },
   "source": [
    "# Interprétations\n",
    "**1. Analyse de la Rentabilité**\n",
    "- **Corrélation entre ROE et Margin Profit (0.61 en monotone, 0.41 en linéaire)**\n",
    "  - La rentabilité des fonds propres (*Return on Equity - ROE*) et la marge bénéficiaire (*Margin Profit*) sont naturellement liées.\n",
    "  - La **forte corrélation monotone** suggère qu’une entreprise avec une bonne marge bénéficiaire a tendance à afficher un ROE élevé.\n",
    "  - La **corrélation linéaire faible** indique que d’autres facteurs (structure du capital, effet de levier) influencent le ROE.\n",
    "  - **Interprétation** : Une entreprise avec une marge élevée **n'a pas forcément un ROE élevé** si elle est fortement endettée ou si elle réinvestit massivement ses bénéfices.\n",
    "- **Corrélation entre ROE et P/B Ratio (0.8 en linéaire, 0.41 en linéaire)**\n",
    "  - La rentabilité des fonds propres (*Return on Equity - ROE*) et le  (*price to book Ratio*) sont naturellement liées puisque  la valeur comptable par action est calculée par les fonds propres.\n",
    "\n",
    "---\n",
    "\n",
    "**2. Effet de levier : Debt-to-Equity et ROE**\n",
    "- **Corrélation entre Debt-to-Equity et ROE (0.64 en linéaire, 0.44 en monotone)**\n",
    "  - La relation **positive** signifie que plus une entreprise est endettée, plus son ROE a à monter.\n",
    "  - Un fort *Debt-to-Equity* signifie un financement important par la dette, ce qui **diminue les fonds propres (equity)** et donc a naturellement tendance à réduire dénominateur du ROE.\n",
    "  - Certaines entreprises utilisent l’endettement pour améliorer leur ROE (effet de levier). Si la rentabilité des investissements dépasse le coût de la dette, le ROE peut augmenter.\n",
    "  - **Interprétation** : Une **corrélation positive forte** indique ici que les entreprises avec un endettement élevé augmentent leur rentabiltié par rapport aux fonds propres. Cette relation est en partie mathématique mais peut aussi indiquer un effet de levier bien utilisé.\n",
    "\n",
    "---\n",
    "\n",
    "**3. Valorisation et Rentabilité : P/E Ratio et ROE**\n",
    "- **Corrélation entre PE Ratio et ROE (0.1 en monotone, 0 en linéaire)**\n",
    "  - Le Price-to-Earnings Ratio (*P/E Ratio*) mesure combien les investisseurs sont prêts à payer pour 1€ de bénéfice.\n",
    "  - Une **faible corrélation monotone** signifie qu’il existe une tendance où des entreprises avec un ROE élevé ont un *P/E* plus élevé.\n",
    "  - La **corrélation linéaire nulle** suggère que la relation n’est pas uniforme : certaines entreprises avec un ROE élevé peuvent être sous-évaluées (P/E faible) si le marché doute de leur croissance.\n",
    "  - **Interprétation** : Un ROE élevé **ne garantit pas** un P/E élevé. Les investisseurs ne peuvent se baser uniquement sur la rentabilité.\n",
    "\n",
    "---\n",
    "\n",
    "**4. Valorisation et Structure Financière : PB Ratio et Debt-to-Equity**\n",
    "- **Corrélation entre PB Ratio et Debt-to-Equity (0.49 en linéaire)**\n",
    "  - Le Price-to-Book Ratio (*PB Ratio*) compare la valeur marchande d’une entreprise à sa valeur comptable.\n",
    "  - La **corrélation positive** signifie que les entreprises fortement endettées ont un PB Ratio élevé ce qui est logique car la dette augmentant, la valeur comptable baisse (dénominateur) et l'indicateur P/B Ratio augmente.\n",
    "\n",
    "---\n",
    "\n",
    "**5. Impact des Dividendes : Dividend Yield et les autres ratios**\n",
    "- **Faible corrélation du Dividend Yield avec les autres variables (-0.29 à 0.17)**\n",
    "  - Un *Dividend Yield* (rendement du dividende) faible corrélé aux autres variables signifie que les entreprises qui versent des dividendes ne sont pas nécessairement les plus rentables, endettées ou bien valorisées.\n",
    "  - **Explication** : Les entreprises à forte croissance **réinvestissent leurs bénéfices** plutôt que de verser des dividendes, ce qui explique le faible lien avec ROE et PE Ratio.\n",
    "  - **Interprétation** : Un Dividend Yield élevé peut être **le signe d’une entreprise mature** avec peu de croissance future, alors qu’un faible Dividend Yield peut indiquer une **stratégie axée sur la croissance**.\n",
    "\n",
    "---\n",
    "\n",
    "**Application en investissement :**\n",
    "- Privilégier les entreprises avec **une bonne marge bénéficiaire et un faible endettement**.\n",
    "- Éviter les entreprises avec un **PB Ratio et un Debt-to-Equity élevés sans rentabilité claire**.\n",
    "- Un faible P/E Ratio avec un bon ROE peut être une **opportunité sous-évaluée**.\n",
    "\n",
    "En résumé, les P/B et P/E ratios mesurent la **confiance du marché** dans l'action.\n",
    "Le ROE mesure la **rentabilité**.\n",
    "Un debtToEquity faible à tendance à être une **preuve de solidité**.\n",
    "\n",
    "Une bonne approche serait de regarder les entreprises qui maximisent le ROE tout en minimisant le D/E et le P/B Ratio ou le P/E Ratio.  \n",
    "  \n",
    "Comment choisir entre P/B Ratio et P/E Ratio ? \n",
    "**consommation** est plus pertinent pour les **consommation**(banques, industrie, immobilier) car basé sur la valeur comptable.\n",
    "**consommation** est plus pertinent pour les entreprises générant des bénéfices constants ou avec beaucoup d'intangibles, notamment la **consommation** ou la **consommation**.\n",
    "Pour le NASDAQ, on préfèrera donc le **P/E Ratio**.\n",
    "\n",
    "Une entreprise avec un **ROE fort**(rentable par rapport à ses fonds propres), un **P/E ratio faible** (peu de confiance du marché, soit car trop risquée soit car sous évaluée) et **un D/E faible** (peu endettée donc solide) peut indiquer une opportunité boursière.\n",
    "\n",
    "On visualise cette hypothèse dans un graphique 3D\n",
    "\n"
   ]
  },
  {
   "cell_type": "markdown",
   "id": "14551957",
   "metadata": {
    "papermill": {
     "duration": 0.288954,
     "end_time": "2025-03-21T14:43:41.696289",
     "exception": false,
     "start_time": "2025-03-21T14:43:41.407335",
     "status": "completed"
    },
    "tags": []
   },
   "source": [
    "# Opportunités boursières"
   ]
  },
  {
   "cell_type": "code",
   "execution_count": 68,
   "id": "94722b40",
   "metadata": {
    "execution": {
     "iopub.execute_input": "2025-03-21T14:43:42.278112Z",
     "iopub.status.busy": "2025-03-21T14:43:42.277514Z",
     "iopub.status.idle": "2025-03-21T14:43:42.784174Z",
     "shell.execute_reply": "2025-03-21T14:43:42.783235Z"
    },
    "papermill": {
     "duration": 0.909337,
     "end_time": "2025-03-21T14:43:42.894878",
     "exception": false,
     "start_time": "2025-03-21T14:43:41.985541",
     "status": "completed"
    },
    "tags": []
   },
   "outputs": [
    {
     "data": {
      "application/vnd.plotly.v1+json": {
       "config": {
        "plotlyServerURL": "https://plot.ly"
       },
       "data": [
        {
         "hovertemplate": "<b>%{hovertext}</b><br><br>symbol=ADBE<br>roe=%{x}<br>debtToEquity=%{y}<br>peRatio=%{z}<extra></extra>",
         "hovertext": {
          "bdata": "AAAAAACgn0A=",
          "dtype": "f8"
         },
         "legendgroup": "ADBE",
         "marker": {
          "color": "#636efa",
          "symbol": "circle"
         },
         "mode": "markers",
         "name": "ADBE",
         "scene": "scene",
         "showlegend": true,
         "type": "scatter3d",
         "x": {
          "bdata": "ttUp11k62T8=",
          "dtype": "f8"
         },
         "y": {
          "bdata": "uPlp2X162z8=",
          "dtype": "f8"
         },
         "z": {
          "bdata": "pRUd9kC9REA=",
          "dtype": "f8"
         }
        },
        {
         "hovertemplate": "<b>%{hovertext}</b><br><br>symbol=AMD<br>roe=%{x}<br>debtToEquity=%{y}<br>peRatio=%{z}<extra></extra>",
         "hovertext": {
          "bdata": "AAAAAACgn0A=",
          "dtype": "f8"
         },
         "legendgroup": "AMD",
         "marker": {
          "color": "#EF553B",
          "symbol": "circle"
         },
         "mode": "markers",
         "name": "AMD",
         "scene": "scene",
         "showlegend": true,
         "type": "scatter3d",
         "x": {
          "bdata": "Kp4YVYYwnT8=",
          "dtype": "f8"
         },
         "y": {
          "bdata": "sMBj5ax3gT8=",
          "dtype": "f8"
         },
         "z": {
          "bdata": "Jsa1tqDlXkA=",
          "dtype": "f8"
         }
        },
        {
         "hovertemplate": "<b>%{hovertext}</b><br><br>symbol=ABNB<br>roe=%{x}<br>debtToEquity=%{y}<br>peRatio=%{z}<extra></extra>",
         "hovertext": {
          "bdata": "AAAAAACgn0A=",
          "dtype": "f8"
         },
         "legendgroup": "ABNB",
         "marker": {
          "color": "#00cc96",
          "symbol": "circle"
         },
         "mode": "markers",
         "name": "ABNB",
         "scene": "scene",
         "showlegend": true,
         "type": "scatter3d",
         "x": {
          "bdata": "UpIiPH4l1D8=",
          "dtype": "f8"
         },
         "y": {
          "bdata": "3hJDbwJ00T8=",
          "dtype": "f8"
         },
         "z": {
          "bdata": "U+8YfhxdP0A=",
          "dtype": "f8"
         }
        },
        {
         "hovertemplate": "<b>%{hovertext}</b><br><br>symbol=GOOG<br>roe=%{x}<br>debtToEquity=%{y}<br>peRatio=%{z}<extra></extra>",
         "hovertext": {
          "bdata": "AAAAAACgn0A=",
          "dtype": "f8"
         },
         "legendgroup": "GOOG",
         "marker": {
          "color": "#ab63fa",
          "symbol": "circle"
         },
         "mode": "markers",
         "name": "GOOG",
         "scene": "scene",
         "showlegend": true,
         "type": "scatter3d",
         "x": {
          "bdata": "FFfVEOC10z8=",
          "dtype": "f8"
         },
         "y": {
          "bdata": "YOPxf9rGsT8=",
          "dtype": "f8"
         },
         "z": {
          "bdata": "/8rulc6IN0A=",
          "dtype": "f8"
         }
        },
        {
         "hovertemplate": "<b>%{hovertext}</b><br><br>symbol=AMZN<br>roe=%{x}<br>debtToEquity=%{y}<br>peRatio=%{z}<extra></extra>",
         "hovertext": {
          "bdata": "AAAAAACgn0A=",
          "dtype": "f8"
         },
         "legendgroup": "AMZN",
         "marker": {
          "color": "#FFA15A",
          "symbol": "circle"
         },
         "mode": "markers",
         "name": "AMZN",
         "scene": "scene",
         "showlegend": true,
         "type": "scatter3d",
         "x": {
          "bdata": "dn+oYPWEyj8=",
          "dtype": "f8"
         },
         "y": {
          "bdata": "LlS0EJ5L3T8=",
          "dtype": "f8"
         },
         "z": {
          "bdata": "RrNd3OljQ0A=",
          "dtype": "f8"
         }
        },
        {
         "hovertemplate": "<b>%{hovertext}</b><br><br>symbol=AEP<br>roe=%{x}<br>debtToEquity=%{y}<br>peRatio=%{z}<extra></extra>",
         "hovertext": {
          "bdata": "AAAAAACgn0A=",
          "dtype": "f8"
         },
         "legendgroup": "AEP",
         "marker": {
          "color": "#19d3f3",
          "symbol": "circle"
         },
         "mode": "markers",
         "name": "AEP",
         "scene": "scene",
         "showlegend": true,
         "type": "scatter3d",
         "x": {
          "bdata": "85RL1BZR6D8=",
          "dtype": "f8"
         },
         "y": {
          "bdata": "4hIgpsFwJ0A=",
          "dtype": "f8"
         },
         "z": {
          "bdata": "z8FPsj56MEA=",
          "dtype": "f8"
         }
        },
        {
         "hovertemplate": "<b>%{hovertext}</b><br><br>symbol=AMGN<br>roe=%{x}<br>debtToEquity=%{y}<br>peRatio=%{z}<extra></extra>",
         "hovertext": {
          "bdata": "AAAAAACgn0A=",
          "dtype": "f8"
         },
         "legendgroup": "AMGN",
         "marker": {
          "color": "#FF6692",
          "symbol": "circle"
         },
         "mode": "markers",
         "name": "AMGN",
         "scene": "scene",
         "showlegend": true,
         "type": "scatter3d",
         "x": {
          "bdata": "524W6RVF5j8=",
          "dtype": "f8"
         },
         "y": {
          "bdata": "nLfFEchzJEA=",
          "dtype": "f8"
         },
         "z": {
          "bdata": "cjo8z/M8QUA=",
          "dtype": "f8"
         }
        },
        {
         "hovertemplate": "<b>%{hovertext}</b><br><br>symbol=ADI<br>roe=%{x}<br>debtToEquity=%{y}<br>peRatio=%{z}<extra></extra>",
         "hovertext": {
          "bdata": "AAAAAACgn0A=",
          "dtype": "f8"
         },
         "legendgroup": "ADI",
         "marker": {
          "color": "#B6E880",
          "symbol": "circle"
         },
         "mode": "markers",
         "name": "ADI",
         "scene": "scene",
         "showlegend": true,
         "type": "scatter3d",
         "x": {
          "bdata": "gbks+kLNpz8=",
          "dtype": "f8"
         },
         "y": {
          "bdata": "DbOF+JyWyz8=",
          "dtype": "f8"
         },
         "z": {
          "bdata": "Up/HZn4aUUA=",
          "dtype": "f8"
         }
        },
        {
         "hovertemplate": "<b>%{hovertext}</b><br><br>symbol=ANSS<br>roe=%{x}<br>debtToEquity=%{y}<br>peRatio=%{z}<extra></extra>",
         "hovertext": {
          "bdata": "AAAAAACgn0A=",
          "dtype": "f8"
         },
         "legendgroup": "ANSS",
         "marker": {
          "color": "#FF97FF",
          "symbol": "circle"
         },
         "mode": "markers",
         "name": "ANSS",
         "scene": "scene",
         "showlegend": true,
         "type": "scatter3d",
         "x": {
          "bdata": "G6Lktsk2uD8=",
          "dtype": "f8"
         },
         "y": {
          "bdata": "bVer24awwT8=",
          "dtype": "f8"
         },
         "z": {
          "bdata": "4u+noK2USUA=",
          "dtype": "f8"
         }
        },
        {
         "hovertemplate": "<b>%{hovertext}</b><br><br>symbol=AAPL<br>roe=%{x}<br>debtToEquity=%{y}<br>peRatio=%{z}<extra></extra>",
         "hovertext": {
          "bdata": "AAAAAACgn0A=",
          "dtype": "f8"
         },
         "legendgroup": "AAPL",
         "marker": {
          "color": "#FECB52",
          "symbol": "circle"
         },
         "mode": "markers",
         "name": "AAPL",
         "scene": "scene",
         "showlegend": true,
         "type": "scatter3d",
         "x": {
          "bdata": "BiGF+L9V+j8=",
          "dtype": "f8"
         },
         "y": {
          "bdata": "ncJDvQz1/T8=",
          "dtype": "f8"
         },
         "z": {
          "bdata": "0wsEisWkQkA=",
          "dtype": "f8"
         }
        },
        {
         "hovertemplate": "<b>%{hovertext}</b><br><br>symbol=AMAT<br>roe=%{x}<br>debtToEquity=%{y}<br>peRatio=%{z}<extra></extra>",
         "hovertext": {
          "bdata": "AAAAAACgn0A=",
          "dtype": "f8"
         },
         "legendgroup": "AMAT",
         "marker": {
          "color": "#636efa",
          "symbol": "circle"
         },
         "mode": "markers",
         "name": "AMAT",
         "scene": "scene",
         "showlegend": true,
         "type": "scatter3d",
         "x": {
          "bdata": "R7AExIMs2D8=",
          "dtype": "f8"
         },
         "y": {
          "bdata": "RghqUvMU1T8=",
          "dtype": "f8"
         },
         "z": {
          "bdata": "0Qwq4EhbNUA=",
          "dtype": "f8"
         }
        },
        {
         "hovertemplate": "<b>%{hovertext}</b><br><br>symbol=APP<br>roe=%{x}<br>debtToEquity=%{y}<br>peRatio=%{z}<extra></extra>",
         "hovertext": {
          "bdata": "AAAAAACgn0A=",
          "dtype": "f8"
         },
         "legendgroup": "APP",
         "marker": {
          "color": "#EF553B",
          "symbol": "circle"
         },
         "mode": "markers",
         "name": "APP",
         "scene": "scene",
         "showlegend": true,
         "type": "scatter3d",
         "x": {
          "bdata": "MFz2gngx9z8=",
          "dtype": "f8"
         },
         "y": {
          "bdata": "/ORQ9D0bCkA=",
          "dtype": "f8"
         },
         "z": {
          "bdata": "FXsxyBREUUA=",
          "dtype": "f8"
         }
        },
        {
         "hovertemplate": "<b>%{hovertext}</b><br><br>symbol=ARM<br>roe=%{x}<br>debtToEquity=%{y}<br>peRatio=%{z}<extra></extra>",
         "hovertext": {
          "bdata": "AAAAAACgn0A=",
          "dtype": "f8"
         },
         "legendgroup": "ARM",
         "marker": {
          "color": "#00cc96",
          "symbol": "circle"
         },
         "mode": "markers",
         "name": "ARM",
         "scene": "scene",
         "showlegend": true,
         "type": "scatter3d",
         "x": {
          "bdata": "T/GA+7KWrT8=",
          "dtype": "f8"
         },
         "y": {
          "bdata": "JUfAuWLapT8=",
          "dtype": "f8"
         },
         "z": {
          "bdata": "tsx7reyhekA=",
          "dtype": "f8"
         }
        },
        {
         "hovertemplate": "<b>%{hovertext}</b><br><br>symbol=ASML<br>roe=%{x}<br>debtToEquity=%{y}<br>peRatio=%{z}<extra></extra>",
         "hovertext": {
          "bdata": "AAAAAACgn0A=",
          "dtype": "f8"
         },
         "legendgroup": "ASML",
         "marker": {
          "color": "#ab63fa",
          "symbol": "circle"
         },
         "mode": "markers",
         "name": "ASML",
         "scene": "scene",
         "showlegend": true,
         "type": "scatter3d",
         "x": {
          "bdata": "QHSXDP452j8=",
          "dtype": "f8"
         },
         "y": {
          "bdata": "BKXtOJJ5yT8=",
          "dtype": "f8"
         },
         "z": {
          "bdata": "+lU+UpKgQUA=",
          "dtype": "f8"
         }
        },
        {
         "hovertemplate": "<b>%{hovertext}</b><br><br>symbol=AZN<br>roe=%{x}<br>debtToEquity=%{y}<br>peRatio=%{z}<extra></extra>",
         "hovertext": {
          "bdata": "AAAAAACgn0A=",
          "dtype": "f8"
         },
         "legendgroup": "AZN",
         "marker": {
          "color": "#FFA15A",
          "symbol": "circle"
         },
         "mode": "markers",
         "name": "AZN",
         "scene": "scene",
         "showlegend": true,
         "type": "scatter3d",
         "x": {
          "bdata": "pL+VjwIUxj8=",
          "dtype": "f8"
         },
         "y": {
          "bdata": "6AyciX6g5z8=",
          "dtype": "f8"
         },
         "z": {
          "bdata": "RSWwDVDuPEA=",
          "dtype": "f8"
         }
        },
        {
         "hovertemplate": "<b>%{hovertext}</b><br><br>symbol=TEAM<br>roe=%{x}<br>debtToEquity=%{y}<br>peRatio=%{z}<extra></extra>",
         "hovertext": {
          "bdata": "AAAAAACgn0A=",
          "dtype": "f8"
         },
         "legendgroup": "TEAM",
         "marker": {
          "color": "#19d3f3",
          "symbol": "circle"
         },
         "mode": "markers",
         "name": "TEAM",
         "scene": "scene",
         "showlegend": true,
         "type": "scatter3d",
         "x": {
          "bdata": "6f7LbBmf0r8=",
          "dtype": "f8"
         },
         "y": {
          "bdata": "QMdV+4Za8z8=",
          "dtype": "f8"
         },
         "z": {
          "bdata": "v8b9Hnk2Y8A=",
          "dtype": "f8"
         }
        },
        {
         "hovertemplate": "<b>%{hovertext}</b><br><br>symbol=ADSK<br>roe=%{x}<br>debtToEquity=%{y}<br>peRatio=%{z}<extra></extra>",
         "hovertext": {
          "bdata": "AAAAAACgn0A=",
          "dtype": "f8"
         },
         "legendgroup": "ADSK",
         "marker": {
          "color": "#FF6692",
          "symbol": "circle"
         },
         "mode": "markers",
         "name": "ADSK",
         "scene": "scene",
         "showlegend": true,
         "type": "scatter3d",
         "x": {
          "bdata": "vFTmxRpC3z8=",
          "dtype": "f8"
         },
         "y": {
          "bdata": "evZ6O2+m9j8=",
          "dtype": "f8"
         },
         "z": {
          "bdata": "v3frdJ9JTkA=",
          "dtype": "f8"
         }
        },
        {
         "hovertemplate": "<b>%{hovertext}</b><br><br>symbol=ADP<br>roe=%{x}<br>debtToEquity=%{y}<br>peRatio=%{z}<extra></extra>",
         "hovertext": {
          "bdata": "AAAAAACgn0A=",
          "dtype": "f8"
         },
         "legendgroup": "ADP",
         "marker": {
          "color": "#B6E880",
          "symbol": "circle"
         },
         "mode": "markers",
         "name": "ADP",
         "scene": "scene",
         "showlegend": true,
         "type": "scatter3d",
         "x": {
          "bdata": "JINAd9Bm6j8=",
          "dtype": "f8"
         },
         "y": {
          "bdata": "Tqy8fbAS6j8=",
          "dtype": "f8"
         },
         "z": {
          "bdata": "Db8XwmDKOUA=",
          "dtype": "f8"
         }
        },
        {
         "hovertemplate": "<b>%{hovertext}</b><br><br>symbol=AXON<br>roe=%{x}<br>debtToEquity=%{y}<br>peRatio=%{z}<extra></extra>",
         "hovertext": {
          "bdata": "AAAAAACgn0A=",
          "dtype": "f8"
         },
         "legendgroup": "AXON",
         "marker": {
          "color": "#FF97FF",
          "symbol": "circle"
         },
         "mode": "markers",
         "name": "AXON",
         "scene": "scene",
         "showlegend": true,
         "type": "scatter3d",
         "x": {
          "bdata": "3pSwe767xD8=",
          "dtype": "f8"
         },
         "y": {
          "bdata": "A62h9LbX0z8=",
          "dtype": "f8"
         },
         "z": {
          "bdata": "V34QqbfZXUA=",
          "dtype": "f8"
         }
        },
        {
         "hovertemplate": "<b>%{hovertext}</b><br><br>symbol=BKR<br>roe=%{x}<br>debtToEquity=%{y}<br>peRatio=%{z}<extra></extra>",
         "hovertext": {
          "bdata": "AAAAAACgn0A=",
          "dtype": "f8"
         },
         "legendgroup": "BKR",
         "marker": {
          "color": "#FECB52",
          "symbol": "circle"
         },
         "mode": "markers",
         "name": "BKR",
         "scene": "scene",
         "showlegend": true,
         "type": "scatter3d",
         "x": {
          "bdata": "f9RttZdbxj8=",
          "dtype": "f8"
         },
         "y": {
          "bdata": "luZCCQma1j8=",
          "dtype": "f8"
         },
         "z": {
          "bdata": "6K4yRruHK0A=",
          "dtype": "f8"
         }
        },
        {
         "hovertemplate": "<b>%{hovertext}</b><br><br>symbol=BIIB<br>roe=%{x}<br>debtToEquity=%{y}<br>peRatio=%{z}<extra></extra>",
         "hovertext": {
          "bdata": "AAAAAACgn0A=",
          "dtype": "f8"
         },
         "legendgroup": "BIIB",
         "marker": {
          "color": "#636efa",
          "symbol": "circle"
         },
         "mode": "markers",
         "name": "BIIB",
         "scene": "scene",
         "showlegend": true,
         "type": "scatter3d",
         "x": {
          "bdata": "+tf9TyH/uD8=",
          "dtype": "f8"
         },
         "y": {
          "bdata": "QLgfPZ1i2T8=",
          "dtype": "f8"
         },
         "z": {
          "bdata": "FsOfMhZNK0A=",
          "dtype": "f8"
         }
        },
        {
         "hovertemplate": "<b>%{hovertext}</b><br><br>symbol=BKNG<br>roe=%{x}<br>debtToEquity=%{y}<br>peRatio=%{z}<extra></extra>",
         "hovertext": {
          "bdata": "AAAAAACgn0A=",
          "dtype": "f8"
         },
         "legendgroup": "BKNG",
         "marker": {
          "color": "#EF553B",
          "symbol": "circle"
         },
         "mode": "markers",
         "name": "BKNG",
         "scene": "scene",
         "showlegend": true,
         "type": "scatter3d",
         "x": {
          "bdata": "zbGetTNp978=",
          "dtype": "f8"
         },
         "y": {
          "bdata": "T80CKfv+EMA=",
          "dtype": "f8"
         },
         "z": {
          "bdata": "/eQx6F9mPEA=",
          "dtype": "f8"
         }
        },
        {
         "hovertemplate": "<b>%{hovertext}</b><br><br>symbol=AVGO<br>roe=%{x}<br>debtToEquity=%{y}<br>peRatio=%{z}<extra></extra>",
         "hovertext": {
          "bdata": "AAAAAACgn0A=",
          "dtype": "f8"
         },
         "legendgroup": "AVGO",
         "marker": {
          "color": "#00cc96",
          "symbol": "circle"
         },
         "mode": "markers",
         "name": "AVGO",
         "scene": "scene",
         "showlegend": true,
         "type": "scatter3d",
         "x": {
          "bdata": "VHnGi2xMtj8=",
          "dtype": "f8"
         },
         "y": {
          "bdata": "NjfibnHy7z8=",
          "dtype": "f8"
         },
         "z": {
          "bdata": "VdWaf7SGYEA=",
          "dtype": "f8"
         }
        },
        {
         "hovertemplate": "<b>%{hovertext}</b><br><br>symbol=CDNS<br>roe=%{x}<br>debtToEquity=%{y}<br>peRatio=%{z}<extra></extra>",
         "hovertext": {
          "bdata": "AAAAAACgn0A=",
          "dtype": "f8"
         },
         "legendgroup": "CDNS",
         "marker": {
          "color": "#ab63fa",
          "symbol": "circle"
         },
         "mode": "markers",
         "name": "CDNS",
         "scene": "scene",
         "showlegend": true,
         "type": "scatter3d",
         "x": {
          "bdata": "D47v31jozD8=",
          "dtype": "f8"
         },
         "y": {
          "bdata": "NtIImFX04D8=",
          "dtype": "f8"
         },
         "z": {
          "bdata": "qSn5TBpNU0A=",
          "dtype": "f8"
         }
        },
        {
         "hovertemplate": "<b>%{hovertext}</b><br><br>symbol=CDW<br>roe=%{x}<br>debtToEquity=%{y}<br>peRatio=%{z}<extra></extra>",
         "hovertext": {
          "bdata": "AAAAAACgn0A=",
          "dtype": "f8"
         },
         "legendgroup": "CDW",
         "marker": {
          "color": "#FFA15A",
          "symbol": "circle"
         },
         "mode": "markers",
         "name": "CDW",
         "scene": "scene",
         "showlegend": true,
         "type": "scatter3d",
         "x": {
          "bdata": "VAS+z7RR3T8=",
          "dtype": "f8"
         },
         "y": {
          "bdata": "TARDZ+JfBEA=",
          "dtype": "f8"
         },
         "z": {
          "bdata": "iHFfzwqbNUA=",
          "dtype": "f8"
         }
        },
        {
         "hovertemplate": "<b>%{hovertext}</b><br><br>symbol=CHTR<br>roe=%{x}<br>debtToEquity=%{y}<br>peRatio=%{z}<extra></extra>",
         "hovertext": {
          "bdata": "AAAAAACgn0A=",
          "dtype": "f8"
         },
         "legendgroup": "CHTR",
         "marker": {
          "color": "#19d3f3",
          "symbol": "circle"
         },
         "mode": "markers",
         "name": "CHTR",
         "scene": "scene",
         "showlegend": true,
         "type": "scatter3d",
         "x": {
          "bdata": "kNmL3+fe1D8=",
          "dtype": "f8"
         },
         "y": {
          "bdata": "mWQRPwAbGEA=",
          "dtype": "f8"
         },
         "z": {
          "bdata": "K4hdjGhLI0A=",
          "dtype": "f8"
         }
        },
        {
         "hovertemplate": "<b>%{hovertext}</b><br><br>symbol=CTAS<br>roe=%{x}<br>debtToEquity=%{y}<br>peRatio=%{z}<extra></extra>",
         "hovertext": {
          "bdata": "AAAAAACgn0A=",
          "dtype": "f8"
         },
         "legendgroup": "CTAS",
         "marker": {
          "color": "#FF6692",
          "symbol": "circle"
         },
         "mode": "markers",
         "name": "CTAS",
         "scene": "scene",
         "showlegend": true,
         "type": "scatter3d",
         "x": {
          "bdata": "fnuiA2tN1z8=",
          "dtype": "f8"
         },
         "y": {
          "bdata": "bE4vCrnH4z8=",
          "dtype": "f8"
         },
         "z": {
          "bdata": "3rWb+v3sRUA=",
          "dtype": "f8"
         }
        },
        {
         "hovertemplate": "<b>%{hovertext}</b><br><br>symbol=CSCO<br>roe=%{x}<br>debtToEquity=%{y}<br>peRatio=%{z}<extra></extra>",
         "hovertext": {
          "bdata": "AAAAAACgn0A=",
          "dtype": "f8"
         },
         "legendgroup": "CSCO",
         "marker": {
          "color": "#B6E880",
          "symbol": "circle"
         },
         "mode": "markers",
         "name": "CSCO",
         "scene": "scene",
         "showlegend": true,
         "type": "scatter3d",
         "x": {
          "bdata": "dNZeuD4PzT8=",
          "dtype": "f8"
         },
         "y": {
          "bdata": "NItST8vL5T8=",
          "dtype": "f8"
         },
         "z": {
          "bdata": "c3sgqvTBMkA=",
          "dtype": "f8"
         }
        },
        {
         "hovertemplate": "<b>%{hovertext}</b><br><br>symbol=CTSH<br>roe=%{x}<br>debtToEquity=%{y}<br>peRatio=%{z}<extra></extra>",
         "hovertext": {
          "bdata": "AAAAAACgn0A=",
          "dtype": "f8"
         },
         "legendgroup": "CTSH",
         "marker": {
          "color": "#FF97FF",
          "symbol": "circle"
         },
         "mode": "markers",
         "name": "CTSH",
         "scene": "scene",
         "showlegend": true,
         "type": "scatter3d",
         "x": {
          "bdata": "BDXzCWrmwz8=",
          "dtype": "f8"
         },
         "y": {
          "bdata": "xPMljedLuj8=",
          "dtype": "f8"
         },
         "z": {
          "bdata": "DIhNpSEHMUA=",
          "dtype": "f8"
         }
        },
        {
         "hovertemplate": "<b>%{hovertext}</b><br><br>symbol=CMCSA<br>roe=%{x}<br>debtToEquity=%{y}<br>peRatio=%{z}<extra></extra>",
         "hovertext": {
          "bdata": "AAAAAACgn0A=",
          "dtype": "f8"
         },
         "legendgroup": "CMCSA",
         "marker": {
          "color": "#FECB52",
          "symbol": "circle"
         },
         "mode": "markers",
         "name": "CMCSA",
         "scene": "scene",
         "showlegend": true,
         "type": "scatter3d",
         "x": {
          "bdata": "NhiUg0E5yD8=",
          "dtype": "f8"
         },
         "y": {
          "bdata": "AmAD9dyH8j8=",
          "dtype": "f8"
         },
         "z": {
          "bdata": "PdeSBLMdIkA=",
          "dtype": "f8"
         }
        },
        {
         "hovertemplate": "<b>%{hovertext}</b><br><br>symbol=CEG<br>roe=%{x}<br>debtToEquity=%{y}<br>peRatio=%{z}<extra></extra>",
         "hovertext": {
          "bdata": "AAAAAACgn0A=",
          "dtype": "f8"
         },
         "legendgroup": "CEG",
         "marker": {
          "color": "#636efa",
          "symbol": "circle"
         },
         "mode": "markers",
         "name": "CEG",
         "scene": "scene",
         "showlegend": true,
         "type": "scatter3d",
         "x": {
          "bdata": "FOShK1I50j8=",
          "dtype": "f8"
         },
         "y": {
          "bdata": "7bIxDgVy5D8=",
          "dtype": "f8"
         },
         "z": {
          "bdata": "ut8SavHLMkA=",
          "dtype": "f8"
         }
        },
        {
         "hovertemplate": "<b>%{hovertext}</b><br><br>symbol=CPRT<br>roe=%{x}<br>debtToEquity=%{y}<br>peRatio=%{z}<extra></extra>",
         "hovertext": {
          "bdata": "AAAAAACgn0A=",
          "dtype": "f8"
         },
         "legendgroup": "CPRT",
         "marker": {
          "color": "#EF553B",
          "symbol": "circle"
         },
         "mode": "markers",
         "name": "CPRT",
         "scene": "scene",
         "showlegend": true,
         "type": "scatter3d",
         "x": {
          "bdata": "NAfi9h4wxz8=",
          "dtype": "f8"
         },
         "y": {
          "bdata": "n78SgMYokD8=",
          "dtype": "f8"
         },
         "z": {
          "bdata": "69sYM1NxQkA=",
          "dtype": "f8"
         }
        },
        {
         "hovertemplate": "<b>%{hovertext}</b><br><br>symbol=CSGP<br>roe=%{x}<br>debtToEquity=%{y}<br>peRatio=%{z}<extra></extra>",
         "hovertext": {
          "bdata": "AAAAAACgn0A=",
          "dtype": "f8"
         },
         "legendgroup": "CSGP",
         "marker": {
          "color": "#00cc96",
          "symbol": "circle"
         },
         "mode": "markers",
         "name": "CSGP",
         "scene": "scene",
         "showlegend": true,
         "type": "scatter3d",
         "x": {
          "bdata": "W4KEWpTNkj8=",
          "dtype": "f8"
         },
         "y": {
          "bdata": "l5tg6bx8lT8=",
          "dtype": "f8"
         },
         "z": {
          "bdata": "IN27fsY2akA=",
          "dtype": "f8"
         }
        },
        {
         "hovertemplate": "<b>%{hovertext}</b><br><br>symbol=COST<br>roe=%{x}<br>debtToEquity=%{y}<br>peRatio=%{z}<extra></extra>",
         "hovertext": {
          "bdata": "AAAAAACgn0A=",
          "dtype": "f8"
         },
         "legendgroup": "COST",
         "marker": {
          "color": "#ab63fa",
          "symbol": "circle"
         },
         "mode": "markers",
         "name": "COST",
         "scene": "scene",
         "showlegend": true,
         "type": "scatter3d",
         "x": {
          "bdata": "YSl5zq710z8=",
          "dtype": "f8"
         },
         "y": {
          "bdata": "gSKY52Fp1j8=",
          "dtype": "f8"
         },
         "z": {
          "bdata": "272wPdjiSkA=",
          "dtype": "f8"
         }
        },
        {
         "hovertemplate": "<b>%{hovertext}</b><br><br>symbol=CRWD<br>roe=%{x}<br>debtToEquity=%{y}<br>peRatio=%{z}<extra></extra>",
         "hovertext": {
          "bdata": "AAAAAACgn0A=",
          "dtype": "f8"
         },
         "legendgroup": "CRWD",
         "marker": {
          "color": "#FFA15A",
          "symbol": "circle"
         },
         "mode": "markers",
         "name": "CRWD",
         "scene": "scene",
         "showlegend": true,
         "type": "scatter3d",
         "x": {
          "bdata": "GKGf9dLZoz8=",
          "dtype": "f8"
         },
         "y": {
          "bdata": "nZl9ZFYG1j8=",
          "dtype": "f8"
         },
         "z": {
          "bdata": "R7D10U5riEA=",
          "dtype": "f8"
         }
        },
        {
         "hovertemplate": "<b>%{hovertext}</b><br><br>symbol=CSX<br>roe=%{x}<br>debtToEquity=%{y}<br>peRatio=%{z}<extra></extra>",
         "hovertext": {
          "bdata": "AAAAAACgn0A=",
          "dtype": "f8"
         },
         "legendgroup": "CSX",
         "marker": {
          "color": "#19d3f3",
          "symbol": "circle"
         },
         "mode": "markers",
         "name": "CSX",
         "scene": "scene",
         "showlegend": true,
         "type": "scatter3d",
         "x": {
          "bdata": "YPQnIKfB0T8=",
          "dtype": "f8"
         },
         "y": {
          "bdata": "zu3nRwVatj8=",
          "dtype": "f8"
         },
         "z": {
          "bdata": "LxU1AhYBMkA=",
          "dtype": "f8"
         }
        },
        {
         "hovertemplate": "<b>%{hovertext}</b><br><br>symbol=DDOG<br>roe=%{x}<br>debtToEquity=%{y}<br>peRatio=%{z}<extra></extra>",
         "hovertext": {
          "bdata": "AAAAAACgn0A=",
          "dtype": "f8"
         },
         "legendgroup": "DDOG",
         "marker": {
          "color": "#FF6692",
          "symbol": "circle"
         },
         "mode": "markers",
         "name": "DDOG",
         "scene": "scene",
         "showlegend": true,
         "type": "scatter3d",
         "x": {
          "bdata": "DeJuT2RUsT8=",
          "dtype": "f8"
         },
         "y": {
          "bdata": "OhL4Hry35T8=",
          "dtype": "f8"
         },
         "z": {
          "bdata": "/dAQxMhWcEA=",
          "dtype": "f8"
         }
        },
        {
         "hovertemplate": "<b>%{hovertext}</b><br><br>symbol=DXCM<br>roe=%{x}<br>debtToEquity=%{y}<br>peRatio=%{z}<extra></extra>",
         "hovertext": {
          "bdata": "AAAAAACgn0A=",
          "dtype": "f8"
         },
         "legendgroup": "DXCM",
         "marker": {
          "color": "#B6E880",
          "symbol": "circle"
         },
         "mode": "markers",
         "name": "DXCM",
         "scene": "scene",
         "showlegend": true,
         "type": "scatter3d",
         "x": {
          "bdata": "l1fDCuaJ0T8=",
          "dtype": "f8"
         },
         "y": {
          "bdata": "i5E3tnU+8z8=",
          "dtype": "f8"
         },
         "z": {
          "bdata": "fG8IlGJOS0A=",
          "dtype": "f8"
         }
        },
        {
         "hovertemplate": "<b>%{hovertext}</b><br><br>symbol=FANG<br>roe=%{x}<br>debtToEquity=%{y}<br>peRatio=%{z}<extra></extra>",
         "hovertext": {
          "bdata": "AAAAAACgn0A=",
          "dtype": "f8"
         },
         "legendgroup": "FANG",
         "marker": {
          "color": "#FF97FF",
          "symbol": "circle"
         },
         "mode": "markers",
         "name": "FANG",
         "scene": "scene",
         "showlegend": true,
         "type": "scatter3d",
         "x": {
          "bdata": "z7xtQhiltj8=",
          "dtype": "f8"
         },
         "y": {
          "bdata": "AN8VARxsmD8=",
          "dtype": "f8"
         },
         "z": {
          "bdata": "ajsh+TH2JEA=",
          "dtype": "f8"
         }
        },
        {
         "hovertemplate": "<b>%{hovertext}</b><br><br>symbol=DASH<br>roe=%{x}<br>debtToEquity=%{y}<br>peRatio=%{z}<extra></extra>",
         "hovertext": {
          "bdata": "AAAAAACgn0A=",
          "dtype": "f8"
         },
         "legendgroup": "DASH",
         "marker": {
          "color": "#FECB52",
          "symbol": "circle"
         },
         "mode": "markers",
         "name": "DASH",
         "scene": "scene",
         "showlegend": true,
         "type": "scatter3d",
         "x": {
          "bdata": "d3RgTDgkkD8=",
          "dtype": "f8"
         },
         "y": {
          "bdata": "J1EinsSVsT8=",
          "dtype": "f8"
         },
         "z": {
          "bdata": "2OO0cEGKgUA=",
          "dtype": "f8"
         }
        },
        {
         "hovertemplate": "<b>%{hovertext}</b><br><br>symbol=EA<br>roe=%{x}<br>debtToEquity=%{y}<br>peRatio=%{z}<extra></extra>",
         "hovertext": {
          "bdata": "AAAAAACgn0A=",
          "dtype": "f8"
         },
         "legendgroup": "EA",
         "marker": {
          "color": "#636efa",
          "symbol": "circle"
         },
         "mode": "markers",
         "name": "EA",
         "scene": "scene",
         "showlegend": true,
         "type": "scatter3d",
         "x": {
          "bdata": "oBDYszKwxT8=",
          "dtype": "f8"
         },
         "y": {
          "bdata": "fuIxiBuY0D8=",
          "dtype": "f8"
         },
         "z": {
          "bdata": "UfhKGPRHPEA=",
          "dtype": "f8"
         }
        },
        {
         "hovertemplate": "<b>%{hovertext}</b><br><br>symbol=EXC<br>roe=%{x}<br>debtToEquity=%{y}<br>peRatio=%{z}<extra></extra>",
         "hovertext": {
          "bdata": "AAAAAACgn0A=",
          "dtype": "f8"
         },
         "legendgroup": "EXC",
         "marker": {
          "color": "#EF553B",
          "symbol": "circle"
         },
         "mode": "markers",
         "name": "EXC",
         "scene": "scene",
         "showlegend": true,
         "type": "scatter3d",
         "x": {
          "bdata": "MLOSdZRktz8=",
          "dtype": "f8"
         },
         "y": {
          "bdata": "HvZ2UiAR3z8=",
          "dtype": "f8"
         },
         "z": {
          "bdata": "yxflr4SxLkA=",
          "dtype": "f8"
         }
        },
        {
         "hovertemplate": "<b>%{hovertext}</b><br><br>symbol=FAST<br>roe=%{x}<br>debtToEquity=%{y}<br>peRatio=%{z}<extra></extra>",
         "hovertext": {
          "bdata": "AAAAAACgn0A=",
          "dtype": "f8"
         },
         "legendgroup": "FAST",
         "marker": {
          "color": "#00cc96",
          "symbol": "circle"
         },
         "mode": "markers",
         "name": "FAST",
         "scene": "scene",
         "showlegend": true,
         "type": "scatter3d",
         "x": {
          "bdata": "xCY00+dc1D8=",
          "dtype": "f8"
         },
         "y": {
          "bdata": "Ij0B200uwT8=",
          "dtype": "f8"
         },
         "z": {
          "bdata": "WKk603DlQUA=",
          "dtype": "f8"
         }
        },
        {
         "hovertemplate": "<b>%{hovertext}</b><br><br>symbol=FTNT<br>roe=%{x}<br>debtToEquity=%{y}<br>peRatio=%{z}<extra></extra>",
         "hovertext": {
          "bdata": "AAAAAACgn0A=",
          "dtype": "f8"
         },
         "legendgroup": "FTNT",
         "marker": {
          "color": "#ab63fa",
          "symbol": "circle"
         },
         "mode": "markers",
         "name": "FTNT",
         "scene": "scene",
         "showlegend": true,
         "type": "scatter3d",
         "x": {
          "bdata": "kDECwFax8j8=",
          "dtype": "f8"
         },
         "y": {
          "bdata": "cUUu4r1M5T8=",
          "dtype": "f8"
         },
         "z": {
          "bdata": "F+dxf/GwREA=",
          "dtype": "f8"
         }
        },
        {
         "hovertemplate": "<b>%{hovertext}</b><br><br>symbol=GEHC<br>roe=%{x}<br>debtToEquity=%{y}<br>peRatio=%{z}<extra></extra>",
         "hovertext": {
          "bdata": "AAAAAACgn0A=",
          "dtype": "f8"
         },
         "legendgroup": "GEHC",
         "marker": {
          "color": "#FFA15A",
          "symbol": "circle"
         },
         "mode": "markers",
         "name": "GEHC",
         "scene": "scene",
         "showlegend": true,
         "type": "scatter3d",
         "x": {
          "bdata": "XpdBOkE0zj8=",
          "dtype": "f8"
         },
         "y": {
          "bdata": "s6Dbp1HDxj8=",
          "dtype": "f8"
         },
         "z": {
          "bdata": "C2B80TzjMUA=",
          "dtype": "f8"
         }
        },
        {
         "hovertemplate": "<b>%{hovertext}</b><br><br>symbol=GILD<br>roe=%{x}<br>debtToEquity=%{y}<br>peRatio=%{z}<extra></extra>",
         "hovertext": {
          "bdata": "AAAAAACgn0A=",
          "dtype": "f8"
         },
         "legendgroup": "GILD",
         "marker": {
          "color": "#19d3f3",
          "symbol": "circle"
         },
         "mode": "markers",
         "name": "GILD",
         "scene": "scene",
         "showlegend": true,
         "type": "scatter3d",
         "x": {
          "bdata": "7UlVbIZtmT8=",
          "dtype": "f8"
         },
         "y": {
          "bdata": "n2gSiQmYxD8=",
          "dtype": "f8"
         },
         "z": {
          "bdata": "sp3vpwb/bUA=",
          "dtype": "f8"
         }
        },
        {
         "hovertemplate": "<b>%{hovertext}</b><br><br>symbol=GFS<br>roe=%{x}<br>debtToEquity=%{y}<br>peRatio=%{z}<extra></extra>",
         "hovertext": {
          "bdata": "AAAAAACgn0A=",
          "dtype": "f8"
         },
         "legendgroup": "GFS",
         "marker": {
          "color": "#FF6692",
          "symbol": "circle"
         },
         "mode": "markers",
         "name": "GFS",
         "scene": "scene",
         "showlegend": true,
         "type": "scatter3d",
         "x": {
          "bdata": "qEM0D5Aumb8=",
          "dtype": "f8"
         },
         "y": {
          "bdata": "N/Cw3w19yj8=",
          "dtype": "f8"
         },
         "z": {
          "bdata": "12AbVVVZVsA=",
          "dtype": "f8"
         }
        },
        {
         "hovertemplate": "<b>%{hovertext}</b><br><br>symbol=IDXX<br>roe=%{x}<br>debtToEquity=%{y}<br>peRatio=%{z}<extra></extra>",
         "hovertext": {
          "bdata": "AAAAAACgn0A=",
          "dtype": "f8"
         },
         "legendgroup": "IDXX",
         "marker": {
          "color": "#B6E880",
          "symbol": "circle"
         },
         "mode": "markers",
         "name": "IDXX",
         "scene": "scene",
         "showlegend": true,
         "type": "scatter3d",
         "x": {
          "bdata": "q8d2GDzP4T8=",
          "dtype": "f8"
         },
         "y": {
          "bdata": "9OWuCPFPxT8=",
          "dtype": "f8"
         },
         "z": {
          "bdata": "TldLTqMpQ0A=",
          "dtype": "f8"
         }
        },
        {
         "hovertemplate": "<b>%{hovertext}</b><br><br>symbol=INTC<br>roe=%{x}<br>debtToEquity=%{y}<br>peRatio=%{z}<extra></extra>",
         "hovertext": {
          "bdata": "AAAAAACgn0A=",
          "dtype": "f8"
         },
         "legendgroup": "INTC",
         "marker": {
          "color": "#FF97FF",
          "symbol": "circle"
         },
         "mode": "markers",
         "name": "INTC",
         "scene": "scene",
         "showlegend": true,
         "type": "scatter3d",
         "x": {
          "bdata": "e6z0WykvyL8=",
          "dtype": "f8"
         },
         "y": {
          "bdata": "lagGRwcf4D8=",
          "dtype": "f8"
         },
         "z": {
          "bdata": "3tE8xoGHEsA=",
          "dtype": "f8"
         }
        },
        {
         "hovertemplate": "<b>%{hovertext}</b><br><br>symbol=INTU<br>roe=%{x}<br>debtToEquity=%{y}<br>peRatio=%{z}<extra></extra>",
         "hovertext": {
          "bdata": "AAAAAACgn0A=",
          "dtype": "f8"
         },
         "legendgroup": "INTU",
         "marker": {
          "color": "#FECB52",
          "symbol": "circle"
         },
         "mode": "markers",
         "name": "INTU",
         "scene": "scene",
         "showlegend": true,
         "type": "scatter3d",
         "x": {
          "bdata": "iy3MpGmSxD8=",
          "dtype": "f8"
         },
         "y": {
          "bdata": "+Xh+GxHM1j8=",
          "dtype": "f8"
         },
         "z": {
          "bdata": "7+Gzaj+WTkA=",
          "dtype": "f8"
         }
        },
        {
         "hovertemplate": "<b>%{hovertext}</b><br><br>symbol=ISRG<br>roe=%{x}<br>debtToEquity=%{y}<br>peRatio=%{z}<extra></extra>",
         "hovertext": {
          "bdata": "AAAAAACgn0A=",
          "dtype": "f8"
         },
         "legendgroup": "ISRG",
         "marker": {
          "color": "#636efa",
          "symbol": "circle"
         },
         "mode": "markers",
         "name": "ISRG",
         "scene": "scene",
         "showlegend": true,
         "type": "scatter3d",
         "x": {
          "bdata": "vLlA0iYXwj8=",
          "dtype": "f8"
         },
         "y": {
          "bdata": "AAAAAAAAAAA=",
          "dtype": "f8"
         },
         "z": {
          "bdata": "Jql2QcP0U0A=",
          "dtype": "f8"
         }
        },
        {
         "hovertemplate": "<b>%{hovertext}</b><br><br>symbol=KDP<br>roe=%{x}<br>debtToEquity=%{y}<br>peRatio=%{z}<extra></extra>",
         "hovertext": {
          "bdata": "AAAAAACgn0A=",
          "dtype": "f8"
         },
         "legendgroup": "KDP",
         "marker": {
          "color": "#EF553B",
          "symbol": "circle"
         },
         "mode": "markers",
         "name": "KDP",
         "scene": "scene",
         "showlegend": true,
         "type": "scatter3d",
         "x": {
          "bdata": "KGUwA+Zurj8=",
          "dtype": "f8"
         },
         "y": {
          "bdata": "n+80aRfN5j8=",
          "dtype": "f8"
         },
         "z": {
          "bdata": "gCZnFhFdPkA=",
          "dtype": "f8"
         }
        },
        {
         "hovertemplate": "<b>%{hovertext}</b><br><br>symbol=KLAC<br>roe=%{x}<br>debtToEquity=%{y}<br>peRatio=%{z}<extra></extra>",
         "hovertext": {
          "bdata": "AAAAAACgn0A=",
          "dtype": "f8"
         },
         "legendgroup": "KLAC",
         "marker": {
          "color": "#00cc96",
          "symbol": "circle"
         },
         "mode": "markers",
         "name": "KLAC",
         "scene": "scene",
         "showlegend": true,
         "type": "scatter3d",
         "x": {
          "bdata": "4xOe2x096j8=",
          "dtype": "f8"
         },
         "y": {
          "bdata": "5KsOHnUyAEA=",
          "dtype": "f8"
         },
         "z": {
          "bdata": "b9/36FxIREA=",
          "dtype": "f8"
         }
        },
        {
         "hovertemplate": "<b>%{hovertext}</b><br><br>symbol=KHC<br>roe=%{x}<br>debtToEquity=%{y}<br>peRatio=%{z}<extra></extra>",
         "hovertext": {
          "bdata": "AAAAAACgn0A=",
          "dtype": "f8"
         },
         "legendgroup": "KHC",
         "marker": {
          "color": "#ab63fa",
          "symbol": "circle"
         },
         "mode": "markers",
         "name": "KHC",
         "scene": "scene",
         "showlegend": true,
         "type": "scatter3d",
         "x": {
          "bdata": "Pd+ugmyQrD8=",
          "dtype": "f8"
         },
         "y": {
          "bdata": "VVAV4bMA2T8=",
          "dtype": "f8"
         },
         "z": {
          "bdata": "y65fBbQOK0A=",
          "dtype": "f8"
         }
        },
        {
         "hovertemplate": "<b>%{hovertext}</b><br><br>symbol=LRCX<br>roe=%{x}<br>debtToEquity=%{y}<br>peRatio=%{z}<extra></extra>",
         "hovertext": {
          "bdata": "AAAAAACgn0A=",
          "dtype": "f8"
         },
         "legendgroup": "LRCX",
         "marker": {
          "color": "#FFA15A",
          "symbol": "circle"
         },
         "mode": "markers",
         "name": "LRCX",
         "scene": "scene",
         "showlegend": true,
         "type": "scatter3d",
         "x": {
          "bdata": "zvxm+g2w3D8=",
          "dtype": "f8"
         },
         "y": {
          "bdata": "k5vyWpKs4j8=",
          "dtype": "f8"
         },
         "z": {
          "bdata": "a2mDaZ80QkA=",
          "dtype": "f8"
         }
        },
        {
         "hovertemplate": "<b>%{hovertext}</b><br><br>symbol=LIN<br>roe=%{x}<br>debtToEquity=%{y}<br>peRatio=%{z}<extra></extra>",
         "hovertext": {
          "bdata": "AAAAAACgn0A=",
          "dtype": "f8"
         },
         "legendgroup": "LIN",
         "marker": {
          "color": "#19d3f3",
          "symbol": "circle"
         },
         "mode": "markers",
         "name": "LIN",
         "scene": "scene",
         "showlegend": true,
         "type": "scatter3d",
         "x": {
          "bdata": "+bPDMG4Pxj8=",
          "dtype": "f8"
         },
         "y": {
          "bdata": "WwQqhzQq4j8=",
          "dtype": "f8"
         },
         "z": {
          "bdata": "55x5S0a9PkA=",
          "dtype": "f8"
         }
        },
        {
         "hovertemplate": "<b>%{hovertext}</b><br><br>symbol=MAR<br>roe=%{x}<br>debtToEquity=%{y}<br>peRatio=%{z}<extra></extra>",
         "hovertext": {
          "bdata": "AAAAAACgn0A=",
          "dtype": "f8"
         },
         "legendgroup": "MAR",
         "marker": {
          "color": "#FF6692",
          "symbol": "circle"
         },
         "mode": "markers",
         "name": "MAR",
         "scene": "scene",
         "showlegend": true,
         "type": "scatter3d",
         "x": {
          "bdata": "LFG7ErUr978=",
          "dtype": "f8"
         },
         "y": {
          "bdata": "VadidSqWIsA=",
          "dtype": "f8"
         },
         "z": {
          "bdata": "utHZ3n2wQEA=",
          "dtype": "f8"
         }
        },
        {
         "hovertemplate": "<b>%{hovertext}</b><br><br>symbol=MRVL<br>roe=%{x}<br>debtToEquity=%{y}<br>peRatio=%{z}<extra></extra>",
         "hovertext": {
          "bdata": "AAAAAACgn0A=",
          "dtype": "f8"
         },
         "legendgroup": "MRVL",
         "marker": {
          "color": "#B6E880",
          "symbol": "circle"
         },
         "mode": "markers",
         "name": "MRVL",
         "scene": "scene",
         "showlegend": true,
         "type": "scatter3d",
         "x": {
          "bdata": "Ni+GEnIcsL8=",
          "dtype": "f8"
         },
         "y": {
          "bdata": "Kypo6gr+0j8=",
          "dtype": "f8"
         },
         "z": {
          "bdata": "zipZqyYoT8A=",
          "dtype": "f8"
         }
        },
        {
         "hovertemplate": "<b>%{hovertext}</b><br><br>symbol=META<br>roe=%{x}<br>debtToEquity=%{y}<br>peRatio=%{z}<extra></extra>",
         "hovertext": {
          "bdata": "AAAAAACgn0A=",
          "dtype": "f8"
         },
         "legendgroup": "META",
         "marker": {
          "color": "#FF97FF",
          "symbol": "circle"
         },
         "mode": "markers",
         "name": "META",
         "scene": "scene",
         "showlegend": true,
         "type": "scatter3d",
         "x": {
          "bdata": "ZOeZ3TDa1T8=",
          "dtype": "f8"
         },
         "y": {
          "bdata": "ERMxERMx0T8=",
          "dtype": "f8"
         },
         "z": {
          "bdata": "inXBZ87KN0A=",
          "dtype": "f8"
         }
        },
        {
         "hovertemplate": "<b>%{hovertext}</b><br><br>symbol=MCHP<br>roe=%{x}<br>debtToEquity=%{y}<br>peRatio=%{z}<extra></extra>",
         "hovertext": {
          "bdata": "AAAAAACgn0A=",
          "dtype": "f8"
         },
         "legendgroup": "MCHP",
         "marker": {
          "color": "#FECB52",
          "symbol": "circle"
         },
         "mode": "markers",
         "name": "MCHP",
         "scene": "scene",
         "showlegend": true,
         "type": "scatter3d",
         "x": {
          "bdata": "iP6GfqNU0j8=",
          "dtype": "f8"
         },
         "y": {
          "bdata": "xpaaKnz+7D8=",
          "dtype": "f8"
         },
         "z": {
          "bdata": "vIXfP8OBOUA=",
          "dtype": "f8"
         }
        },
        {
         "hovertemplate": "<b>%{hovertext}</b><br><br>symbol=MU<br>roe=%{x}<br>debtToEquity=%{y}<br>peRatio=%{z}<extra></extra>",
         "hovertext": {
          "bdata": "AAAAAACgn0A=",
          "dtype": "f8"
         },
         "legendgroup": "MU",
         "marker": {
          "color": "#636efa",
          "symbol": "circle"
         },
         "mode": "markers",
         "name": "MU",
         "scene": "scene",
         "showlegend": true,
         "type": "scatter3d",
         "x": {
          "bdata": "BtyR6gWnkT8=",
          "dtype": "f8"
         },
         "y": {
          "bdata": "ag/mdv3c0z8=",
          "dtype": "f8"
         },
         "z": {
          "bdata": "kvJV66T3YEA=",
          "dtype": "f8"
         }
        },
        {
         "hovertemplate": "<b>%{hovertext}</b><br><br>symbol=MSFT<br>roe=%{x}<br>debtToEquity=%{y}<br>peRatio=%{z}<extra></extra>",
         "hovertext": {
          "bdata": "AAAAAACgn0A=",
          "dtype": "f8"
         },
         "legendgroup": "MSFT",
         "marker": {
          "color": "#EF553B",
          "symbol": "circle"
         },
         "mode": "markers",
         "name": "MSFT",
         "scene": "scene",
         "showlegend": true,
         "type": "scatter3d",
         "x": {
          "bdata": "WnCD548C1T8=",
          "dtype": "f8"
         },
         "y": {
          "bdata": "uvwzE3kA0D8=",
          "dtype": "f8"
         },
         "z": {
          "bdata": "IBrVaA1BQ0A=",
          "dtype": "f8"
         }
        },
        {
         "hovertemplate": "<b>%{hovertext}</b><br><br>symbol=MDLZ<br>roe=%{x}<br>debtToEquity=%{y}<br>peRatio=%{z}<extra></extra>",
         "hovertext": {
          "bdata": "AAAAAACgn0A=",
          "dtype": "f8"
         },
         "legendgroup": "MDLZ",
         "marker": {
          "color": "#00cc96",
          "symbol": "circle"
         },
         "mode": "markers",
         "name": "MDLZ",
         "scene": "scene",
         "showlegend": true,
         "type": "scatter3d",
         "x": {
          "bdata": "4rYO8SzqxT8=",
          "dtype": "f8"
         },
         "y": {
          "bdata": "DmmJakbU5T8=",
          "dtype": "f8"
         },
         "z": {
          "bdata": "sCu/fQR3MUA=",
          "dtype": "f8"
         }
        },
        {
         "hovertemplate": "<b>%{hovertext}</b><br><br>symbol=MNST<br>roe=%{x}<br>debtToEquity=%{y}<br>peRatio=%{z}<extra></extra>",
         "hovertext": {
          "bdata": "AAAAAACgn0A=",
          "dtype": "f8"
         },
         "legendgroup": "MNST",
         "marker": {
          "color": "#ab63fa",
          "symbol": "circle"
         },
         "mode": "markers",
         "name": "MNST",
         "scene": "scene",
         "showlegend": true,
         "type": "scatter3d",
         "x": {
          "bdata": "jLX/p/M10D8=",
          "dtype": "f8"
         },
         "y": {
          "bdata": "nMw0uYcRsD8=",
          "dtype": "f8"
         },
         "z": {
          "bdata": "rhCBsjijQUA=",
          "dtype": "f8"
         }
        },
        {
         "hovertemplate": "<b>%{hovertext}</b><br><br>symbol=NFLX<br>roe=%{x}<br>debtToEquity=%{y}<br>peRatio=%{z}<extra></extra>",
         "hovertext": {
          "bdata": "AAAAAACgn0A=",
          "dtype": "f8"
         },
         "legendgroup": "NFLX",
         "marker": {
          "color": "#FFA15A",
          "symbol": "circle"
         },
         "mode": "markers",
         "name": "NFLX",
         "scene": "scene",
         "showlegend": true,
         "type": "scatter3d",
         "x": {
          "bdata": "tNA4TWyI1j8=",
          "dtype": "f8"
         },
         "y": {
          "bdata": "zYycdxcn5D8=",
          "dtype": "f8"
         },
         "z": {
          "bdata": "daeRRQ35RUA=",
          "dtype": "f8"
         }
        },
        {
         "hovertemplate": "<b>%{hovertext}</b><br><br>symbol=NVDA<br>roe=%{x}<br>debtToEquity=%{y}<br>peRatio=%{z}<extra></extra>",
         "hovertext": {
          "bdata": "AAAAAACgn0A=",
          "dtype": "f8"
         },
         "legendgroup": "NVDA",
         "marker": {
          "color": "#19d3f3",
          "symbol": "circle"
         },
         "mode": "markers",
         "name": "NVDA",
         "scene": "scene",
         "showlegend": true,
         "type": "scatter3d",
         "x": {
          "bdata": "rI64PIco5j8=",
          "dtype": "f8"
         },
         "y": {
          "bdata": "Exk337920D8=",
          "dtype": "f8"
         },
         "z": {
          "bdata": "U5MuNenpSUA=",
          "dtype": "f8"
         }
        },
        {
         "hovertemplate": "<b>%{hovertext}</b><br><br>symbol=NXPI<br>roe=%{x}<br>debtToEquity=%{y}<br>peRatio=%{z}<extra></extra>",
         "hovertext": {
          "bdata": "AAAAAACgn0A=",
          "dtype": "f8"
         },
         "legendgroup": "NXPI",
         "marker": {
          "color": "#FF6692",
          "symbol": "circle"
         },
         "mode": "markers",
         "name": "NXPI",
         "scene": "scene",
         "showlegend": true,
         "type": "scatter3d",
         "x": {
          "bdata": "MstZ9UF+0T8=",
          "dtype": "f8"
         },
         "y": {
          "bdata": "pA8R5FXp8j8=",
          "dtype": "f8"
         },
         "z": {
          "bdata": "mEQ3YyoiNUA=",
          "dtype": "f8"
         }
        },
        {
         "hovertemplate": "<b>%{hovertext}</b><br><br>symbol=ORLY<br>roe=%{x}<br>debtToEquity=%{y}<br>peRatio=%{z}<extra></extra>",
         "hovertext": {
          "bdata": "AAAAAACgn0A=",
          "dtype": "f8"
         },
         "legendgroup": "ORLY",
         "marker": {
          "color": "#B6E880",
          "symbol": "circle"
         },
         "mode": "markers",
         "name": "ORLY",
         "scene": "scene",
         "showlegend": true,
         "type": "scatter3d",
         "x": {
          "bdata": "HwSREaba+78=",
          "dtype": "f8"
         },
         "y": {
          "bdata": "80fzcUAcF8A=",
          "dtype": "f8"
         },
         "z": {
          "bdata": "pQ9UxDX8PEA=",
          "dtype": "f8"
         }
        },
        {
         "hovertemplate": "<b>%{hovertext}</b><br><br>symbol=ODFL<br>roe=%{x}<br>debtToEquity=%{y}<br>peRatio=%{z}<extra></extra>",
         "hovertext": {
          "bdata": "AAAAAACgn0A=",
          "dtype": "f8"
         },
         "legendgroup": "ODFL",
         "marker": {
          "color": "#FF97FF",
          "symbol": "circle"
         },
         "mode": "markers",
         "name": "ODFL",
         "scene": "scene",
         "showlegend": true,
         "type": "scatter3d",
         "x": {
          "bdata": "U8W9DDbi0T8=",
          "dtype": "f8"
         },
         "y": {
          "bdata": "7K9lbYvxjD8=",
          "dtype": "f8"
         },
         "z": {
          "bdata": "l0NH5iUDQEA=",
          "dtype": "f8"
         }
        },
        {
         "hovertemplate": "<b>%{hovertext}</b><br><br>symbol=ON<br>roe=%{x}<br>debtToEquity=%{y}<br>peRatio=%{z}<extra></extra>",
         "hovertext": {
          "bdata": "AAAAAACgn0A=",
          "dtype": "f8"
         },
         "legendgroup": "ON",
         "marker": {
          "color": "#FECB52",
          "symbol": "circle"
         },
         "mode": "markers",
         "name": "ON",
         "scene": "scene",
         "showlegend": true,
         "type": "scatter3d",
         "x": {
          "bdata": "1iWrnu7ixj8=",
          "dtype": "f8"
         },
         "y": {
          "bdata": "Y9wUAB9/2D8=",
          "dtype": "f8"
         },
         "z": {
          "bdata": "B/MiGy0iMUA=",
          "dtype": "f8"
         }
        },
        {
         "hovertemplate": "<b>%{hovertext}</b><br><br>symbol=PCAR<br>roe=%{x}<br>debtToEquity=%{y}<br>peRatio=%{z}<extra></extra>",
         "hovertext": {
          "bdata": "AAAAAACgn0A=",
          "dtype": "f8"
         },
         "legendgroup": "PCAR",
         "marker": {
          "color": "#636efa",
          "symbol": "circle"
         },
         "mode": "markers",
         "name": "PCAR",
         "scene": "scene",
         "showlegend": true,
         "type": "scatter3d",
         "x": {
          "bdata": "PyTTWBhuzj8=",
          "dtype": "f8"
         },
         "y": {
          "bdata": "JS0pdb4N7T8=",
          "dtype": "f8"
         },
         "z": {
          "bdata": "FH+2v+ZBKkA=",
          "dtype": "f8"
         }
        },
        {
         "hovertemplate": "<b>%{hovertext}</b><br><br>symbol=PLTR<br>roe=%{x}<br>debtToEquity=%{y}<br>peRatio=%{z}<extra></extra>",
         "hovertext": {
          "bdata": "AAAAAACgn0A=",
          "dtype": "f8"
         },
         "legendgroup": "PLTR",
         "marker": {
          "color": "#EF553B",
          "symbol": "circle"
         },
         "mode": "markers",
         "name": "PLTR",
         "scene": "scene",
         "showlegend": true,
         "type": "scatter3d",
         "x": {
          "bdata": "r+Y2Jg2mtz8=",
          "dtype": "f8"
         },
         "y": {
          "bdata": "kRsjtOB6qD8=",
          "dtype": "f8"
         },
         "z": {
          "bdata": "/dqAOUADd0A=",
          "dtype": "f8"
         }
        },
        {
         "hovertemplate": "<b>%{hovertext}</b><br><br>symbol=PANW<br>roe=%{x}<br>debtToEquity=%{y}<br>peRatio=%{z}<extra></extra>",
         "hovertext": {
          "bdata": "AAAAAACgn0A=",
          "dtype": "f8"
         },
         "legendgroup": "PANW",
         "marker": {
          "color": "#00cc96",
          "symbol": "circle"
         },
         "mode": "markers",
         "name": "PANW",
         "scene": "scene",
         "showlegend": true,
         "type": "scatter3d",
         "x": {
          "bdata": "lffS5QXp3z8=",
          "dtype": "f8"
         },
         "y": {
          "bdata": "VrmM3pJ10T8=",
          "dtype": "f8"
         },
         "z": {
          "bdata": "TOaDK3YbREA=",
          "dtype": "f8"
         }
        },
        {
         "hovertemplate": "<b>%{hovertext}</b><br><br>symbol=PAYX<br>roe=%{x}<br>debtToEquity=%{y}<br>peRatio=%{z}<extra></extra>",
         "hovertext": {
          "bdata": "AAAAAACgn0A=",
          "dtype": "f8"
         },
         "legendgroup": "PAYX",
         "marker": {
          "color": "#ab63fa",
          "symbol": "circle"
         },
         "mode": "markers",
         "name": "PAYX",
         "scene": "scene",
         "showlegend": true,
         "type": "scatter3d",
         "x": {
          "bdata": "wepcJmB23D8=",
          "dtype": "f8"
         },
         "y": {
          "bdata": "SqDUI8zRzT8=",
          "dtype": "f8"
         },
         "z": {
          "bdata": "PT70CYqcOUA=",
          "dtype": "f8"
         }
        },
        {
         "hovertemplate": "<b>%{hovertext}</b><br><br>symbol=PYPL<br>roe=%{x}<br>debtToEquity=%{y}<br>peRatio=%{z}<extra></extra>",
         "hovertext": {
          "bdata": "AAAAAACgn0A=",
          "dtype": "f8"
         },
         "legendgroup": "PYPL",
         "marker": {
          "color": "#FFA15A",
          "symbol": "circle"
         },
         "mode": "markers",
         "name": "PYPL",
         "scene": "scene",
         "showlegend": true,
         "type": "scatter3d",
         "x": {
          "bdata": "fOwTi6z/yT8=",
          "dtype": "f8"
         },
         "y": {
          "bdata": "VpKpLJb33j8=",
          "dtype": "f8"
         },
         "z": {
          "bdata": "isy3J5EtNUA=",
          "dtype": "f8"
         }
        },
        {
         "hovertemplate": "<b>%{hovertext}</b><br><br>symbol=PEP<br>roe=%{x}<br>debtToEquity=%{y}<br>peRatio=%{z}<extra></extra>",
         "hovertext": {
          "bdata": "AAAAAACgn0A=",
          "dtype": "f8"
         },
         "legendgroup": "PEP",
         "marker": {
          "color": "#19d3f3",
          "symbol": "circle"
         },
         "mode": "markers",
         "name": "PEP",
         "scene": "scene",
         "showlegend": true,
         "type": "scatter3d",
         "x": {
          "bdata": "KeIu2CX94D8=",
          "dtype": "f8"
         },
         "y": {
          "bdata": "P2OeFnbuA0A=",
          "dtype": "f8"
         },
         "z": {
          "bdata": "sb0OmqvqNUA=",
          "dtype": "f8"
         }
        },
        {
         "hovertemplate": "<b>%{hovertext}</b><br><br>symbol=QCOM<br>roe=%{x}<br>debtToEquity=%{y}<br>peRatio=%{z}<extra></extra>",
         "hovertext": {
          "bdata": "AAAAAACgn0A=",
          "dtype": "f8"
         },
         "legendgroup": "QCOM",
         "marker": {
          "color": "#FF6692",
          "symbol": "circle"
         },
         "mode": "markers",
         "name": "QCOM",
         "scene": "scene",
         "showlegend": true,
         "type": "scatter3d",
         "x": {
          "bdata": "PUSyBF+02D8=",
          "dtype": "f8"
         },
         "y": {
          "bdata": "5+kNVsDS4T8=",
          "dtype": "f8"
         },
         "z": {
          "bdata": "UpKsND22MkA=",
          "dtype": "f8"
         }
        },
        {
         "hovertemplate": "<b>%{hovertext}</b><br><br>symbol=REGN<br>roe=%{x}<br>debtToEquity=%{y}<br>peRatio=%{z}<extra></extra>",
         "hovertext": {
          "bdata": "AAAAAACgn0A=",
          "dtype": "f8"
         },
         "legendgroup": "REGN",
         "marker": {
          "color": "#B6E880",
          "symbol": "circle"
         },
         "mode": "markers",
         "name": "REGN",
         "scene": "scene",
         "showlegend": true,
         "type": "scatter3d",
         "x": {
          "bdata": "j7lrPN89wz8=",
          "dtype": "f8"
         },
         "y": {
          "bdata": "kh9EG/OVtz8=",
          "dtype": "f8"
         },
         "z": {
          "bdata": "GNe65BtrMUA=",
          "dtype": "f8"
         }
        },
        {
         "hovertemplate": "<b>%{hovertext}</b><br><br>symbol=ROP<br>roe=%{x}<br>debtToEquity=%{y}<br>peRatio=%{z}<extra></extra>",
         "hovertext": {
          "bdata": "AAAAAACgn0A=",
          "dtype": "f8"
         },
         "legendgroup": "ROP",
         "marker": {
          "color": "#FF97FF",
          "symbol": "circle"
         },
         "mode": "markers",
         "name": "ROP",
         "scene": "scene",
         "showlegend": true,
         "type": "scatter3d",
         "x": {
          "bdata": "/m8ljnEFtT8=",
          "dtype": "f8"
         },
         "y": {
          "bdata": "CVOhp4/b2T8=",
          "dtype": "f8"
         },
         "z": {
          "bdata": "m4tc/NT3QUA=",
          "dtype": "f8"
         }
        },
        {
         "hovertemplate": "<b>%{hovertext}</b><br><br>symbol=ROST<br>roe=%{x}<br>debtToEquity=%{y}<br>peRatio=%{z}<extra></extra>",
         "hovertext": {
          "bdata": "AAAAAACgn0A=",
          "dtype": "f8"
         },
         "legendgroup": "ROST",
         "marker": {
          "color": "#FECB52",
          "symbol": "circle"
         },
         "mode": "markers",
         "name": "ROST",
         "scene": "scene",
         "showlegend": true,
         "type": "scatter3d",
         "x": {
          "bdata": "AAAAAAAAAAA=",
          "dtype": "f8"
         },
         "y": {
          "bdata": "AAAAAAAAAAA=",
          "dtype": "f8"
         },
         "z": {
          "bdata": "Hl5f77qpN0A=",
          "dtype": "f8"
         }
        },
        {
         "hovertemplate": "<b>%{hovertext}</b><br><br>symbol=SBUX<br>roe=%{x}<br>debtToEquity=%{y}<br>peRatio=%{z}<extra></extra>",
         "hovertext": {
          "bdata": "AAAAAACgn0A=",
          "dtype": "f8"
         },
         "legendgroup": "SBUX",
         "marker": {
          "color": "#636efa",
          "symbol": "circle"
         },
         "mode": "markers",
         "name": "SBUX",
         "scene": "scene",
         "showlegend": true,
         "type": "scatter3d",
         "x": {
          "bdata": "VJHiExYo4L8=",
          "dtype": "f8"
         },
         "y": {
          "bdata": "usEHZ022C8A=",
          "dtype": "f8"
         },
         "z": {
          "bdata": "txUh2Sd7PUA=",
          "dtype": "f8"
         }
        },
        {
         "hovertemplate": "<b>%{hovertext}</b><br><br>symbol=SNPS<br>roe=%{x}<br>debtToEquity=%{y}<br>peRatio=%{z}<extra></extra>",
         "hovertext": {
          "bdata": "AAAAAACgn0A=",
          "dtype": "f8"
         },
         "legendgroup": "SNPS",
         "marker": {
          "color": "#EF553B",
          "symbol": "circle"
         },
         "mode": "markers",
         "name": "SNPS",
         "scene": "scene",
         "showlegend": true,
         "type": "scatter3d",
         "x": {
          "bdata": "EWZ9ZZ4c0D8=",
          "dtype": "f8"
         },
         "y": {
          "bdata": "ojE/2zd9sz8=",
          "dtype": "f8"
         },
         "z": {
          "bdata": "0Wx15wpgQUA=",
          "dtype": "f8"
         }
        },
        {
         "hovertemplate": "<b>%{hovertext}</b><br><br>symbol=TTWO<br>roe=%{x}<br>debtToEquity=%{y}<br>peRatio=%{z}<extra></extra>",
         "hovertext": {
          "bdata": "AAAAAACgn0A=",
          "dtype": "f8"
         },
         "legendgroup": "TTWO",
         "marker": {
          "color": "#00cc96",
          "symbol": "circle"
         },
         "mode": "markers",
         "name": "TTWO",
         "scene": "scene",
         "showlegend": true,
         "type": "scatter3d",
         "x": {
          "bdata": "gGxGKJ0j5b8=",
          "dtype": "f8"
         },
         "y": {
          "bdata": "/MLyFM7z4z8=",
          "dtype": "f8"
         },
         "z": {
          "bdata": "XxYcuhZCG8A=",
          "dtype": "f8"
         }
        },
        {
         "hovertemplate": "<b>%{hovertext}</b><br><br>symbol=TMUS<br>roe=%{x}<br>debtToEquity=%{y}<br>peRatio=%{z}<extra></extra>",
         "hovertext": {
          "bdata": "AAAAAACgn0A=",
          "dtype": "f8"
         },
         "legendgroup": "TMUS",
         "marker": {
          "color": "#ab63fa",
          "symbol": "circle"
         },
         "mode": "markers",
         "name": "TMUS",
         "scene": "scene",
         "showlegend": true,
         "type": "scatter3d",
         "x": {
          "bdata": "h+Jk6fuBxz8=",
          "dtype": "f8"
         },
         "y": {
          "bdata": "qLojE9gw/D8=",
          "dtype": "f8"
         },
         "z": {
          "bdata": "ihPATJTCNkA=",
          "dtype": "f8"
         }
        },
        {
         "hovertemplate": "<b>%{hovertext}</b><br><br>symbol=TSLA<br>roe=%{x}<br>debtToEquity=%{y}<br>peRatio=%{z}<extra></extra>",
         "hovertext": {
          "bdata": "AAAAAACgn0A=",
          "dtype": "f8"
         },
         "legendgroup": "TSLA",
         "marker": {
          "color": "#FFA15A",
          "symbol": "circle"
         },
         "mode": "markers",
         "name": "TSLA",
         "scene": "scene",
         "showlegend": true,
         "type": "scatter3d",
         "x": {
          "bdata": "C8fXv5DluD8=",
          "dtype": "f8"
         },
         "y": {
          "bdata": "OCfN8QvWvD8=",
          "dtype": "f8"
         },
         "z": {
          "bdata": "kcdFDXvfZkA=",
          "dtype": "f8"
         }
        },
        {
         "hovertemplate": "<b>%{hovertext}</b><br><br>symbol=TXN<br>roe=%{x}<br>debtToEquity=%{y}<br>peRatio=%{z}<extra></extra>",
         "hovertext": {
          "bdata": "AAAAAACgn0A=",
          "dtype": "f8"
         },
         "legendgroup": "TXN",
         "marker": {
          "color": "#19d3f3",
          "symbol": "circle"
         },
         "mode": "markers",
         "name": "TXN",
         "scene": "scene",
         "showlegend": true,
         "type": "scatter3d",
         "x": {
          "bdata": "2J+KCaYr0j8=",
          "dtype": "f8"
         },
         "y": {
          "bdata": "8HZVI0W96T8=",
          "dtype": "f8"
         },
         "z": {
          "bdata": "WYnZhTHRQUA=",
          "dtype": "f8"
         }
        },
        {
         "hovertemplate": "<b>%{hovertext}</b><br><br>symbol=TTD<br>roe=%{x}<br>debtToEquity=%{y}<br>peRatio=%{z}<extra></extra>",
         "hovertext": {
          "bdata": "AAAAAACgn0A=",
          "dtype": "f8"
         },
         "legendgroup": "TTD",
         "marker": {
          "color": "#FF6692",
          "symbol": "circle"
         },
         "mode": "markers",
         "name": "TTD",
         "scene": "scene",
         "showlegend": true,
         "type": "scatter3d",
         "x": {
          "bdata": "D6TNXXkPwT8=",
          "dtype": "f8"
         },
         "y": {
          "bdata": "Q+VNYw0auz8=",
          "dtype": "f8"
         },
         "z": {
          "bdata": "kuHvxb1YYkA=",
          "dtype": "f8"
         }
        },
        {
         "hovertemplate": "<b>%{hovertext}</b><br><br>symbol=VRTX<br>roe=%{x}<br>debtToEquity=%{y}<br>peRatio=%{z}<extra></extra>",
         "hovertext": {
          "bdata": "AAAAAACgn0A=",
          "dtype": "f8"
         },
         "legendgroup": "VRTX",
         "marker": {
          "color": "#B6E880",
          "symbol": "circle"
         },
         "mode": "markers",
         "name": "VRTX",
         "scene": "scene",
         "showlegend": true,
         "type": "scatter3d",
         "x": {
          "bdata": "1knHjR22oL8=",
          "dtype": "f8"
         },
         "y": {
          "bdata": "5rS7KhVLuz8=",
          "dtype": "f8"
         },
         "z": {
          "bdata": "dmIndmIzaMA=",
          "dtype": "f8"
         }
        },
        {
         "hovertemplate": "<b>%{hovertext}</b><br><br>symbol=WBD<br>roe=%{x}<br>debtToEquity=%{y}<br>peRatio=%{z}<extra></extra>",
         "hovertext": {
          "bdata": "AAAAAACgn0A=",
          "dtype": "f8"
         },
         "legendgroup": "WBD",
         "marker": {
          "color": "#FF97FF",
          "symbol": "circle"
         },
         "mode": "markers",
         "name": "WBD",
         "scene": "scene",
         "showlegend": true,
         "type": "scatter3d",
         "x": {
          "bdata": "Bv6KkHY81b8=",
          "dtype": "f8"
         },
         "y": {
          "bdata": "0xFMxhertD8=",
          "dtype": "f8"
         },
         "z": {
          "bdata": "zBnJlPJXAsA=",
          "dtype": "f8"
         }
        },
        {
         "hovertemplate": "<b>%{hovertext}</b><br><br>symbol=WDAY<br>roe=%{x}<br>debtToEquity=%{y}<br>peRatio=%{z}<extra></extra>",
         "hovertext": {
          "bdata": "AAAAAACgn0A=",
          "dtype": "f8"
         },
         "legendgroup": "WDAY",
         "marker": {
          "color": "#FECB52",
          "symbol": "circle"
         },
         "mode": "markers",
         "name": "WDAY",
         "scene": "scene",
         "showlegend": true,
         "type": "scatter3d",
         "x": {
          "bdata": "nLA8Mi/fxT8=",
          "dtype": "f8"
         },
         "y": {
          "bdata": "nhvsabgZ2j8=",
          "dtype": "f8"
         },
         "z": {
          "bdata": "p4Q7aJqKS0A=",
          "dtype": "f8"
         }
        },
        {
         "hovertemplate": "<b>%{hovertext}</b><br><br>symbol=XEL<br>roe=%{x}<br>debtToEquity=%{y}<br>peRatio=%{z}<extra></extra>",
         "hovertext": {
          "bdata": "AAAAAACgn0A=",
          "dtype": "f8"
         },
         "legendgroup": "XEL",
         "marker": {
          "color": "#636efa",
          "symbol": "circle"
         },
         "mode": "markers",
         "name": "XEL",
         "scene": "scene",
         "showlegend": true,
         "type": "scatter3d",
         "x": {
          "bdata": "DTD3TzdjuT8=",
          "dtype": "f8"
         },
         "y": {
          "bdata": "tve74UEw+D8=",
          "dtype": "f8"
         },
         "z": {
          "bdata": "ruWG5pyiM0A=",
          "dtype": "f8"
         }
        },
        {
         "hovertemplate": "<b>%{hovertext}</b><br><br>symbol=ZS<br>roe=%{x}<br>debtToEquity=%{y}<br>peRatio=%{z}<extra></extra>",
         "hovertext": {
          "bdata": "AAAAAACgn0A=",
          "dtype": "f8"
         },
         "legendgroup": "ZS",
         "marker": {
          "color": "#EF553B",
          "symbol": "circle"
         },
         "mode": "markers",
         "name": "ZS",
         "scene": "scene",
         "showlegend": true,
         "type": "scatter3d",
         "x": {
          "bdata": "5h0NzXIwp78=",
          "dtype": "f8"
         },
         "y": {
          "bdata": "F8TrD6cX7z8=",
          "dtype": "f8"
         },
         "z": {
          "bdata": "8jvIMZoOfcA=",
          "dtype": "f8"
         }
        }
       ],
       "layout": {
        "legend": {
         "title": {
          "text": "symbol"
         },
         "tracegroupgap": 0
        },
        "scene": {
         "domain": {
          "x": [
           0,
           1
          ],
          "y": [
           0,
           1
          ]
         },
         "xaxis": {
          "title": {
           "text": "roe"
          }
         },
         "yaxis": {
          "title": {
           "text": "debtToEquity"
          }
         },
         "zaxis": {
          "title": {
           "text": "peRatio"
          }
         }
        },
        "template": {
         "data": {
          "bar": [
           {
            "error_x": {
             "color": "#2a3f5f"
            },
            "error_y": {
             "color": "#2a3f5f"
            },
            "marker": {
             "line": {
              "color": "#E5ECF6",
              "width": 0.5
             },
             "pattern": {
              "fillmode": "overlay",
              "size": 10,
              "solidity": 0.2
             }
            },
            "type": "bar"
           }
          ],
          "barpolar": [
           {
            "marker": {
             "line": {
              "color": "#E5ECF6",
              "width": 0.5
             },
             "pattern": {
              "fillmode": "overlay",
              "size": 10,
              "solidity": 0.2
             }
            },
            "type": "barpolar"
           }
          ],
          "carpet": [
           {
            "aaxis": {
             "endlinecolor": "#2a3f5f",
             "gridcolor": "white",
             "linecolor": "white",
             "minorgridcolor": "white",
             "startlinecolor": "#2a3f5f"
            },
            "baxis": {
             "endlinecolor": "#2a3f5f",
             "gridcolor": "white",
             "linecolor": "white",
             "minorgridcolor": "white",
             "startlinecolor": "#2a3f5f"
            },
            "type": "carpet"
           }
          ],
          "choropleth": [
           {
            "colorbar": {
             "outlinewidth": 0,
             "ticks": ""
            },
            "type": "choropleth"
           }
          ],
          "contour": [
           {
            "colorbar": {
             "outlinewidth": 0,
             "ticks": ""
            },
            "colorscale": [
             [
              0,
              "#0d0887"
             ],
             [
              0.1111111111111111,
              "#46039f"
             ],
             [
              0.2222222222222222,
              "#7201a8"
             ],
             [
              0.3333333333333333,
              "#9c179e"
             ],
             [
              0.4444444444444444,
              "#bd3786"
             ],
             [
              0.5555555555555556,
              "#d8576b"
             ],
             [
              0.6666666666666666,
              "#ed7953"
             ],
             [
              0.7777777777777778,
              "#fb9f3a"
             ],
             [
              0.8888888888888888,
              "#fdca26"
             ],
             [
              1,
              "#f0f921"
             ]
            ],
            "type": "contour"
           }
          ],
          "contourcarpet": [
           {
            "colorbar": {
             "outlinewidth": 0,
             "ticks": ""
            },
            "type": "contourcarpet"
           }
          ],
          "heatmap": [
           {
            "colorbar": {
             "outlinewidth": 0,
             "ticks": ""
            },
            "colorscale": [
             [
              0,
              "#0d0887"
             ],
             [
              0.1111111111111111,
              "#46039f"
             ],
             [
              0.2222222222222222,
              "#7201a8"
             ],
             [
              0.3333333333333333,
              "#9c179e"
             ],
             [
              0.4444444444444444,
              "#bd3786"
             ],
             [
              0.5555555555555556,
              "#d8576b"
             ],
             [
              0.6666666666666666,
              "#ed7953"
             ],
             [
              0.7777777777777778,
              "#fb9f3a"
             ],
             [
              0.8888888888888888,
              "#fdca26"
             ],
             [
              1,
              "#f0f921"
             ]
            ],
            "type": "heatmap"
           }
          ],
          "histogram": [
           {
            "marker": {
             "pattern": {
              "fillmode": "overlay",
              "size": 10,
              "solidity": 0.2
             }
            },
            "type": "histogram"
           }
          ],
          "histogram2d": [
           {
            "colorbar": {
             "outlinewidth": 0,
             "ticks": ""
            },
            "colorscale": [
             [
              0,
              "#0d0887"
             ],
             [
              0.1111111111111111,
              "#46039f"
             ],
             [
              0.2222222222222222,
              "#7201a8"
             ],
             [
              0.3333333333333333,
              "#9c179e"
             ],
             [
              0.4444444444444444,
              "#bd3786"
             ],
             [
              0.5555555555555556,
              "#d8576b"
             ],
             [
              0.6666666666666666,
              "#ed7953"
             ],
             [
              0.7777777777777778,
              "#fb9f3a"
             ],
             [
              0.8888888888888888,
              "#fdca26"
             ],
             [
              1,
              "#f0f921"
             ]
            ],
            "type": "histogram2d"
           }
          ],
          "histogram2dcontour": [
           {
            "colorbar": {
             "outlinewidth": 0,
             "ticks": ""
            },
            "colorscale": [
             [
              0,
              "#0d0887"
             ],
             [
              0.1111111111111111,
              "#46039f"
             ],
             [
              0.2222222222222222,
              "#7201a8"
             ],
             [
              0.3333333333333333,
              "#9c179e"
             ],
             [
              0.4444444444444444,
              "#bd3786"
             ],
             [
              0.5555555555555556,
              "#d8576b"
             ],
             [
              0.6666666666666666,
              "#ed7953"
             ],
             [
              0.7777777777777778,
              "#fb9f3a"
             ],
             [
              0.8888888888888888,
              "#fdca26"
             ],
             [
              1,
              "#f0f921"
             ]
            ],
            "type": "histogram2dcontour"
           }
          ],
          "mesh3d": [
           {
            "colorbar": {
             "outlinewidth": 0,
             "ticks": ""
            },
            "type": "mesh3d"
           }
          ],
          "parcoords": [
           {
            "line": {
             "colorbar": {
              "outlinewidth": 0,
              "ticks": ""
             }
            },
            "type": "parcoords"
           }
          ],
          "pie": [
           {
            "automargin": true,
            "type": "pie"
           }
          ],
          "scatter": [
           {
            "fillpattern": {
             "fillmode": "overlay",
             "size": 10,
             "solidity": 0.2
            },
            "type": "scatter"
           }
          ],
          "scatter3d": [
           {
            "line": {
             "colorbar": {
              "outlinewidth": 0,
              "ticks": ""
             }
            },
            "marker": {
             "colorbar": {
              "outlinewidth": 0,
              "ticks": ""
             }
            },
            "type": "scatter3d"
           }
          ],
          "scattercarpet": [
           {
            "marker": {
             "colorbar": {
              "outlinewidth": 0,
              "ticks": ""
             }
            },
            "type": "scattercarpet"
           }
          ],
          "scattergeo": [
           {
            "marker": {
             "colorbar": {
              "outlinewidth": 0,
              "ticks": ""
             }
            },
            "type": "scattergeo"
           }
          ],
          "scattergl": [
           {
            "marker": {
             "colorbar": {
              "outlinewidth": 0,
              "ticks": ""
             }
            },
            "type": "scattergl"
           }
          ],
          "scattermap": [
           {
            "marker": {
             "colorbar": {
              "outlinewidth": 0,
              "ticks": ""
             }
            },
            "type": "scattermap"
           }
          ],
          "scattermapbox": [
           {
            "marker": {
             "colorbar": {
              "outlinewidth": 0,
              "ticks": ""
             }
            },
            "type": "scattermapbox"
           }
          ],
          "scatterpolar": [
           {
            "marker": {
             "colorbar": {
              "outlinewidth": 0,
              "ticks": ""
             }
            },
            "type": "scatterpolar"
           }
          ],
          "scatterpolargl": [
           {
            "marker": {
             "colorbar": {
              "outlinewidth": 0,
              "ticks": ""
             }
            },
            "type": "scatterpolargl"
           }
          ],
          "scatterternary": [
           {
            "marker": {
             "colorbar": {
              "outlinewidth": 0,
              "ticks": ""
             }
            },
            "type": "scatterternary"
           }
          ],
          "surface": [
           {
            "colorbar": {
             "outlinewidth": 0,
             "ticks": ""
            },
            "colorscale": [
             [
              0,
              "#0d0887"
             ],
             [
              0.1111111111111111,
              "#46039f"
             ],
             [
              0.2222222222222222,
              "#7201a8"
             ],
             [
              0.3333333333333333,
              "#9c179e"
             ],
             [
              0.4444444444444444,
              "#bd3786"
             ],
             [
              0.5555555555555556,
              "#d8576b"
             ],
             [
              0.6666666666666666,
              "#ed7953"
             ],
             [
              0.7777777777777778,
              "#fb9f3a"
             ],
             [
              0.8888888888888888,
              "#fdca26"
             ],
             [
              1,
              "#f0f921"
             ]
            ],
            "type": "surface"
           }
          ],
          "table": [
           {
            "cells": {
             "fill": {
              "color": "#EBF0F8"
             },
             "line": {
              "color": "white"
             }
            },
            "header": {
             "fill": {
              "color": "#C8D4E3"
             },
             "line": {
              "color": "white"
             }
            },
            "type": "table"
           }
          ]
         },
         "layout": {
          "annotationdefaults": {
           "arrowcolor": "#2a3f5f",
           "arrowhead": 0,
           "arrowwidth": 1
          },
          "autotypenumbers": "strict",
          "coloraxis": {
           "colorbar": {
            "outlinewidth": 0,
            "ticks": ""
           }
          },
          "colorscale": {
           "diverging": [
            [
             0,
             "#8e0152"
            ],
            [
             0.1,
             "#c51b7d"
            ],
            [
             0.2,
             "#de77ae"
            ],
            [
             0.3,
             "#f1b6da"
            ],
            [
             0.4,
             "#fde0ef"
            ],
            [
             0.5,
             "#f7f7f7"
            ],
            [
             0.6,
             "#e6f5d0"
            ],
            [
             0.7,
             "#b8e186"
            ],
            [
             0.8,
             "#7fbc41"
            ],
            [
             0.9,
             "#4d9221"
            ],
            [
             1,
             "#276419"
            ]
           ],
           "sequential": [
            [
             0,
             "#0d0887"
            ],
            [
             0.1111111111111111,
             "#46039f"
            ],
            [
             0.2222222222222222,
             "#7201a8"
            ],
            [
             0.3333333333333333,
             "#9c179e"
            ],
            [
             0.4444444444444444,
             "#bd3786"
            ],
            [
             0.5555555555555556,
             "#d8576b"
            ],
            [
             0.6666666666666666,
             "#ed7953"
            ],
            [
             0.7777777777777778,
             "#fb9f3a"
            ],
            [
             0.8888888888888888,
             "#fdca26"
            ],
            [
             1,
             "#f0f921"
            ]
           ],
           "sequentialminus": [
            [
             0,
             "#0d0887"
            ],
            [
             0.1111111111111111,
             "#46039f"
            ],
            [
             0.2222222222222222,
             "#7201a8"
            ],
            [
             0.3333333333333333,
             "#9c179e"
            ],
            [
             0.4444444444444444,
             "#bd3786"
            ],
            [
             0.5555555555555556,
             "#d8576b"
            ],
            [
             0.6666666666666666,
             "#ed7953"
            ],
            [
             0.7777777777777778,
             "#fb9f3a"
            ],
            [
             0.8888888888888888,
             "#fdca26"
            ],
            [
             1,
             "#f0f921"
            ]
           ]
          },
          "colorway": [
           "#636efa",
           "#EF553B",
           "#00cc96",
           "#ab63fa",
           "#FFA15A",
           "#19d3f3",
           "#FF6692",
           "#B6E880",
           "#FF97FF",
           "#FECB52"
          ],
          "font": {
           "color": "#2a3f5f"
          },
          "geo": {
           "bgcolor": "white",
           "lakecolor": "white",
           "landcolor": "#E5ECF6",
           "showlakes": true,
           "showland": true,
           "subunitcolor": "white"
          },
          "hoverlabel": {
           "align": "left"
          },
          "hovermode": "closest",
          "mapbox": {
           "style": "light"
          },
          "paper_bgcolor": "white",
          "plot_bgcolor": "#E5ECF6",
          "polar": {
           "angularaxis": {
            "gridcolor": "white",
            "linecolor": "white",
            "ticks": ""
           },
           "bgcolor": "#E5ECF6",
           "radialaxis": {
            "gridcolor": "white",
            "linecolor": "white",
            "ticks": ""
           }
          },
          "scene": {
           "xaxis": {
            "backgroundcolor": "#E5ECF6",
            "gridcolor": "white",
            "gridwidth": 2,
            "linecolor": "white",
            "showbackground": true,
            "ticks": "",
            "zerolinecolor": "white"
           },
           "yaxis": {
            "backgroundcolor": "#E5ECF6",
            "gridcolor": "white",
            "gridwidth": 2,
            "linecolor": "white",
            "showbackground": true,
            "ticks": "",
            "zerolinecolor": "white"
           },
           "zaxis": {
            "backgroundcolor": "#E5ECF6",
            "gridcolor": "white",
            "gridwidth": 2,
            "linecolor": "white",
            "showbackground": true,
            "ticks": "",
            "zerolinecolor": "white"
           }
          },
          "shapedefaults": {
           "line": {
            "color": "#2a3f5f"
           }
          },
          "ternary": {
           "aaxis": {
            "gridcolor": "white",
            "linecolor": "white",
            "ticks": ""
           },
           "baxis": {
            "gridcolor": "white",
            "linecolor": "white",
            "ticks": ""
           },
           "bgcolor": "#E5ECF6",
           "caxis": {
            "gridcolor": "white",
            "linecolor": "white",
            "ticks": ""
           }
          },
          "title": {
           "x": 0.05
          },
          "xaxis": {
           "automargin": true,
           "gridcolor": "white",
           "linecolor": "white",
           "ticks": "",
           "title": {
            "standoff": 15
           },
           "zerolinecolor": "white",
           "zerolinewidth": 2
          },
          "yaxis": {
           "automargin": true,
           "gridcolor": "white",
           "linecolor": "white",
           "ticks": "",
           "title": {
            "standoff": 15
           },
           "zerolinecolor": "white",
           "zerolinewidth": 2
          }
         }
        },
        "title": {
         "text": "Visualisation des opportunités boursières"
        }
       }
      }
     },
     "metadata": {},
     "output_type": "display_data"
    }
   ],
   "source": [
    "px.scatter_3d(df_filtered, \n",
    "              x=\"roe\", \n",
    "              y=\"debtToEquity\", \n",
    "              z=\"peRatio\", \n",
    "              color=\"symbol\", \n",
    "              hover_name='calendarYear',\n",
    "              title = 'Visualisation des opportunités boursières',\n",
    "              size_max=10).show()"
   ]
  },
  {
   "cell_type": "markdown",
   "id": "7f10a16e",
   "metadata": {
    "papermill": {
     "duration": 0.399036,
     "end_time": "2025-03-21T14:43:43.707024",
     "exception": false,
     "start_time": "2025-03-21T14:43:43.307988",
     "status": "completed"
    },
    "tags": []
   },
   "source": [
    "On observe ici que VRTX et ZS ont toutes deux les potentielles meilleures opportunités en 2024 selon notre hypothèse.  \n",
    "\n",
    "# Suite du projet\n",
    "Les conclusions sont intéressantes, mais le données ne semblent pas fiables en comparant les valeurs de peRatio par exemple avec d'autres sources. Il conviendrait donc de tester d'autres sources"
   ]
  }
 ],
 "metadata": {
  "kaggle": {
   "accelerator": "none",
   "dataSources": [
    {
     "datasetId": 6815169,
     "sourceId": 10955153,
     "sourceType": "datasetVersion"
    }
   ],
   "dockerImageVersionId": 30918,
   "isGpuEnabled": false,
   "isInternetEnabled": true,
   "language": "python",
   "sourceType": "notebook"
  },
  "kernelspec": {
   "display_name": "Python 3",
   "language": "python",
   "name": "python3"
  },
  "language_info": {
   "codemirror_mode": {
    "name": "ipython",
    "version": 3
   },
   "file_extension": ".py",
   "mimetype": "text/x-python",
   "name": "python",
   "nbconvert_exporter": "python",
   "pygments_lexer": "ipython3",
   "version": "3.13.1"
  },
  "papermill": {
   "default_parameters": {},
   "duration": 14.077606,
   "end_time": "2025-03-21T14:43:44.811912",
   "environment_variables": {},
   "exception": null,
   "input_path": "__notebook__.ipynb",
   "output_path": "__notebook__.ipynb",
   "parameters": {},
   "start_time": "2025-03-21T14:43:30.734306",
   "version": "2.6.0"
  }
 },
 "nbformat": 4,
 "nbformat_minor": 5
}
